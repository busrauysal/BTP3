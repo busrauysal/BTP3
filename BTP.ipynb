{
 "cells": [
  {
   "cell_type": "markdown",
   "metadata": {},
   "source": [
    "# Zaman Serileri\n",
    "\n",
    "Bir zaman serisi, her biri belirli bir $t$ zamanında kaydedilmekte olan $X_t$ gözlemleri kümesidir. Kesikli zaman serileri gözlemlerin yapıldığı zamanların $t$ değerlerinin birbirlerinden ayrık olduğunu söylemektedir. Gözlemler sabit zaman aralıklarında yapıldığı durumlar kesikli zaman serilerine örnek olarak verilebilir. Sürekli zaman serileri ise gözlemlerin sürekli bir $T[0,1]$ aralığında yapılmasıyla oluşmaktadır.(Brockwell,2002)\n",
    "\n",
    "Bir çok alanda bilim, mühendislik ve ticaret dalında zaman içinde sıralı olarak ölçülen veriler bulunmaktadır. Örneğin bankalar her gün faiz oranlarını ve döviz kurlarını tutar ya da meteoroloji ofisleri sıcaklık değerlerinin günlük olarak tutarlar. Bir değişken, zaman içinde belirli sabit bir aralıkta ölçüldüğünde, elde edilen veriler bir zaman dizisi oluşturmaktadır.(Metcalfe,2011)\n",
    "\n",
    "## Zaman Serilerinin Analizi\n",
    "\n",
    "Ayrıca zaman serileri bir çok alanda karşımıza çıkan belirli aralıklarla ölçümlenmiş veri kümeleri olarak da tanımlanabilir. Temel bir veri analizinde birbirine benzer ve bağımsız dağılmış veriler mevcut iken zaman serilerinde birbiriyle ilişkili veriler bulunur. Zaman serilerindeki analizin amacı; geçmiş verilerdeki anomalileri saptamak, birbirleriyle ilişkilerini gözlemlemek ve gelecek için tahminleme yapabilmektir. Basit tanımlayıcı analizlerle verinin anlaşılması sağlanırken, kapsamlı bir analiz ile gözlenen verilerin rassal modellemesi yapılabilmektedir.(Marcel Dettling,2014)\n",
    "\n",
    "Zaman serilerinin temel özellikleri trend ve mevsimsel değişimlerdir. Bunlar matematiksel fonksiyonları ile deterministik olarak modellenebilirler. Ancak, zaman serilerinin bir diğer önemli özelliği ise birbirleriyle ilişkili olmaları yani birbirlerine yakın gözlemlerin korelasyon içermesidir. Bir zaman dizisi analizindeki temel amaç, bu istatistiksel ilişkiyi ve verideki temel özellikleri uygun istatistiksel modeller ve tanımlayıcı yöntemler kullanarak açıklamaktır. Yöntemlerin uygunluğu ise daha sonrasında uygulanacak istatiksel testlerle ölçümlenebilmektedir. (Metcalfe,2011)\n",
    "\n",
    "### Zaman Serisi Analizindeki Hedefler\n",
    "$Keşif Analizi:$\n",
    "Zaman serileri keşif analizleri ağırlıklı olarak zaman serilerinin temel özelliklerinin (mevsimsellik, trend, korelasyon...) saptanması, grafik çizimlerinin yapılması yani deterministik ve stokastik kısımların doğru şekilde incelenebilmesi için yapılır.\n",
    "\n",
    "$Modelleme:$\n",
    "Zaman serisine uygun bir modellenmenin yapılması keşif analizinde elde edilen bilgiler yardımıyla yapılmaktadır. Düzgün modelleme yapılmayan analizler bir sonraki adımda doğru sonuçlar vermeyecektir.\n",
    "\n",
    "$Tahmin:$\n",
    "Zaman serileri analizinde sıkça kullanılan yapılardan biri olan gelecekteki gözlemlerin tahmin edilmesidir. Fakat gelecekteki verilerin tahmini zaman serisinin geçmiş ve şimdiki özelliklerinin devam ettiği varsayımına dayanır. İyi bir tahmin yapılabilmesi için keşif analizinin doğru yapılması ve modelin doğru kurulması gerekmektedir.\n",
    "\n",
    "$Regresyon:$\n",
    "Zaman serisi analizinde gözlemlerin gelecekteki tahminlerini yapmaktan başka sıkça kullanılan diğer bir yapı ise gözlemler arasındaki ilişkinin saptanmasıdır. Bu şekilde zaman serileri daha açıklayıcı hale gelmektedir.\n",
    "\n",
    "$Süreç$ $Kontrol:$\n",
    "Optimal yönetim ve kalite kontrol amacıyla birçok üretim veya diğer süreçler ölçümlenir. Bu genellikle rassal bir modelin uygun olduğu zaman serisi verisi ile sonuçlanır. Bu, verilerdeki sinyalin anlaşılmasını sağlamaktadır. Üretimdeki hangi dalgalanmaların normal olduğunu ve hangilerinin müdahale gerektirdiğini izlemek mümkün hale gelir.\n",
    "\n",
    "### Zaman Serisi Analizindeki Anomalilerin tespiti\n",
    "Anomaliler, iyi tanımlanmış normal davranış kavramına uymayan verilerdeki yapılardır. Bu yapıları bulma problemi anomallilerin tespiti olarak adlandırılır. Anomali tespitinin önemi, verideki anormalliklerin çok çeşitli uygulama alanlarında önemli ve eyleme geçirilebilir bilgilere dönüşebilir olmasıdır. \n",
    "\n",
    "ARIMA, anomali tespiti için kullanılan bir modeldir. Sinyalleri doğru tahmin etmek ve anormallikleri bulmak için yeterince güçlü bir model olan ARIMA modelinin uygulanması için verinin trend, mevsimsellik gibi özelliklerinden arındırılması gerekmektedir.(Time Series Anomaly Detection Algorithms,2017)\n",
    "\n",
    "### Veri seti\n",
    "Veri analizinde kullanacağımız veri seti Londra'daki platin fiyatlarının dolar bazında 1990 ile 2018 yılları arasındaki günlük sabit değerleridir. Sabit fiyat, dünya çapındaki müşterilere ait siparişlerin eşleştirilmesini temsil eder.(www.Quandl.com)\n",
    "\n",
    "Platin çok değerli madenler arasındadır. Çok fazla değerli olmasının nedeni ender bulunuşu ve kullanım alanlarının fazlasıyla geniş olmasıdır. Otomotiv, diş hekimliği, jet ve füze motorları, laboratuvar gibi birçok alanda kullanılmaktadır. \n",
    "\n",
    "## Zaman serilerinin açıklanması\n",
    "Zaman serisi analizinde yapılması gereken ilk aşama verinin yüklenmesidir. Bunun için aşağıdaki R kodları kullanılmaktadır."
   ]
  },
  {
   "cell_type": "code",
   "execution_count": 1,
   "metadata": {},
   "outputs": [
    {
     "name": "stdout",
     "output_type": "stream",
     "text": [
      "package 'Quandl' successfully unpacked and MD5 sums checked\n",
      "\n",
      "The downloaded binary packages are in\n",
      "\tC:\\Users\\Büşra\\AppData\\Local\\Temp\\Rtmps3YB0M\\downloaded_packages\n"
     ]
    },
    {
     "name": "stderr",
     "output_type": "stream",
     "text": [
      "Warning message:\n",
      "\"package 'Quandl' was built under R version 3.4.4\"Loading required package: xts\n",
      "Loading required package: zoo\n",
      "\n",
      "Attaching package: 'zoo'\n",
      "\n",
      "The following objects are masked from 'package:base':\n",
      "\n",
      "    as.Date, as.Date.numeric\n",
      "\n",
      "Warning message:\n",
      "\"package 'forecast' was built under R version 3.4.3\"Warning message:\n",
      "\"package 'tseries' was built under R version 3.4.3\""
     ]
    }
   ],
   "source": [
    "install.packages(\"Quandl\", repos='http://cran.us.r-project.org')\n",
    "library(Quandl)\n",
    "library(forecast)\n",
    "library(tseries)\n",
    "PlatinumPrices<-Quandl(\"LPPM/PALL\")"
   ]
  },
  {
   "cell_type": "markdown",
   "metadata": {},
   "source": [
    "Verinin yüklenmesi tamamlandıktan sonra verinin genel bir çerçevede incelenmesi yapılması gereken aşamalardan birisidir. Bunun için özetine bakılması, grafiğinin çizilmesi gerekir."
   ]
  },
  {
   "cell_type": "code",
   "execution_count": 2,
   "metadata": {},
   "outputs": [
    {
     "data": {
      "text/plain": [
       "      Date                USD AM            EUR AM           GBP AM      \n",
       " Min.   :1990-04-02   Min.   :  78.75   Min.   : 116.1   Min.   : 40.40  \n",
       " 1st Qu.:1997-04-07   1st Qu.: 161.00   1st Qu.: 246.2   1st Qu.: 99.65  \n",
       " Median :2004-04-13   Median : 325.00   Median : 420.2   Median :179.20  \n",
       " Mean   :2004-04-11   Mean   : 394.79   Mean   : 432.0   Mean   :253.61  \n",
       " 3rd Qu.:2011-04-13   3rd Qu.: 637.00   3rd Qu.: 575.2   3rd Qu.:413.27  \n",
       " Max.   :2018-04-25   Max.   :1128.00   Max.   :1179.5   Max.   :819.47  \n",
       "                                        NA's   :2213                     \n",
       "     USD PM            EUR PM           GBP PM     \n",
       " Min.   :  78.25   Min.   : 122.8   Min.   : 41.0  \n",
       " 1st Qu.: 161.31   1st Qu.: 246.2   1st Qu.: 99.6  \n",
       " Median : 325.00   Median : 418.3   Median :179.2  \n",
       " Mean   : 395.01   Mean   : 432.4   Mean   :253.8  \n",
       " 3rd Qu.: 638.00   3rd Qu.: 576.8   3rd Qu.:413.5  \n",
       " Max.   :1129.00   Max.   :1179.7   Max.   :819.2  \n",
       " NA's   :53        NA's   :2248     NA's   :53     "
      ]
     },
     "metadata": {},
     "output_type": "display_data"
    }
   ],
   "source": [
    "summary(PlatinumPrices)"
   ]
  },
  {
   "cell_type": "markdown",
   "metadata": {},
   "source": [
    "Yukarıdaki veri setimizdeki tüm değerlerin özeti görülmektedir. Çıkarılan özete göre, bu veri seti 1990 ile 2018 arasındaki platin fiyatlarının açılış ve kapanış fiyatlarını dolar, euro gibi para birimlerini baz alarak göstermektedir. Fakat yapılacak ilk aşama boyunca platinin dolar açılış fiyatı kullanıcak ve bu veriler arasında anomali tespiti yapılacaktır. İkinci sütunda dolar açılış fiyatlarının minimum fiyat 78.75(dolar) iken maximum 1128 (dolar) olduğu görülmektedir.\n",
    "Ayrıca yukarıdaki özet PlatinumPrices nesnesinin içerisinde yer alan tüm para birimleri bazında platin fiyatları içermektedir.\n",
    "\n",
    "Zaman serileri ts sınıfının bir R nesnesi olarak saklanır. Zaman serisinin doğru analizi için PlatinumPrices nesnesinin ikinci sütununda yer alan dolar açılış fiyatları zaman serisine dönüştürülmelidir. Zaman serisi nesneleri, yukarıda verilen işlevlerin başlangıcı, sonu ve sıklığını içeren bir dizi yönteme sahiptir. Fakat zaman serileri oluşturulurken sadece frekansının yazılması da yeterli olacaktır.\n",
    "\n",
    "Ayrıca zaman serisi analizindeki en önemli adımlardan biri verileri çizmektir; yani, grafiği oluşturmaktır."
   ]
  },
  {
   "cell_type": "code",
   "execution_count": 3,
   "metadata": {},
   "outputs": [
    {
     "data": {
      "image/png": "[encoded data removed]",
      "text/plain": [
       "Plot with title \"Platinum Prices 1990-2018\""
      ]
     },
     "metadata": {},
     "output_type": "display_data"
    }
   ],
   "source": [
    "PlatinumPricests<-ts(PlatinumPrices[,2],freq=365)\n",
    "plot(PlatinumPricests,type='s',xlab=\"Time\",ylab=\"($)\", main=\"Platinum Prices 1990-2018\")"
   ]
  },
  {
   "cell_type": "markdown",
   "metadata": {},
   "source": [
    "Yukarıda çizilen grafikten görüldüğü üzere ele alacağımız veri seti 1990-2018 yılları arasında Platin'in dolar fiyatını içermektedir. \n",
    "Veri setinin grafiğini çizmek için yukarıdaki R komutu kullanılır. 2008 yılına kadar neredeyse durağan seyreden fiyatlar 2008-2010 yılları arasında bir dalgalanma olduğu çizilen grafikte görülmektedir. 2010-2015 yıllarında yüksek fiyatlarda seyretmiş ve daha sonra azalarak günümüzdeki fiyatına ulaşmaktadır.Bu dalgalanmayı içeren sinyaller veri analizi aşamalarında saptanacak ve veriden uzaklaştıralacaktır. \n",
    "Mevsimsellik; aylar, haftanın günleri, mevsimler, vb. gibi sürelerleilgili düzenli ve yinelenen yüksek ve düşük örüntüleri ifade etmektedir. Yukarıda görüldüğü üzere veride herhangi bir mevsimselliğe rastlanmamaktadır.\n",
    "Trend; ortalama olarak, ölçümlerin zamanla artma (veya azaltma) eğiliminde olması anlamına gelir. Yıllar içerisinde platin fiyatlarında bir artış olduğu görülmektedir. \n",
    "Aykırı değerler; regresyon çizgisinden çok uzak değerler olarak düşünülebilir."
   ]
  },
  {
   "cell_type": "markdown",
   "metadata": {},
   "source": [
    "### Zaman serilerinin ayrıştırılması (Decomposition)\n",
    "Zaman serilerinin çoğu trend ve mevsimsel etkiye sahiptir.\n",
    "\n",
    "$Trend:$ ortalama olarak, ölçümlerin zamanla artma (veya azaltma) eğiliminde olması anlamına gelir.\n",
    "\n",
    "$Mevsimsellik:$yani mevsimler,aylar, haftanın günleri, gibi sürelerle ilgili düzenli ve yinelenen yüksek ve düşük örüntülerdir.\n",
    "Serilerin seviyesinde veya varyansta ani değişiklikler var mı?Ayrıştırma (decomposition) modelleri ile serilerin bu özelliklerden ayrılması sağlanır. Basit bir toplamsal(additive) model aşağıdaki şekilde gösterilebilir.\n",
    "$$X_t=m_t+s_t+R_t$$\n",
    "Buradaki $X_t$ zaman serisini gösterir.$m_t$ trend bileşenini ifade ederken, $s_t$ mevsimsel etkiyi göstermektedir. $R_t$ genellikle ortalaması sıfır olan korelasyonlu rastgele değişkenlerin bir dizisi yani kalan terimi göstermektedir.Amaç, Rt'nin sabit bir zaman serileri süreci olduğu bir ayrıştırma bulmaktır. Böyle bir model hava yolcu rezervasyonları, işsizlik gibi bir çok modelde karşımıza çıkabilir. Ayrıca tüm bu serilerin daha yakından incelenmesi, mevsimsel etkinin ve trendin arttığında rasgele değişimin arttığını göstermektedir. Bu gibi durumlarda, çarpımsal(multiplicative) model kullanılmaktadır. Çarpımsal model aşağıdaki şekilde ifade edilebilir.\n",
    "$$X_t=m_t*s_t*R_t$$\n",
    "\n",
    "(Marcel Dettling,2014)\n",
    "\n",
    "Trend $m_t$ , mevsimsellik $s_t$ ve kalan terimlerin  $R_t$ tahminlemesi bir çok açıdan yapılabilir. Örneğin Decompose() fonksiyonu trend, mevsimsellik değerlerini modelin toplamsal ya da çarpımsal parametresine göre ayrıştırmaktadır. Hem toplamsal(additive) hem de çarpımsal(multiplicative) model için zaman serisinin ayrıştırılması gösterilmiştir.\n",
    "R'nin stl () komutu, periyodik bir zaman serisinin trend, mevsimsellik ve geri kalanına ayrışmasını sağlayan başka bir yöntemdir. Tüm tahminler LOESS yumuşaklığına dayanmaktadır. Çıktısı neredeyse decompose () ile elde ettiğimiz değerlere benzer olmasına rağmen, bu fonksiyon daha güvenilir sonuçlar verebilmektedir.\n",
    "\n",
    "#### Beyaz Gürültü\n",
    "Veri setinin içindeki trend, mevsimsellik ve üssel dağılımları yukarıda anlatılan işlemlerle çıkarıldıktan sonra elimizde kalan grafiğin eğer herhangi bir aykırı değerler içermiyorsa beyaz gürültü olması beklenmektedir. Trendin ayrıştırılması için linear regresyon, mevsimselliğin ayrıştırılması için fourrier serileri ve üssel dağılımın ayrıştırılması için ise ARIMA modellerinin çıkarılması gerekmektedir. Aslında decompose() ve stl() fonksiyonları bu trend ve mevsimsellik için bu ayrıştırmayı yapmaktadır.\n",
    "Bu yüzden ayrışmadan elde kalan $R_t$ random fonksiyonunu gürültü fonksiyonuna yakın olması beklenmektedir. \n",
    "\n",
    "$Beyaz gürültü:$ Bir ${X_t}$ fonksiyonu bağımsız ve ortalaması sıfır ve varyansı $σ^2$ olarak dağılıma sahipse Beyaz Gürültü olarak adlandırılır. Bir beyaz gürültü aşağıdaki notasyon ifade edilebilir.\n",
    "$${Xt} ∼ N(0, σ^2)$$\n",
    "(Brockwell,2002)\n",
    "\n",
    "Aşağıda decompose() işleminin hem toplamsal, hem çarpımsal modele göre ayrıştırılması aynı zamanda stl() e göre yapılan ayrıştırmanın R komutları görülmektedir. Ayrıca bu ayrıştırmaların grafikleri oluşturulmuştur."
   ]
  },
  {
   "cell_type": "code",
   "execution_count": 4,
   "metadata": {
    "scrolled": false
   },
   "outputs": [
    {
     "data": {
      "image/png": "[encoded data removed]",
      "text/plain": [
       "plot without title"
      ]
     },
     "metadata": {},
     "output_type": "display_data"
    },
    {
     "data": {
      "image/png": "[encoded data removed]",
      "text/plain": [
       "plot without title"
      ]
     },
     "metadata": {},
     "output_type": "display_data"
    },
    {
     "data": {
      "image/png": "[encoded data removed]",
      "text/plain": [
       "plot without title"
      ]
     },
     "metadata": {},
     "output_type": "display_data"
    }
   ],
   "source": [
    "PlatinumPricesDecomposeA<-decompose(PlatinumPricests, type = c(\"additive\"), filter = NULL)\n",
    "plot(PlatinumPricesDecomposeA)\n",
    "PlatinumPricesDecomposeM<-decompose(PlatinumPricests, type = c(\"multiplicative\"), filter = NULL)\n",
    "plot(PlatinumPricesDecomposeM)\n",
    "PlatinumPricesSTL<-stl(PlatinumPricests,s.window='periodic')\n",
    "plot(PlatinumPricesSTL)\n"
   ]
  },
  {
   "cell_type": "markdown",
   "metadata": {},
   "source": [
    "Zaman serisi ayrıştırmasındaki $observed$ ile gösterilen verilerin gerçek grafiğidir. $Trend$ bileşeni $m_t$ yani eğilimi gösterirken, $seasonal$ verideki mevsimselliği yani $s_t$ temsil etmektedir. $Random$ ise gerçek verilerden $m_t$ ve $s_t$ değerlerinin çıkarılması ile oluşur. Bu da $R_t$ kalan değeri gösterir. Stl() ile yapılan ayrıştırma işleminde ise $remainder$ trend ve mevsimsellik çıkarıldığındaki kalan değeri ifade etmektedir.\n",
    "\n",
    "decompose() ve stl() ile yapılan ayrıştırmalar incelendiğinde hangisinin verinin ayrıştırmada doğru sonuçlar vereceği yani random fonksiyonlarından hangisinin beyaz gürültü fonksiyonuna daha yakın olduğu göz ile tespit edilememektedir. Bunun için normallik testlerinden yararlanılması gerekmektedir.\n",
    "\n",
    "#### Beyaz Gürültü Testleri\n",
    "Yukarıda yapılan ayrıştırma işlemlerinin amacı belirgin bir sapma göstermeyen ve özellikle belirgin bir eğilim veya mevsimselliğe sahip olmayan bir seri üretmektir.Bu aşamadan bir sonraki adım tahmini gürültü serisini modellemektir (Yani, verilerden trend ve mevsimsel bileşenleri tahmin ederek ve çıkararak elde edilen artıklar).Eğer bu artıklar arasında bir bağımlılık yoksa, onları bağımsız rasgele değişkenlerin gözlemleri olarak görebiliriz ve onların ortalama ve varyanslarını tahmin etmek dışında başka bir modelleme yoktur. Ancak, artıklar arasında önemli bir bağımlılık varsa, o zaman bağımlılığı açıklayan gürültü için daha karmaşık bir durağan zaman serisi modelini aramamız gerekir.\n",
    "\n",
    "$R_t$ serisinin beyaz gürültü olup olmadığı için testler kullanılmalıdır. Eğer beyaz gürültü ise zaman serisi açıklanmış olacaktır ve içerisinde trend ve mevsimsellikten başka bir anamoliye rastlanmamıştır diyebiliriz.Fakat değil ise o zaman ARIMA gibi modellerle içerisindeki anomaliler saptanıcaktır.(Brockwell,2002)\n",
    "\n",
    "##### Normallik Testleri\n",
    "###### Shapiro-Wilks test   \n",
    "Shapiro ve Wilk tarafından geliştirilen Shapiro-Wilk testi, çoğu durumda en güçlü ve çok amaçlı testtir. Son yıllarda, SW testi, çok çeşitli alternatif testlere kıyasla iyi güç özellikleri nedeniyle normalliğin tercih edilen testi haline gelmiştir.W test istatistiği dağılımın normal olup olmadığına karar verilmesi için kullanılır. W test istatistiği aşağıdaki notasyon ile ifade edilir.\n",
    "$$W=\\frac{\\sum_i(a_ix_i)^2}{\\sum_i(x_i-\\bar{x})^2}$$\n",
    "$x_i$ veri setindeki değerleri, $\\bar{x}$,ortalamayı ve n, gözlemlerin sayısını temsil eder.${x_t}$ herhangi bir veri seti olmak üzere normalliğinin testi için kullanılan Shapiro-Wil test için Shapiro.test($x_t$) R komutu kullanılır. Eğer p değeri, istenilen $\\alpha$ değerinden küçük ise o zaman normallik hipotezini reddedilir. Test istatistiği \n",
    "0 <W ≤ 1 arasındadır. W değerinin 1'e yakın değerler için  normallik hipotezi reddedilmez. Daha küçük W için reddedilecektir. Yani W değeri büyük olan $R_t$ beyaz gürültüye daha çok benzemektedir. Test sadece n ≥ 3 değerleri için geçerlidir ve R uygulaması n 5,000'e kadar izin vermektedir. (Investigation of Four Different Normality Tests in Terms of Type 1 Error Rate and Power under Different Distributions)\n",
    "\n",
    "###### Kolmogorov-Smirnov test \n",
    "KS testi ilk olarak Kolmogorov tarafından önerilmiştir ve daha sonra Smirnov tarafından geliştirilmiştir. Bu test verilerin kümülatif dağılımını beklenen kümülatif normal dağılım ile karşılaştırır. Yani iki örneklemi karşılaştırmak için kullanılmaktadır.Test istatistiği D normalliğe karar vermek için kullanılır. D test istatistiği için  küçük değerleri, normalliği ifade etmektedir. D test istatistiği aşağıdaki notasyon ile ifade edilir.\n",
    "$$ D=\\max[F_x(u)-F_y(u)]$$\n",
    "Fakat bizim test etmemiz gereken bir örneklem olduğu için R'da kullanılan ks.test() fonskiyonunda ikinci örneklem için 'pnorm' yani örnek bir kümülatif dağılımı temsil etmektedir. (Investigation of Four Different Normality Tests in Terms of Type 1 Error Rate and Power under Different Distributions)\n",
    "Shapiro-Wilks test ile 3 ile 5000 tane veri test edilebilirken  Kolmogorov-Smirnov testi ile daha çok veri test edilebilir.\n",
    "Aşağıda ayrıştırmalardan kalan veri setleri için normallik testleri uygulanmıştır. Shapiro-Wilk testi 5000 veri ile çalıştığı için mevcut veri setimizin içerisinden örneklem oluşturarak daha doğru sonuçlar elde edilecektir."
   ]
  },
  {
   "cell_type": "code",
   "execution_count": 5,
   "metadata": {},
   "outputs": [
    {
     "data": {
      "text/plain": [
       "\n",
       "\tShapiro-Wilk normality test\n",
       "\n",
       "data:  SamplePlatinumPricesDecomposeA\n",
       "W = 0.88405, p-value < 2.2e-16\n"
      ]
     },
     "metadata": {},
     "output_type": "display_data"
    },
    {
     "data": {
      "text/plain": [
       "\n",
       "\tShapiro-Wilk normality test\n",
       "\n",
       "data:  SamplePlatinumPricesDecomposeM\n",
       "W = 0.9674, p-value < 2.2e-16\n"
      ]
     },
     "metadata": {},
     "output_type": "display_data"
    },
    {
     "data": {
      "text/plain": [
       "\n",
       "\tShapiro-Wilk normality test\n",
       "\n",
       "data:  SamplePlatinumPricesDecomposeSTL\n",
       "W = 0.88316, p-value < 2.2e-16\n"
      ]
     },
     "metadata": {},
     "output_type": "display_data"
    },
    {
     "data": {
      "text/plain": [
       "\n",
       "\tOne-sample Kolmogorov-Smirnov test\n",
       "\n",
       "data:  PlatinumPricesDecomposeA$random\n",
       "D = 0.10938, p-value < 2.2e-16\n",
       "alternative hypothesis: two-sided\n"
      ]
     },
     "metadata": {},
     "output_type": "display_data"
    },
    {
     "data": {
      "text/plain": [
       "\n",
       "\tOne-sample Kolmogorov-Smirnov test\n",
       "\n",
       "data:  PlatinumPricesDecomposeM$random\n",
       "D = 1, p-value < 2.2e-16\n",
       "alternative hypothesis: two-sided\n"
      ]
     },
     "metadata": {},
     "output_type": "display_data"
    },
    {
     "data": {
      "text/plain": [
       "\n",
       "\tOne-sample Kolmogorov-Smirnov test\n",
       "\n",
       "data:  PlatinumPricesSTL$time.series[, 3]\n",
       "D = 0.11586, p-value < 2.2e-16\n",
       "alternative hypothesis: two-sided\n"
      ]
     },
     "metadata": {},
     "output_type": "display_data"
    }
   ],
   "source": [
    "SamplePlatinumPricesDecomposeA<-sample(PlatinumPricesDecomposeA$random,5000)\n",
    "SamplePlatinumPricesDecomposeM<-sample(PlatinumPricesDecomposeM$random,5000)\n",
    "SamplePlatinumPricesDecomposeSTL<-sample(PlatinumPricesSTL$time.series[,3],5000)\n",
    "shapiro.test(SamplePlatinumPricesDecomposeA)\n",
    "shapiro.test(SamplePlatinumPricesDecomposeM)\n",
    "shapiro.test(SamplePlatinumPricesDecomposeSTL)\n",
    "ks.test(PlatinumPricesDecomposeA$random,'pnorm',mean=0,sd=sqrt(var(na.omit(PlatinumPricesDecomposeA$random))))\n",
    "ks.test(PlatinumPricesDecomposeM$random,'pnorm',mean=0,sd=sqrt(var(na.omit(PlatinumPricesDecomposeM$random))))\n",
    "ks.test(PlatinumPricesSTL$time.series[,3],'pnorm',mean=0,sd=sqrt(var(na.omit(PlatinumPricesSTL$time.series[,3]))))"
   ]
  },
  {
   "cell_type": "markdown",
   "metadata": {},
   "source": [
    "Shapiro-Wilk testinin çıktılarına göre en büyük W değeri çarpımsal model kullanılarak yapılan ayrıştırmanın 5000 verilik örnekleminden kalan verilerinde görülmektedir. Yani shapiro-wilk testine göre çarpımsal modelin $R_t$ değeri normalliğe daha yakındır. Fakat Kolmogorov-Smirnov testi ise D değeri küçük olan toplamsal ve stl ile yapılan ayrıştırmadan kalan $R_t$'nin normalliğe daha yakın olduğunu göstermektedir. Buradan anlaşılacağı üzere herhangi bir ayrıştırmanın en iyi olacağı sonucuna varılamamıştır. Yani shapiro-wilk testi ile Kolmogorov-Smirnov testi birbirleriyle çelişki çıktılara sahiptir. Bundan dolayı bir sonraki adımda yapılacak olan Box-Jenkins modelleri hem toplamsal hem de çarpımsal modellerin kalanları için uygulanmalıdır. Uyhun Box-Jenkins modelin tespiti için serinin durağan olup olmadığına karar verilmesi gerekir. Durağan bir seri için Otoregresyon Modelleri (AR),Hareketli Ortalama Modelleri (MA),Otoregresif Hareketli Ortalama Modelleri(ARMA) kullanılırken durağan olmayan seriler için bütünleşik hareketli otoregresif modeller (ARIMA) kullanılır.\n",
    "\n",
    "### Durağanlık\n",
    "Bir zaman serisi ${X_t, t=0, ± 1, ...}$, eğer her h tam sayısı için ${X_{t+h}, t=0, ± 1, ...}$ zaman kaydırılmış serisi ile benzer istatistiksel özelliklere sahipse durağandır.\n",
    "{$X_t$} bir zaman serisi aşağıdaki özelliklere sahip olsun.\n",
    "\n",
    "Beklenen Değer $\\varphi$: E($X_t$),\n",
    "\n",
    "Varyans $\\sigma^2$: Var($X_t$) ,\n",
    "\n",
    "Kovaryans $\\gamma$: Cov ($X_t$,$X_{t+h}$)\n",
    "\n",
    "Başka bir deyişle durağan zaman serisi verilerinin belirli bir zaman sürecinde sürekli artma veya azalmanın olmadığı, verilerin zaman boyunca bir yatay eksen boyunca saçılım gösterdiği biçimde tanımlanır. Genel bir tanımlama ile, sabit ortalama, sabit varyans ve seriye ait iki değer arasındaki farkın zamana değil, yalnızca iki zaman değeri arasındaki farka bağlı olması şeklinde ifade edilir.\n",
    "Bir zaman serisinin durağan olup olmadığı 2 yöntem ile saptanabilir;\n",
    "1.Serilerin zaman yolu grafiğinde ve onun korelogramında otokorelasyon ve kısmi otokorelasyon katsayıları üzerinde yapılan subjektif yargılar ile\n",
    "2.Birim köklerin varlığını için istatistiki testlerin kullanılması ile.\n",
    "\n",
    "Durağanlık için kullanılan bazı testlere örnek olarak Genişletilmiş Dickey-Fuller (ADF) Testi ve KPSS Testi verilebilir.(Marcel Dettling,2014)\n",
    "\n",
    "### Box-Jenkins Modelleri\n",
    "Gecikmeli doğrusal ilişkiler yoluyla ortaya çıkabilen korelasyonun getirilmesi, otoregresif (AR), hareketli ortalamalar(MA) otoregresif hareketli ortalama (ARMA) modellerin önerilmesine yol açmaktadır. Durağan olmayan modeller için Box ve Jenkins (1970) tarafından yapılan otoregresif entegre hareketli ortalama (ARIMA) modeli ortaya çıkmıştır. \n",
    "\n",
    "#### Durağan Zaman Serisi Modelleri\n",
    "##### Otoregresif Modeller (AR)\n",
    "Bir zaman serisi modelinin en doğal formülasyonu, geçmiş değerleriyle doğrusal bir ilişkiye sahip olması yani serinin kendisinin herhangi bir gerilemesi ile arasında regresyon olmasıdır. Bu, otoregresif model ile yapılır ve zaman serilerinin açıklamanın en kullanılan modelidir.Otoregresif modeller, $x_t$ serisinin mevcut değerinin, geçmiş değerlerin, $x_{t-1}$,$x_{t-2}$,...,$x_{t-p}$ nin bir fonksiyonu olarak açıklanabileceği fikrine dayanmaktadır. Burada p, mevcut değeri tahmin etmek için gerekli olan geçmiş adım sayısını belirler. \n",
    "$AR(p)$ aşağıdaki denklemlere göre geçmiş gözlemlerin doğrusal bir kombinasyonuna dayanır:\n",
    "$$X_t=\\sum_i a_iX_{t-i}+w_t$$\n",
    "Buradaki $a_i$ değerleri katsayılardır. $w_t$ terimi bir Beyaz Gürültü işleminden gelir. $AR(p)$ modelleri sadece sabit zaman serilerine uygulanabilir. Herhangi bir eğilim ve / veya mevsimsel etkilerin öncelikle kaldırılması gerekir.\n",
    "Verilere bir $AR(p)$ modelinin p değerinin saptanması kısmi otokorelasyon fonksiyonunun(PACF) analizine dayanır. PACF analizine göre ilk olarak makul görünen en basit modeli denenir. PACF'nin 'cut-off' çizgisini kestiği tüm değerler olası p değerleridir. İlk olarak en küçük p değerinden başlanarak diğer değerler denenir. \n",
    "\n",
    "###### Kısmi Otokorelasyon Fonksiyonu(PACF)\n",
    "Genel olarak, kısmi bir korelasyon bir koşullu korelasyondur.Diğer değişkenler grubunun değerlerini bildiğimiz ve hesaba kattığımız varsayımı altında iki değişken arasındaki ilişkidir.$Y$ ve $x_3$ arasındaki kısmi korelasyon, hem $Y$ hem de $x_3$'ün $x_1$ ve $x_2$ ile ilgili olduğunu dikkate alarak belirlenen değişkenler arasındaki korelasyondur. N. dereceden Kısmi korelasyonu aşağıdaki notasyon ile tanımlayabiliriz.\n",
    "\n",
    "$$\\frac{Kovaryans(x_t,x_{t-n}|x_{t-1},x_{t-2},...x_{t-n+1})}{\\sqrt{(Varyans(x_t|x_{t-1},x_{t-2},...x_{t-n+1})Varyans(x_{t-n}|x_{t-1},x_{t-2},...x_{t-n+1})}}$$\n",
    "\n",
    "Aşağıda trend ve mevsimselliği ayrıştırıldıktan sonra kalan $R_t$ fonksiyonlarının PACF korelogramları hesaplanmıştır."
   ]
  },
  {
   "cell_type": "code",
   "execution_count": 6,
   "metadata": {
    "scrolled": true
   },
   "outputs": [
    {
     "data": {
      "image/png": "[encoded data removed]",
      "text/plain": [
       "Plot with title \"Series  na.omit(PlatinumPricesDecomposeA$random)\""
      ]
     },
     "metadata": {},
     "output_type": "display_data"
    },
    {
     "data": {
      "image/png": "[encoded data removed]",
      "text/plain": [
       "Plot with title \"Series  na.omit(PlatinumPricesDecomposeM$random)\""
      ]
     },
     "metadata": {},
     "output_type": "display_data"
    },
    {
     "data": {
      "image/png": "[encoded data removed]",
      "text/plain": [
       "Plot with title \"Series  na.omit(PlatinumPricesSTL$time.series[, 3])\""
      ]
     },
     "metadata": {},
     "output_type": "display_data"
    }
   ],
   "source": [
    "pacf(na.omit(PlatinumPricesDecomposeA$random))\n",
    "pacf(na.omit(PlatinumPricesDecomposeM$random))\n",
    "pacf(na.omit(PlatinumPricesSTL$time.series[,3]))"
   ]
  },
  {
   "cell_type": "markdown",
   "metadata": {},
   "source": [
    "Hesaplanan PACF korelogramlarına göre AR(p) modelinin p değerleri toplamsal modele göre {1,2,4,7}'dir. Çarpımsal modele göre ise {1,2,3,4}, stl modeline göre yapılan ayrıştırmaya göre ise {1,2,4,7}'dir.\n",
    "\n",
    "##### Hareketli Ortalamalar Modeli(MA)\n",
    "Hareketli ortalama (MA) modeli, mevcut beyaz gürültü teriminin ve yakın geçmişte geçen beyaz gürültü terimlerinin doğrusal bir kombinasyonu şeklinde tanımlanabilir. Birçok açıdan hareketli ortalama modellerin otoregresif modellere tamamlayıcısı olmaktadır.\n",
    "Yukarıda bahsedildiği üzere, MA(q) modelinin $E_t$ yani hata terimlerinin bir kombinasyonu olduğu görülmektedir. Aşağıdaki notasyon ile ifade edilebilir;\n",
    "$$x_t = E_t + θ_1E_{t−1} + θ_2E_{t−2} + · · · + θ_qE_{t-q}$$\n",
    "Buradaki $E_t$ değeri sıfır ortalama ve varyanslı beyaz gürültüdür. Verilere bir $MA(q)$ modelinin q değerinin saptanması otokorelasyon fonksiyonunun(ACF) analizine dayanır.\n",
    "\n",
    "###### Otokorelasyon Fonksiyonu(ACF)\n",
    "Bir zaman serisi için otokorelasyon fonksiyonu (ACF), dizinin $x_t$ ve 1, 2, 3 ve benzeri gecikmeler için dizinin gecikmeli değerleri arasındaki korelasyonları verir. Gecikmiş değerler $x_{t-1}$, $x_{t-2}$, $x_{t-3}$ ve benzeri şekilde yazılabilir. ACF,$x_t$ ve$x_{t-1}$, $x_{t-2}$, $x_{t-3}$,.. arasındaki korelasyonları verir. X_t ile X_{t+k} arasındaki otokorelasyon;\n",
    "$$Cov(X_{t+k},X_t)= \\frac{Kovaryans(x_t,x_{t+k})}{\\sqrt{(Varyans(x_t)Varyans(x_{t+k})}}$$\n",
    "\n",
    "\n",
    "Aşağıda trend ve mevsimselliği ayrıştırıldıktan sonra kalan $R_t$ fonksiyonlarının ACF korelogramları hesaplanmıştır."
   ]
  },
  {
   "cell_type": "code",
   "execution_count": 7,
   "metadata": {},
   "outputs": [
    {
     "data": {
      "image/png": "[encoded data removed]",
      "text/plain": [
       "Plot with title \"Series  na.omit(PlatinumPricesDecomposeA$random)\""
      ]
     },
     "metadata": {},
     "output_type": "display_data"
    },
    {
     "data": {
      "image/png": "[encoded data removed]",
      "text/plain": [
       "Plot with title \"Series  na.omit(PlatinumPricesDecomposeM$random)\""
      ]
     },
     "metadata": {},
     "output_type": "display_data"
    },
    {
     "data": {
      "image/png": "[encoded data removed]",
      "text/plain": [
       "Plot with title \"Series  na.omit(PlatinumPricesSTL$time.series[, 3])\""
      ]
     },
     "metadata": {},
     "output_type": "display_data"
    }
   ],
   "source": [
    "acf(na.omit(PlatinumPricesDecomposeA$random),lag.max = 50000)\n",
    "acf(na.omit(PlatinumPricesDecomposeM$random),lag.max = 50000)\n",
    "acf(na.omit(PlatinumPricesSTL$time.series[,3]),lag.max = 50000)"
   ]
  },
  {
   "cell_type": "markdown",
   "metadata": {},
   "source": [
    "ACF korelagramına bakılarak MA(q) modeli için q parametresi tahminlemesi yapılamamaktadır.\n",
    "##### ARIMA modelleri\n",
    "AR(p) ve MA(q) modellerinin birlikte kullanılması durumundan ortaya çıkan model ARMA(p,q) olarak adlandırılır. Önemi, çok daha geniş bir bağımlılık yapıları yelpazesinin modellenmesinin mümkün olduğu ve bunların da karmaşık olduğu gerçeğinde yatmaktadır. Çoğu zaman, bir ARMA(p,q) sadece AR veya MA süreçleriyle bulunan p,q değerlerinden daha az sayıda parametre gerektirmektedir. Burada model hem {$E_t$} kalan terimlerinin hem de {$X_t$} önceki verilerin kombinasyonu şeklindedir. Bir ARMA (p,q) modeli aşağıdaki notasyon ile ifade edilebilir:\n",
    "$$x_t = a_1x_{t-1}+ a_2x_{t-2}+...+a_px_{t-p}+E_t + θ_1E_{t−1} + θ_2E_{t−2} + ... + θ_qE_{t-q}$$\n",
    "\n",
    "##### ARIMA Modelleri\n",
    "Geniş bir dizi durağan olmayan seriyi içeren bu sınıfın bir genellemesi, ARIMA süreçleri, yani birçok kez farklılaştıklarında ARMA işlemlerine indirgeyen süreçler tarafından sağlanır. {$x_t$} serisi bir ARMA(p,q) modelinden elde edilen bir seri olmak üzere, eğer $d^{th}$ dereceden farkı alınmasıyla elde edilen süreç ARIMA olarak adlandırılır. \n",
    "$$Y_t=(1-B)^dX_t$$ şeklinde ifade edilir. Buradaki B, 'backshift' operatörüdür.\n",
    "R'da auto.arima fonksiyonu AIC, AICc veya BIC değerine göre en iyi ARIMA modelinin oluşturulmasını sağlar.\n",
    "\n",
    "###### Model kriterlerinin kullanılarak uygun ARIMA modelinin seçimi\n",
    "Modelseçim kriterlerine örnek olarak AIC ve BIC verilebilir.Akaike bilgi kriteri (AIC) (Akaike, 1974), bir modelin gelecekteki değerleri tahmin etme / tahmin etme olasılığını tahmin etmek için örneklem içi uygunluğu için kullanılan bir tekniktir.Diğer tüm modeller arasında minimum AIC'ye sahip olan model iyi bir modeldir.(Metcalfe,2014) Aşağıdaki şekilde ifade edilir.\n",
    "$$AIC = -2*log-likelihood+ 2*parametrelerin  sayısı$$\n",
    "Bayes bilgisi kriteri (BIC) (Stone, 1979), modelin modele uyumu ve karmaşıklığı arasındaki dengeyi ölçen bir model seçim kriteridir.\n",
    "\n",
    "Model seçim kriterleri olarak minimum AIC ve BIC değerleri kullanılır. En uygun model, minimum AIC ve BIC'ye göre seçilir.\n",
    "Aşağıda toplamsal, çarpımsal ve stl modellerine göre yapılan ayrıştırmanın kalanı ile herhangi bit işlem yapılmadan saf veriye auto.arima uygulanmıştır."
   ]
  },
  {
   "cell_type": "code",
   "execution_count": 8,
   "metadata": {},
   "outputs": [
    {
     "data": {
      "text/plain": [
       "Series: na.omit(PlatinumPricesDecomposeM$random) \n",
       "ARIMA(2,0,5) with non-zero mean \n",
       "\n",
       "Coefficients:\n",
       "         ar1      ar2      ma1      ma2      ma3     ma4     ma5    mean\n",
       "      1.6798  -0.6851  -0.6370  -0.0610  -0.0134  0.0270  0.0262  0.9878\n",
       "s.e.  0.2183   0.2149   0.2176   0.0193   0.0150  0.0147  0.0160  0.0155\n",
       "\n",
       "sigma^2 estimated as 0.0004002:  log likelihood=16771.88\n",
       "AIC=-33525.76   AICc=-33525.74   BIC=-33464.44"
      ]
     },
     "metadata": {},
     "output_type": "display_data"
    },
    {
     "data": {
      "text/plain": [
       "Series: na.omit(PlatinumPricesDecomposeA$random) \n",
       "ARIMA(2,0,2) with zero mean \n",
       "\n",
       "Coefficients:\n",
       "         ar1     ar2     ma1     ma2\n",
       "      0.0954  0.8746  0.9472  0.0712\n",
       "s.e.  0.0623  0.0615  0.0631  0.0125\n",
       "\n",
       "sigma^2 estimated as 74.99:  log likelihood=-24066.26\n",
       "AIC=48142.53   AICc=48142.54   BIC=48176.6"
      ]
     },
     "metadata": {},
     "output_type": "display_data"
    },
    {
     "data": {
      "text/plain": [
       "Series: na.omit(PlatinumPricesSTL$time.series[, 3]) \n",
       "ARIMA(5,0,3) with zero mean \n",
       "\n",
       "Coefficients:\n",
       "         ar1      ar2      ar3     ar4      ar5      ma1      ma2     ma3\n",
       "      1.3212  -0.2030  -0.9786  0.8968  -0.0585  -0.2858  -0.1394  0.8001\n",
       "s.e.  0.0983   0.1721   0.1497  0.0650   0.0158   0.0973   0.0983  0.0757\n",
       "\n",
       "sigma^2 estimated as 76.46:  log likelihood=-25435.36\n",
       "AIC=50888.72   AICc=50888.75   BIC=50950.52"
      ]
     },
     "metadata": {},
     "output_type": "display_data"
    },
    {
     "data": {
      "text/plain": [
       "Series: na.omit(PlatinumPrices[, 2]) \n",
       "ARIMA(5,1,1) \n",
       "\n",
       "Coefficients:\n",
       "         ar1      ar2      ar3     ar4     ar5      ma1\n",
       "      0.7172  -0.0193  -0.0571  0.0489  0.0169  -0.6726\n",
       "s.e.  0.1144   0.0156   0.0147  0.0158  0.0135   0.1139\n",
       "\n",
       "sigma^2 estimated as 81.54:  log likelihood=-25659.25\n",
       "AIC=51332.49   AICc=51332.51   BIC=51380.56"
      ]
     },
     "metadata": {},
     "output_type": "display_data"
    }
   ],
   "source": [
    "auto.arima(na.omit(PlatinumPricesDecomposeM$random))\n",
    "auto.arima(na.omit(PlatinumPricesDecomposeA$random))\n",
    "auto.arima(na.omit(PlatinumPricesSTL$time.series[,3]))\n",
    "auto.arima(na.omit(PlatinumPrices[,2]))"
   ]
  },
  {
   "cell_type": "markdown",
   "metadata": {},
   "source": [
    "Veri içerisindeki trend, mevsimsel etki ve üssel dağılım konseptleri çıkarıldıktan sonra elde kalan verinin beyaz gürültü olması eklenmektedir. Decompose işlemi ile hem trend hem de mevsimsellik etki veriden uzaklaştırılmıştır. Arima modelleri ise veriden üssel etkilerin çıkarılmasını sağlar.\n",
    "\n",
    "Uyguladığımız arima modellerinden AIC değeri mutlak değerce en düşük olan multiplicative veriye uygulanan p=1, q=0,r=3 modeli seçilmiştir. Veri seti 1gün önceye bağlı olarak ve 3 günün ortalamasını alarak ilerlemektedir. Herhangi bir fark alınmadığı için durağan bir veri olduğu söylenebilir.\n",
    "\n",
    "ARIMA modeli ile üstel etkilerin çıkarılması için AIC,BIC değeri en düşük olan ARIMA(1,0,3) uygulamasından kalan seriye aşağıdaki şekilde ulaşılabilir. Ayrıca bu kalan değerin beyaz gürültü fonksiyonu olması beklenir.\n"
   ]
  },
  {
   "cell_type": "code",
   "execution_count": 9,
   "metadata": {
    "scrolled": true
   },
   "outputs": [
    {
     "data": {
      "image/png": "[encoded data removed]",
      "text/plain": [
       "plot without title"
      ]
     },
     "metadata": {},
     "output_type": "display_data"
    }
   ],
   "source": [
    "PlatinumPricesArima<-arima(na.omit(PlatinumPricesDecomposeM$random),order=c(1,0,3))\n",
    "WhiteNoise<-PlatinumPricesArima$residuals\n",
    "plot(WhiteNoise)"
   ]
  },
  {
   "cell_type": "markdown",
   "metadata": {},
   "source": [
    "Kalan verinin grafiğindeki bantın genişliği riski ifade etmektedir. Risk neredeyse tüm zamananlarda aynıdır.\n",
    "\n",
    "Arima modeli uygulandıktan sonra kalanından elde edilmesi beklenen beyaz gürültü fonksiyonun normalliği aşağıdaki R kodu ile yapılabilir;"
   ]
  },
  {
   "cell_type": "code",
   "execution_count": 10,
   "metadata": {
    "scrolled": true
   },
   "outputs": [
    {
     "data": {
      "text/plain": [
       "\n",
       "\tShapiro-Wilk normality test\n",
       "\n",
       "data:  SampleWN\n",
       "W = 0.91461, p-value < 2.2e-16\n"
      ]
     },
     "metadata": {},
     "output_type": "display_data"
    },
    {
     "data": {
      "text/plain": [
       "\n",
       "\tOne-sample Kolmogorov-Smirnov test\n",
       "\n",
       "data:  WhiteNoise\n",
       "D = 0.081149, p-value < 2.2e-16\n",
       "alternative hypothesis: two-sided\n"
      ]
     },
     "metadata": {},
     "output_type": "display_data"
    }
   ],
   "source": [
    "SampleWN<-sample(WhiteNoise,5000)\n",
    "shapiro.test(SampleWN)\n",
    "ks.test(WhiteNoise, 'pnorm',mean=0,sd=sqrt(var(WhiteNoise)))"
   ]
  },
  {
   "cell_type": "markdown",
   "metadata": {},
   "source": [
    "Çarpımsal modelden arima(1,0,3) çıkarılmadan önce yapılan normallik testlerinin sonuçları aşağıda verilmiştir."
   ]
  },
  {
   "cell_type": "code",
   "execution_count": 11,
   "metadata": {},
   "outputs": [
    {
     "data": {
      "text/plain": [
       "\n",
       "\tShapiro-Wilk normality test\n",
       "\n",
       "data:  SamplePlatinumPricesDecomposeM\n",
       "W = 0.9674, p-value < 2.2e-16\n"
      ]
     },
     "metadata": {},
     "output_type": "display_data"
    },
    {
     "data": {
      "text/plain": [
       "\n",
       "\tOne-sample Kolmogorov-Smirnov test\n",
       "\n",
       "data:  PlatinumPricesDecomposeM$random\n",
       "D = 1, p-value < 2.2e-16\n",
       "alternative hypothesis: two-sided\n"
      ]
     },
     "metadata": {},
     "output_type": "display_data"
    }
   ],
   "source": [
    "shapiro.test(SamplePlatinumPricesDecomposeM)\n",
    "ks.test(PlatinumPricesDecomposeM$random,'pnorm',mean=0,sd=sqrt(var(na.omit(PlatinumPricesDecomposeM$random))))"
   ]
  },
  {
   "cell_type": "markdown",
   "metadata": {},
   "source": [
    "Shapiro-Wilk normallik testine göre W değeri küçülmüştür. Bu da arima(1,0,3) modeli uygulandıktan sonra kalan verinin normallikten uzaklaştığını göstermektedir. Fakat Kolmogorov-Smirnov testine göre zaman serisinin kalanının normal dağılıma daha çok yaklaştığı D test istatistiğinden görülmektedir. D değeri küçüldüğünden seri normalliğe daha da yaklaşmıştır. Kolmogorov testi tüm veri setini test ettiği için Shapiro-Wilk testine göre daha doğru sonuçlar vermektedir.\n",
    "\n",
    "AIC ve BIC değerleri aynı ayrıştırma modeli ile ayrıştırılmış (örneğin ikisi de toplamsal model olarak) fakat farklı arima modelleri uygulanmış veriler üzerinde daha doğru bir seçim kriteri oluşturmaktadır. Bu yüzden yukarıdaki tüm arima modelleri için auto.arima fonksiyonun sonuçları değerlendirilmeli ve normallik testleri uygulanmalıdır. Aşağıda bu işlemler gösterişmiştir.\n",
    "###### Toplamsal model;"
   ]
  },
  {
   "cell_type": "code",
   "execution_count": 12,
   "metadata": {
    "scrolled": true
   },
   "outputs": [
    {
     "data": {
      "text/plain": [
       "\n",
       "\tShapiro-Wilk normality test\n",
       "\n",
       "data:  SampleWN2\n",
       "W = 0.89893, p-value < 2.2e-16\n"
      ]
     },
     "metadata": {},
     "output_type": "display_data"
    },
    {
     "data": {
      "text/plain": [
       "\n",
       "\tOne-sample Kolmogorov-Smirnov test\n",
       "\n",
       "data:  WhiteNoise2\n",
       "D = 0.11095, p-value < 2.2e-16\n",
       "alternative hypothesis: two-sided\n"
      ]
     },
     "metadata": {},
     "output_type": "display_data"
    }
   ],
   "source": [
    "PlatinumPricesArimaToplamsal<-arima(na.omit(PlatinumPricesDecomposeA$random),order=c(2,0,3))\n",
    "WhiteNoise2<-PlatinumPricesArimaToplamsal$residuals\n",
    "SampleWN2<-sample(WhiteNoise2,5000,replace = TRUE)\n",
    "shapiro.test(SampleWN2)\n",
    "ks.test(WhiteNoise2, 'pnorm',mean=0,sd=sqrt(var(WhiteNoise2)))"
   ]
  },
  {
   "cell_type": "markdown",
   "metadata": {},
   "source": [
    "###### STL modeli;"
   ]
  },
  {
   "cell_type": "code",
   "execution_count": 13,
   "metadata": {
    "scrolled": true
   },
   "outputs": [
    {
     "data": {
      "text/plain": [
       "\n",
       "\tShapiro-Wilk normality test\n",
       "\n",
       "data:  SampleWN3\n",
       "W = 0.89722, p-value < 2.2e-16\n"
      ]
     },
     "metadata": {},
     "output_type": "display_data"
    },
    {
     "data": {
      "text/plain": [
       "\n",
       "\tOne-sample Kolmogorov-Smirnov test\n",
       "\n",
       "data:  WhiteNoise3\n",
       "D = 0.11396, p-value < 2.2e-16\n",
       "alternative hypothesis: two-sided\n"
      ]
     },
     "metadata": {},
     "output_type": "display_data"
    }
   ],
   "source": [
    "PlatinumPricesArimaSTL<-arima(na.omit(PlatinumPricesSTL$time.series[,3]),order=c(3,0,4))\n",
    "WhiteNoise3<-PlatinumPricesArimaSTL$residuals\n",
    "SampleWN3<-sample(WhiteNoise3,5000)\n",
    "shapiro.test(SampleWN3)\n",
    "ks.test(WhiteNoise3, 'pnorm',mean=0,sd=sqrt(var(WhiteNoise3)))"
   ]
  },
  {
   "cell_type": "markdown",
   "metadata": {},
   "source": [
    "###### Saf veri seti;"
   ]
  },
  {
   "cell_type": "code",
   "execution_count": 14,
   "metadata": {},
   "outputs": [
    {
     "data": {
      "text/plain": [
       "\n",
       "\tShapiro-Wilk normality test\n",
       "\n",
       "data:  SampleWN4\n",
       "W = 0.86683, p-value < 2.2e-16\n"
      ]
     },
     "metadata": {},
     "output_type": "display_data"
    },
    {
     "data": {
      "text/plain": [
       "\n",
       "\tOne-sample Kolmogorov-Smirnov test\n",
       "\n",
       "data:  WhiteNoise4\n",
       "D = 0.13908, p-value < 2.2e-16\n",
       "alternative hypothesis: two-sided\n"
      ]
     },
     "metadata": {},
     "output_type": "display_data"
    }
   ],
   "source": [
    "PlatinumPricesArimaPure<-arima(na.omit(PlatinumPrices[,2]),order=c(5,1,3))\n",
    "WhiteNoise4<-PlatinumPricesArimaPure$residuals\n",
    "SampleWN4<-sample(WhiteNoise4,5000)\n",
    "shapiro.test(SampleWN4)\n",
    "ks.test(WhiteNoise4, 'pnorm',mean=0,sd=sqrt(var(WhiteNoise4)))"
   ]
  },
  {
   "cell_type": "markdown",
   "metadata": {},
   "source": [
    "Ayrıştırmalara göre uygun arima modeli uygulanmadan kalan $R_t$ serilerinin normalliği arima modeli uygulandığında kalan $R_t$ serilerinin normalliğinden daha iyi sonuca sahiptir. Bu da uygulanan arima modellerinin doğru olmadığını göstermektedir.\n",
    "\t\n",
    "# Sonuç\n",
    "Yukarıda yapılan testlere göre en iyi sonucun AIC ve BIC değerine göre en iyi sonucu veren çarpımsal modele uygulanan arima(1,0,3) modeliyle yapılan ayrıştırmaya göre olduğu görülmektedir. Veri setindeki tüm anomaliler çıkarıldıktan sonra kalan verinin beyaz gürültü olması beklenir. Beyaz gürültü fonksiyonu normal dağılıma sahiptir. Kalan verinin gürültü datası olup olmadığı test edilmiş ve gürültü datası olduğu sonucuna varılmıştır. Bu da veriye uygulanan ayrıştırma modellerinin doğru bir şekilde uygulandığını göstermektedir."
   ]
  },
  {
   "cell_type": "markdown",
   "metadata": {},
   "source": [
    "# Tahminleme\n",
    "Zaman serileri analizi ile temel hedeflerden biri, verilerin gelecekteki durumunu gösteren tahminler üretmektir.Bu tahminleme extrapolasyonla yapılır. Ekstrapolasyon her zaman doğru sonuçlar vermeyebilir ve yanlış sonuçlara yol açabilir. Tahminleme de aynı şekilde doğru yapılamayabilir.\n",
    "Sinyal içeren seriler gürültüye göre daha güçlü olduğu seriler oldukları için tahminlemenin doğru yapılması mümkündür. Bununla birlikte, gürültülü seriler için, tahminlerde büyük bir belirsizlik vardır ve bunlar çok kısa bir aralık için en güvenilirdir.\n",
    "Yukarıdakilerden yola çıkarak, belirsizliklerin ana kaynağının sürecin içindeki yenilikler olduğu söylenebilir. Doğru tahminleme yapabilmek için veri üretme sürecinin zaman içinde değişmediğinden, yani geçmişte gözlemlendiği gibi gelecekte devam edeceğinden emin olunmalıdır. Doğru model uygulansa dahi parametreler arasındaki ek belirsizlikler doğru tahminlemeyi etkilemektedir.\n",
    "\n",
    "Zaman serisi tahminlemelerine ilk olarak, durağan süreçleri tahmin etmek için kullanılan AR, MA ve ARMA süreçleriörnek olarak gösterilebilir. Trend içeren durağan olmayan seriler için ise ARIMA modeli ile tahminleme yapılabilir.\n",
    "\n",
    "## ARIMA ile Tahminleme\n",
    "Kalan $R_t$ yani Beyaz Gürültü gibi göründüğü bir zaman dizisindeki tahminleme ARIMA modeli ile yapılabilir.  Bu koşullar altında, tahminler kolayca hesaplanabilir\n",
    "\n",
    "Uygun ARIMA modelinin tanımlanan parametrelerin başarılı bir şekilde tahmin edildiği ve artıkların gerekli özellikleri sergilediği, yani Beyaz Gürültü gibi göründüğü bir zaman dizisi verildiğini varsayıyoruz. Bu koşullar altında, tahminler kolayca hesaplanabilir. \n",
    "\n",
    "Bu, istediğimiz bir $ARMA (p,q,r)$ modelinden herhangi bir tahmin üretmemizi sağlar. Bu prosedür aynı zamanda Box-Jenkins prosedürü olarak da bilinmektedir. R'da kullanılan, arima ()'dan sonra uygulanan forecast() fonksiyonunda Box-Jenkins şeması arka planda çalışmaktadır.\n",
    "\n",
    "Verilerinin modele uyarlanması ve 30 adımlık tahminlerin üretilmesi için R komutları aşağıdaki gibidir. Arima() orderleri belli modeli oluşturur ve forecast() fonksiyonu belirlenen modele göre verilen parametre kadar tahmin üretir. Oluşturulan tahminlemenin görselleştirilmesi için aşağıdaki R kodundan yararlanılabilir.İlk aşamada yaptığımız durağan olmayan zaman serileri için ayrıştırma aşamalarından yararlanılarak trend, mevsimsellik içermeyen seriler için tahmin üretilebilecektir. Yani çarpımsal ayrıştırmanın arima(1,0,3) modeline göre tahminlemesi yapılacaktır. Son 30 veriye kadar model uygulanacak ve daha sonra 30 adet tahmin yapılıp gerçek değerlerle tahminler karşılaştırılacatır."
   ]
  },
  {
   "cell_type": "code",
   "execution_count": 15,
   "metadata": {},
   "outputs": [
    {
     "data": {
      "image/png": "[encoded data removed]",
      "text/plain": [
       "Plot with title \"Forecasts from ARIMA(1,0,3) with non-zero mean\""
      ]
     },
     "metadata": {},
     "output_type": "display_data"
    }
   ],
   "source": [
    "m<-length(na.omit(PlatinumPricests))\n",
    "PlatinumPricesArimaForecast<-arima(na.omit(PlatinumPricests)[1:(m-29)],order=c(1,0,3))\n",
    "tahmin <- forecast(PlatinumPricesArimaForecast,30)\n",
    "plot(tahmin)"
   ]
  },
  {
   "cell_type": "markdown",
   "metadata": {},
   "source": [
    "Aşağıda gerçek veriler ve arima modeliyle yapılan tahmin ile yapılan veriler için ortalama hata hesaplanmıştır. Bu değer tahminlemelerin karşılaştırılması için kullanılır."
   ]
  },
  {
   "cell_type": "code",
   "execution_count": 21,
   "metadata": {},
   "outputs": [
    {
     "data": {
      "text/html": [
       "273.658197101"
      ],
      "text/latex": [
       "273.658197101"
      ],
      "text/markdown": [
       "273.658197101"
      ],
      "text/plain": [
       "[1] 273.6582"
      ]
     },
     "metadata": {},
     "output_type": "display_data"
    }
   ],
   "source": [
    "sum(ts(na.omit(PlatinumPricests)[(m-29):m])-ts(tahmin$mean))^2/30"
   ]
  },
  {
   "cell_type": "markdown",
   "metadata": {},
   "source": [
    "Keşif analizi yaparken bulduğumuz uygun arima modeli olan (1,0,3) modeli uygulanarak yukarıdaki tahminleme yapılmıştır.\n",
    "\n",
    "## Holt-Winters Yöntemi\n",
    "Eğilim ve mevsimsellik sergileyen seriler için yapılan bir tahminleme yöntemidir.\n",
    "$$ a_t=\\alpha(x_t-s{t-p})-(1-\\alpha)(a_{t-1}+b_t{t-1})$$\n",
    "$$ b_t=\\beta(a_t-a_{t-1})-(1-\\beta)(b_{t-1})$$\n",
    "$$ s_t=\\gamma(x_t-a_t)-(1-\\gamma)(s{t-p})$$\n",
    "\n",
    "Buradaki $a_t$, t zamanındaki tekrar, $b_t$ eğim, $s_t$ mevsimsel etkidir. Seviye, eğim ve mevsimi hedefleyen üç düzeltme parametresi $\\alpha$,$\\beta$,$\\gamma$'dır.\n",
    "\n",
    "İlk denklem, seviye güncelleme denklemi, bir önceki periyodik mevsimsel etki terimi çıkarılan mevcut tahmini ile son seviyeli eğim ile bir önceki seviye tahmini ile ağırlıklı ortalamasını alır.\n",
    "\n",
    "İkinci güncelleme denklemi, mevcut seviye ve bir önceki seviye arasındaki farkın t-1 zamanında tahmini eğim ile ağırlıklı ortalamasını alır. Bu yalnızca mevcutsa hesaplanabilir.\n",
    "\n",
    "Son olarak, mevsimsel terim için, aynı birim için mevsimsel terimin önceki tahmini ile gözlem ve seviye arasındaki farkın ağırlıklı ortalaması alınarak, t-p zamanında yapılan bir başka tahmin daha elde edilir.\n",
    "\n",
    "R fonksiyonu HoltWinters () uygulandığında, başlangıç değerleri decompose () prosedüründen elde edilir ve SSPE1 minimizasyonu yoluyla yumuşatma parametrelerini tahmin etmek mümkündür.Parametre tahminini SSPE1 ile uygulanarak bulunur. Uygun seviye, eğilim ve mevsimsellik için mevcut tahminleri içerir. Çarpımsal model kullanılarak mevsimsellik ve trend içeren bir zaman serisinin tahmininde kullanılacak Holt Winters parametreleri aşağıdaki şekilde elde edilebilir. (Marcel Dettling,2014)"
   ]
  },
  {
   "cell_type": "code",
   "execution_count": 24,
   "metadata": {
    "scrolled": true
   },
   "outputs": [
    {
     "data": {
      "text/plain": [
       "Holt-Winters exponential smoothing with trend and multiplicative seasonal component.\n",
       "\n",
       "Call:\n",
       "HoltWinters(x = ts(na.omit(PlatinumPricests)[1:(m - 29)], freq = 365),     seasonal = \"mult\")\n",
       "\n",
       "Smoothing parameters:\n",
       " alpha: 0.8938679\n",
       " beta : 0.001138363\n",
       " gamma: 0.9999845\n",
       "\n",
       "Coefficients:\n",
       "             [,1]\n",
       "a    121.54785387\n",
       "b     -0.02611742\n",
       "s1     0.98545000\n",
       "s2     0.98487919\n",
       "s3     0.98231960\n",
       "s4     0.99561630\n",
       "s5     1.00097223\n",
       "s6     1.00317936\n",
       "s7     1.01221619\n",
       "s8     1.01770889\n",
       "s9     1.01347272\n",
       "s10    1.00129317\n",
       "s11    0.99863862\n",
       "s12    1.00646662\n",
       "s13    1.00178193\n",
       "s14    0.99319561\n",
       "s15    0.98149645\n",
       "s16    0.96570184\n",
       "s17    0.95338896\n",
       "s18    0.94889624\n",
       "s19    0.94901460\n",
       "s20    0.93536691\n",
       "s21    0.93029641\n",
       "s22    0.92089888\n",
       "s23    0.92063190\n",
       "s24    0.91259836\n",
       "s25    0.91980261\n",
       "s26    0.93262336\n",
       "s27    0.93666183\n",
       "s28    0.93768391\n",
       "s29    0.95727254\n",
       "s30    0.95772183\n",
       "s31    0.96238072\n",
       "s32    0.96456449\n",
       "s33    0.96832288\n",
       "s34    0.98498895\n",
       "s35    0.99382007\n",
       "s36    0.99665515\n",
       "s37    1.00445691\n",
       "s38    0.99992912\n",
       "s39    1.00126927\n",
       "s40    0.97774814\n",
       "s41    0.96470146\n",
       "s42    0.95016270\n",
       "s43    0.95138418\n",
       "s44    0.95739991\n",
       "s45    0.96037989\n",
       "s46    0.96623244\n",
       "s47    0.94140721\n",
       "s48    0.92623309\n",
       "s49    0.90863087\n",
       "s50    0.89842695\n",
       "s51    0.87996906\n",
       "s52    0.85779049\n",
       "s53    0.84382714\n",
       "s54    0.84021492\n",
       "s55    0.84495122\n",
       "s56    0.85698949\n",
       "s57    0.89280372\n",
       "s58    0.93988251\n",
       "s59    0.96946463\n",
       "s60    0.98638469\n",
       "s61    0.99334220\n",
       "s62    0.99893659\n",
       "s63    0.99960116\n",
       "s64    1.00506342\n",
       "s65    1.01148608\n",
       "s66    1.01399683\n",
       "s67    1.01175151\n",
       "s68    1.00784775\n",
       "s69    1.01028397\n",
       "s70    1.01132585\n",
       "s71    1.00897716\n",
       "s72    1.00026708\n",
       "s73    0.98904712\n",
       "s74    0.99215549\n",
       "s75    0.99616633\n",
       "s76    1.00238014\n",
       "s77    1.01002413\n",
       "s78    1.01014785\n",
       "s79    1.01241580\n",
       "s80    1.00367313\n",
       "s81    1.00630741\n",
       "s82    1.01841936\n",
       "s83    1.03338799\n",
       "s84    1.04283733\n",
       "s85    1.04883291\n",
       "s86    1.03753649\n",
       "s87    1.04114325\n",
       "s88    1.03818831\n",
       "s89    1.04589729\n",
       "s90    1.04784769\n",
       "s91    1.06127497\n",
       "s92    1.06715727\n",
       "s93    1.05525570\n",
       "s94    1.04965010\n",
       "s95    1.03647341\n",
       "s96    1.03247212\n",
       "s97    1.02642520\n",
       "s98    1.01853440\n",
       "s99    1.00716427\n",
       "s100   0.99339457\n",
       "s101   0.98183721\n",
       "s102   0.96760013\n",
       "s103   0.95286980\n",
       "s104   0.94105578\n",
       "s105   0.94009088\n",
       "s106   0.93587715\n",
       "s107   0.93831671\n",
       "s108   0.93354360\n",
       "s109   0.94333682\n",
       "s110   0.96313217\n",
       "s111   0.98050984\n",
       "s112   0.98562092\n",
       "s113   0.98767577\n",
       "s114   0.99212736\n",
       "s115   0.99781106\n",
       "s116   0.99718301\n",
       "s117   1.00139010\n",
       "s118   1.00360935\n",
       "s119   1.00554728\n",
       "s120   1.01148900\n",
       "s121   1.00725495\n",
       "s122   1.00699447\n",
       "s123   1.00435621\n",
       "s124   1.00223302\n",
       "s125   0.99640340\n",
       "s126   0.99196669\n",
       "s127   0.99330918\n",
       "s128   0.99252835\n",
       "s129   0.99216771\n",
       "s130   1.00166755\n",
       "s131   1.01117323\n",
       "s132   0.99986204\n",
       "s133   1.01212643\n",
       "s134   1.02542983\n",
       "s135   1.02793702\n",
       "s136   1.02583300\n",
       "s137   1.01909318\n",
       "s138   1.00724881\n",
       "s139   1.00845419\n",
       "s140   1.01118490\n",
       "s141   1.00826655\n",
       "s142   1.01627191\n",
       "s143   1.01775699\n",
       "s144   1.01852189\n",
       "s145   1.01418478\n",
       "s146   1.01088805\n",
       "s147   1.01296528\n",
       "s148   1.00609924\n",
       "s149   0.99999402\n",
       "s150   0.99619063\n",
       "s151   0.98579288\n",
       "s152   0.98036877\n",
       "s153   0.97938066\n",
       "s154   0.97352350\n",
       "s155   0.96808576\n",
       "s156   0.97733959\n",
       "s157   0.99741716\n",
       "s158   1.00581888\n",
       "s159   1.00805145\n",
       "s160   1.01115988\n",
       "s161   1.02243612\n",
       "s162   1.03057615\n",
       "s163   1.02633659\n",
       "s164   1.02334240\n",
       "s165   1.02705056\n",
       "s166   1.02521218\n",
       "s167   1.02180392\n",
       "s168   1.02422044\n",
       "s169   1.03114570\n",
       "s170   1.04718571\n",
       "s171   1.04745178\n",
       "s172   1.04905106\n",
       "s173   1.05225286\n",
       "s174   1.05124921\n",
       "s175   1.04322936\n",
       "s176   1.04087253\n",
       "s177   1.03596738\n",
       "s178   1.02511000\n",
       "s179   1.02024903\n",
       "s180   1.02776230\n",
       "s181   1.02329021\n",
       "s182   1.01795547\n",
       "s183   0.99590179\n",
       "s184   0.99206962\n",
       "s185   0.99803815\n",
       "s186   1.02001054\n",
       "s187   1.03712424\n",
       "s188   1.05554905\n",
       "s189   1.04896829\n",
       "s190   1.04503849\n",
       "s191   1.03803802\n",
       "s192   1.02588724\n",
       "s193   1.02997681\n",
       "s194   1.03121930\n",
       "s195   1.04145720\n",
       "s196   1.04335229\n",
       "s197   1.04913333\n",
       "s198   1.03889503\n",
       "s199   1.03915701\n",
       "s200   1.02954544\n",
       "s201   1.01724338\n",
       "s202   0.99405727\n",
       "s203   0.96537703\n",
       "s204   0.94592502\n",
       "s205   0.93896222\n",
       "s206   0.92914220\n",
       "s207   0.93202513\n",
       "s208   0.93619042\n",
       "s209   0.94225489\n",
       "s210   0.94823778\n",
       "s211   0.96310145\n",
       "s212   0.98665942\n",
       "s213   1.00608969\n",
       "s214   1.02450971\n",
       "s215   1.03557774\n",
       "s216   1.04472501\n",
       "s217   1.05002920\n",
       "s218   1.05299915\n",
       "s219   1.05557337\n",
       "s220   1.05397501\n",
       "s221   1.06123531\n",
       "s222   1.07380382\n",
       "s223   1.08213356\n",
       "s224   1.08489380\n",
       "s225   1.08704547\n",
       "s226   1.07919343\n",
       "s227   1.07415418\n",
       "s228   1.06771655\n",
       "s229   1.06709865\n",
       "s230   1.06371813\n",
       "s231   1.04534834\n",
       "s232   1.03401871\n",
       "s233   1.03243667\n",
       "s234   1.03083155\n",
       "s235   1.01897473\n",
       "s236   1.01104914\n",
       "s237   1.00468109\n",
       "s238   0.98948175\n",
       "s239   0.96356435\n",
       "s240   0.94220507\n",
       "s241   0.93222153\n",
       "s242   0.93019713\n",
       "s243   0.93193139\n",
       "s244   0.92877944\n",
       "s245   0.92665334\n",
       "s246   0.91849578\n",
       "s247   0.91878415\n",
       "s248   0.92398610\n",
       "s249   0.93330220\n",
       "s250   0.93684996\n",
       "s251   0.93541524\n",
       "s252   0.93397899\n",
       "s253   0.93652922\n",
       "s254   0.94684188\n",
       "s255   0.94854226\n",
       "s256   0.95525427\n",
       "s257   0.96663955\n",
       "s258   0.98016519\n",
       "s259   0.99387457\n",
       "s260   1.00238107\n",
       "s261   1.01472183\n",
       "s262   1.01896649\n",
       "s263   1.02764156\n",
       "s264   1.04514520\n",
       "s265   1.07293213\n",
       "s266   1.08408173\n",
       "s267   1.08621515\n",
       "s268   1.07807106\n",
       "s269   1.07282806\n",
       "s270   1.07314742\n",
       "s271   1.06963134\n",
       "s272   1.06687153\n",
       "s273   1.05700012\n",
       "s274   1.05278787\n",
       "s275   1.05019342\n",
       "s276   1.04204354\n",
       "s277   1.03201189\n",
       "s278   1.02559846\n",
       "s279   1.02667469\n",
       "s280   1.03050203\n",
       "s281   1.04232123\n",
       "s282   1.05745597\n",
       "s283   1.07172967\n",
       "s284   1.07291600\n",
       "s285   1.07126983\n",
       "s286   1.06245926\n",
       "s287   1.05252527\n",
       "s288   1.05929726\n",
       "s289   1.07251020\n",
       "s290   1.08228737\n",
       "s291   1.08981215\n",
       "s292   1.09307943\n",
       "s293   1.10069268\n",
       "s294   1.11591981\n",
       "s295   1.10955178\n",
       "s296   1.10781341\n",
       "s297   1.10510786\n",
       "s298   1.09547469\n",
       "s299   1.09647159\n",
       "s300   1.09966774\n",
       "s301   1.11549491\n",
       "s302   1.12598541\n",
       "s303   1.12588895\n",
       "s304   1.10889074\n",
       "s305   1.11401916\n",
       "s306   1.11443748\n",
       "s307   1.12029590\n",
       "s308   1.13021957\n",
       "s309   1.13993944\n",
       "s310   1.14096813\n",
       "s311   1.13794384\n",
       "s312   1.12439058\n",
       "s313   1.10660922\n",
       "s314   1.09161604\n",
       "s315   1.08573748\n",
       "s316   1.08099352\n",
       "s317   1.07305660\n",
       "s318   1.06100590\n",
       "s319   1.05323684\n",
       "s320   1.04957902\n",
       "s321   1.04344016\n",
       "s322   1.04074562\n",
       "s323   1.03398425\n",
       "s324   1.01537269\n",
       "s325   1.00490916\n",
       "s326   0.99589904\n",
       "s327   0.99010363\n",
       "s328   0.98414403\n",
       "s329   0.98080355\n",
       "s330   0.97860737\n",
       "s331   0.97056089\n",
       "s332   0.95086879\n",
       "s333   0.93098577\n",
       "s334   0.91247016\n",
       "s335   0.91033258\n",
       "s336   0.90861783\n",
       "s337   0.90454195\n",
       "s338   0.90057962\n",
       "s339   0.89191099\n",
       "s340   0.88564931\n",
       "s341   0.87952999\n",
       "s342   0.88097418\n",
       "s343   0.88496131\n",
       "s344   0.88942530\n",
       "s345   0.89315602\n",
       "s346   0.89236231\n",
       "s347   0.89696012\n",
       "s348   0.90034341\n",
       "s349   0.89927495\n",
       "s350   0.89478559\n",
       "s351   0.89696183\n",
       "s352   0.88711859\n",
       "s353   0.89054431\n",
       "s354   0.89448561\n",
       "s355   0.88710496\n",
       "s356   0.87979057\n",
       "s357   0.89258868\n",
       "s358   0.90704394\n",
       "s359   0.91330230\n",
       "s360   0.92001588\n",
       "s361   0.93312441\n",
       "s362   0.95271223\n",
       "s363   0.96366660\n",
       "s364   0.97374336\n",
       "s365   0.98109507"
      ]
     },
     "metadata": {},
     "output_type": "display_data"
    }
   ],
   "source": [
    "\n",
    "PPHW <- HoltWinters(ts(na.omit(PlatinumPricests)[1:(m-29)],freq=365), seasonal = \"mult\")\n",
    "PPHW"
   ]
  },
  {
   "cell_type": "markdown",
   "metadata": {},
   "source": [
    "Katsayı değerleri (n zamanında), yukarıda verilen formülle bu serilerden tahmin yapmak için kullanılanlardır. 30 basamaklı bir tahmin tahmin üretmek için aşağıdaki R komutundan yararlanılabilir."
   ]
  },
  {
   "cell_type": "code",
   "execution_count": 25,
   "metadata": {},
   "outputs": [
    {
     "data": {
      "image/png": "[encoded data removed]",
      "text/plain": [
       "Plot with title \"Holt-Winters filtering\""
      ]
     },
     "metadata": {},
     "output_type": "display_data"
    }
   ],
   "source": [
    "plot(PPHW)\n",
    "tahminHW<-predict(PPHW, n.ahead=30)\n",
    "lines(tahminHW, col=\"blue\", lty=4) "
   ]
  },
  {
   "cell_type": "code",
   "execution_count": 26,
   "metadata": {},
   "outputs": [
    {
     "data": {
      "text/html": [
       "1424.71483925284"
      ],
      "text/latex": [
       "1424.71483925284"
      ],
      "text/markdown": [
       "1424.71483925284"
      ],
      "text/plain": [
       "[1] 1424.715"
      ]
     },
     "metadata": {},
     "output_type": "display_data"
    }
   ],
   "source": [
    "sum(ts(na.omit(PlatinumPricests)[(m-29):m])-ts(tahminHW))^2/30"
   ]
  },
  {
   "cell_type": "markdown",
   "metadata": {},
   "source": [
    "Yukarıdaki ortalama hata karelerine göre arima ile yapılan tahminlemenin çok daha yakın sonuçlar verdiği gözlenmiştir.\n",
    "Ayrıca accuracy() fonksiyonu da tahminin doğru yapılıp yapılmadığını test etmektedir. Bunun için öncelikle saf veri setinin son 30 girdisini window() fonksiyonu ile oluşturmamız gerekmektedir. Daha sonra Accuracy() fonksiyonu ile tahmin ve gerçek veriler karşılaştırılır."
   ]
  },
  {
   "cell_type": "code",
   "execution_count": 27,
   "metadata": {},
   "outputs": [
    {
     "name": "stdout",
     "output_type": "stream",
     "text": [
      "[1] \"Accuracy Arima\"\n"
     ]
    },
    {
     "data": {
      "text/html": [
       "<table>\n",
       "<thead><tr><th></th><th scope=col>ME</th><th scope=col>RMSE</th><th scope=col>MAE</th><th scope=col>MPE</th><th scope=col>MAPE</th><th scope=col>ACF1</th><th scope=col>Theil's U</th></tr></thead>\n",
       "<tbody>\n",
       "\t<tr><th scope=row>Test set</th><td>3.020255 </td><td>4.722621 </td><td>4.019241 </td><td>2.3284   </td><td>3.172139 </td><td>0.9368617</td><td>4.088419 </td></tr>\n",
       "</tbody>\n",
       "</table>\n"
      ],
      "text/latex": [
       "\\begin{tabular}{r|lllllll}\n",
       "  & ME & RMSE & MAE & MPE & MAPE & ACF1 & Theil's U\\\\\n",
       "\\hline\n",
       "\tTest set & 3.020255  & 4.722621  & 4.019241  & 2.3284    & 3.172139  & 0.9368617 & 4.088419 \\\\\n",
       "\\end{tabular}\n"
      ],
      "text/markdown": [
       "\n",
       "| <!--/--> | ME | RMSE | MAE | MPE | MAPE | ACF1 | Theil's U | \n",
       "|---|\n",
       "| Test set | 3.020255  | 4.722621  | 4.019241  | 2.3284    | 3.172139  | 0.9368617 | 4.088419  | \n",
       "\n",
       "\n"
      ],
      "text/plain": [
       "         ME       RMSE     MAE      MPE    MAPE     ACF1      Theil's U\n",
       "Test set 3.020255 4.722621 4.019241 2.3284 3.172139 0.9368617 4.088419 "
      ]
     },
     "metadata": {},
     "output_type": "display_data"
    },
    {
     "name": "stdout",
     "output_type": "stream",
     "text": [
      "[1] \"Accuracy HW\"\n"
     ]
    },
    {
     "data": {
      "text/html": [
       "<table>\n",
       "<thead><tr><th></th><th scope=col>ME</th><th scope=col>RMSE</th><th scope=col>MAE</th><th scope=col>MPE</th><th scope=col>MAPE</th><th scope=col>ACF1</th><th scope=col>Theil's U</th></tr></thead>\n",
       "<tbody>\n",
       "\t<tr><th scope=row>Test set</th><td>6.891335 </td><td>10.8502  </td><td>8.763265 </td><td>5.315786 </td><td>6.89284  </td><td>0.9628962</td><td>9.3584   </td></tr>\n",
       "</tbody>\n",
       "</table>\n"
      ],
      "text/latex": [
       "\\begin{tabular}{r|lllllll}\n",
       "  & ME & RMSE & MAE & MPE & MAPE & ACF1 & Theil's U\\\\\n",
       "\\hline\n",
       "\tTest set & 6.891335  & 10.8502   & 8.763265  & 5.315786  & 6.89284   & 0.9628962 & 9.3584   \\\\\n",
       "\\end{tabular}\n"
      ],
      "text/markdown": [
       "\n",
       "| <!--/--> | ME | RMSE | MAE | MPE | MAPE | ACF1 | Theil's U | \n",
       "|---|\n",
       "| Test set | 6.891335  | 10.8502   | 8.763265  | 5.315786  | 6.89284   | 0.9628962 | 9.3584    | \n",
       "\n",
       "\n"
      ],
      "text/plain": [
       "         ME       RMSE    MAE      MPE      MAPE    ACF1      Theil's U\n",
       "Test set 6.891335 10.8502 8.763265 5.315786 6.89284 0.9628962 9.3584   "
      ]
     },
     "metadata": {},
     "output_type": "display_data"
    }
   ],
   "source": [
    "PP1Last30 <- window(na.omit(PlatinumPricests)[(m-29):m])\n",
    "tahminHW <- window(tahminHW)\n",
    "print(\"Accuracy Arima\")\n",
    "accuracy(tahmin$mean, PP1Last30)\n",
    "print(\"Accuracy HW\")\n",
    "accuracy(tahminHW, PP1Last30)"
   ]
  },
  {
   "cell_type": "markdown",
   "metadata": {},
   "source": [
    "$y_i$, i. gözlemi, $\\hat{y}_i$, i. gözlem için tahmini temsil etmek üzere hata terimi aşağıdaki şekilde ifade edilir.\n",
    "$$e_i=y_i-\\hat{y}_i$$\n",
    "En yaygın kullanılan ölçüm parametrelerinden bazıları mutlak hatalara veya karesel hatalara dayanmaktadır.\n",
    "$$Ortalama Mutlak Hata: MAE= mean(|e_i|)$$\n",
    "$$Ortalama Kareler Hata: RMSE=\\sqrt{mean(e_i)^2}$$\n",
    "Tahmin yöntemlerini tek bir veri kümesinde karşılaştırırken, MAE, anlaşılması ve hesaplanması kolay olduğu için daha çok tercih edilmektedir.\n",
    "\n",
    "Accuracy() foksiyonlarının çıktısına göre Arima ile yapılan tahminlemenin daha doğru sonuçlar verdiği gözlenmiştir."
   ]
  },
  {
   "cell_type": "code",
   "execution_count": null,
   "metadata": {},
   "outputs": [],
   "source": [
    "kovaryans\n",
    "ts seçim fonk\n",
    "cuma panaış pzrt açılış\n",
    "dlnm paketi\n"
   ]
  }
 ],
 "metadata": {
  "kernelspec": {
   "display_name": "R",
   "language": "R",
   "name": "ir"
  },
  "language_info": {
   "codemirror_mode": "r",
   "file_extension": ".r",
   "mimetype": "text/x-r-source",
   "name": "R",
   "pygments_lexer": "r",
   "version": "3.4.2"
  }
 },
 "nbformat": 4,
 "nbformat_minor": 2
}
