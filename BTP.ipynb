{
 "cells": [
  {
   "cell_type": "markdown",
   "metadata": {},
   "source": [
    "# Zaman Serileri\n",
    "\n",
    "Bir zaman serisi, her biri belirli bir $t$ zamanında kaydedilmekte olan $X_t$ gözlemleri kümesidir. Kesikli zaman serileri gözlemlerin yapıldığı zamanların $t$ değerlerinin birbirlerinden ayrık olduğunu söylemektedir. Gözlemler sabit zaman aralıklarında yapıldığı durumlar kesikli zaman serilerine örnek olarak verilebilir. Sürekli zaman serileri ise gözlemlerin sürekli bir $T[0,1]$ aralığında yapılmasıyla oluşmaktadır.(Brockwell,2002)\n",
    "\n",
    "Bir çok alanda bilim, mühendislik ve ticaret dalında zaman içinde sıralı olarak ölçülen veriler bulunmaktadır. Örneğin bankalar her gün faiz oranlarını ve döviz kurlarını tutar ya da meteoroloji ofisleri sıcaklık değerlerinin günlük olarak tutarlar. Bir değişken, zaman içinde belirli sabit bir aralıkta ölçüldüğünde, elde edilen veriler bir zaman dizisi oluşturmaktadır.(Metcalfe,2011)\n",
    "\n",
    "## Zaman Serilerinin Analizi\n",
    "\n",
    "Ayrıca zaman serileri bir çok alanda karşımıza çıkan belirli aralıklarla ölçümlenmiş veri kümeleri olarak da tanımlanabilir. Temel bir veri analizinde birbirine benzer ve bağımsız dağılmış veriler mevcut iken zaman serilerinde birbiriyle ilişkili veriler bulunur. Zaman serilerindeki analizin amacı; geçmiş verilerdeki anomalileri saptamak, birbirleriyle ilişkilerini gözlemlemek ve gelecek için tahminleme yapabilmektir. Basit tanımlayıcı analizlerle verinin anlaşılması sağlanırken, kapsamlı bir analiz ile gözlenen verilerin rassal modellemesi yapılabilmektedir.(Marcel Dettling,2014)\n",
    "\n",
    "Zaman serilerinin temel özellikleri trend ve mevsimsel değişimlerdir. Bunlar matematiksel fonksiyonları ile deterministik olarak modellenebilirler. Ancak, zaman serilerinin bir diğer önemli özelliği ise birbirleriyle ilişkili olmaları yani birbirlerine yakın gözlemlerin korelasyon içermesidir. Bir zaman dizisi analizindeki temel amaç, bu istatistiksel ilişkiyi ve verideki temel özellikleri uygun istatistiksel modeller ve tanımlayıcı yöntemler kullanarak açıklamaktır. Yöntemlerin uygunluğu ise daha sonrasında uygulanacak istatiksel testlerle ölçümlenebilmektedir. (Metcalfe,2011)\n",
    "\n",
    "### Zaman Serisi Analizindeki Hedefler\n",
    "$Keşif Analizi:$\n",
    "Zaman serileri keşif analizleri ağırlıklı olarak zaman serilerinin temel özelliklerinin (mevsimsellik, trend, korelasyon...) saptanması, grafik çizimlerinin yapılması yani deterministik ve stokastik kısımların doğru şekilde incelenebilmesi için yapılır.\n",
    "\n",
    "$Modelleme:$\n",
    "Zaman serisine uygun bir modellenmenin yapılması keşif analizinde elde edilen bilgiler yardımıyla yapılmaktadır. Düzgün modelleme yapılmayan analizler bir sonraki adımda doğru sonuçlar vermeyecektir.\n",
    "\n",
    "$Tahmin:$\n",
    "Zaman serileri analizinde sıkça kullanılan yapılardan biri olan gelecekteki gözlemlerin tahmin edilmesidir. Fakat gelecekteki verilerin tahmini zaman serisinin geçmiş ve şimdiki özelliklerinin devam ettiği varsayımına dayanır. İyi bir tahmin yapılabilmesi için keşif analizinin doğru yapılması ve modelin doğru kurulması gerekmektedir.\n",
    "\n",
    "$Regresyon:$\n",
    "Zaman serisi analizinde gözlemlerin gelecekteki tahminlerini yapmaktan başka sıkça kullanılan diğer bir yapı ise gözlemler arasındaki ilişkinin saptanmasıdır. Bu şekilde zaman serileri daha açıklayıcı hale gelmektedir.\n",
    "\n",
    "$Süreç$ $Kontrol:$\n",
    "Optimal yönetim ve kalite kontrol amacıyla birçok üretim veya diğer süreçler ölçümlenir. Bu genellikle rassal bir modelin uygun olduğu zaman serisi verisi ile sonuçlanır. Bu, verilerdeki sinyalin anlaşılmasını sağlamaktadır. Üretimdeki hangi dalgalanmaların normal olduğunu ve hangilerinin müdahale gerektirdiğini izlemek mümkün hale gelir.\n",
    "\n",
    "### Zaman Serisi Analizindeki Anomalilerin tespiti\n",
    "Anomaliler, iyi tanımlanmış normal davranış kavramına uymayan verilerdeki yapılardır. Bu yapıları bulma problemi anomallilerin tespiti olarak adlandırılır. Anomali tespitinin önemi, verideki anormalliklerin çok çeşitli uygulama alanlarında önemli ve eyleme geçirilebilir bilgilere dönüşebilir olmasıdır. \n",
    "\n",
    "ARIMA, anomali tespiti için kullanılan bir modeldir. Sinyalleri doğru tahmin etmek ve anormallikleri bulmak için yeterince güçlü bir model olan ARIMA modelinin uygulanması için verinin trend, mevsimsellik gibi özelliklerinden arındırılması gerekmektedir.(Time Series Anomaly Detection Algorithms,2017)\n",
    "\n",
    "### Veri seti\n",
    "Veri analizinde kullanacağımız veri seti Londra'daki platin fiyatlarının dolar bazında 1990 ile 2018 yılları arasındaki günlük sabit değerleridir. Sabit fiyat, dünya çapındaki müşterilere ait siparişlerin eşleştirilmesini temsil eder.(www.Quandl.com)\n",
    "\n",
    "Platin çok değerli madenler arasındadır. Çok fazla değerli olmasının nedeni ender bulunuşu ve kullanım alanlarının fazlasıyla geniş olmasıdır. Otomotiv, diş hekimliği, jet ve füze motorları, laboratuvar gibi birçok alanda kullanılmaktadır. \n",
    "\n",
    "## Zaman serilerinin açıklanması\n",
    "Zaman serisi analizinde yapılması gereken ilk aşama verinin yüklenmesidir. Bunun için aşağıdaki R kodları kullanılmaktadır."
   ]
  },
  {
   "cell_type": "code",
   "execution_count": 1,
   "metadata": {},
   "outputs": [
    {
     "name": "stdout",
     "output_type": "stream",
     "text": [
      "package 'Quandl' successfully unpacked and MD5 sums checked\n",
      "\n",
      "The downloaded binary packages are in\n",
      "\tC:\\Users\\Büşra\\AppData\\Local\\Temp\\RtmpElGrsG\\downloaded_packages\n"
     ]
    },
    {
     "name": "stderr",
     "output_type": "stream",
     "text": [
      "Warning message:\n",
      "\"package 'Quandl' was built under R version 3.4.4\"Loading required package: xts\n",
      "Loading required package: zoo\n",
      "\n",
      "Attaching package: 'zoo'\n",
      "\n",
      "The following objects are masked from 'package:base':\n",
      "\n",
      "    as.Date, as.Date.numeric\n",
      "\n",
      "Warning message:\n",
      "\"package 'forecast' was built under R version 3.4.3\"Warning message:\n",
      "\"package 'tseries' was built under R version 3.4.3\""
     ]
    }
   ],
   "source": [
    "install.packages(\"Quandl\", repos='http://cran.us.r-project.org')\n",
    "library(Quandl)\n",
    "library(forecast)\n",
    "library(tseries)\n",
    "PlatinumPrices<-Quandl(\"LPPM/PALL\")"
   ]
  },
  {
   "cell_type": "markdown",
   "metadata": {},
   "source": [
    "Verinin yüklenmesi tamamlandıktan sonra verinin genel bir çerçevede incelenmesi yapılması gereken aşamalardan birisidir. Bunun için özetine bakılması, grafiğinin çizilmesi gerekir."
   ]
  },
  {
   "cell_type": "code",
   "execution_count": 2,
   "metadata": {},
   "outputs": [
    {
     "data": {
      "text/plain": [
       "      Date                USD AM            EUR AM           GBP AM      \n",
       " Min.   :1990-04-02   Min.   :  78.75   Min.   : 116.1   Min.   : 40.40  \n",
       " 1st Qu.:1997-04-06   1st Qu.: 161.00   1st Qu.: 246.2   1st Qu.: 99.64  \n",
       " Median :2004-04-07   Median : 325.00   Median : 420.2   Median :179.18  \n",
       " Mean   :2004-04-08   Mean   : 394.54   Mean   : 431.8   Mean   :253.42  \n",
       " 3rd Qu.:2011-04-11   3rd Qu.: 637.00   3rd Qu.: 575.0   3rd Qu.:412.91  \n",
       " Max.   :2018-04-20   Max.   :1128.00   Max.   :1179.5   Max.   :819.47  \n",
       "                                        NA's   :2213                     \n",
       "     USD PM            EUR PM           GBP PM      \n",
       " Min.   :  78.25   Min.   : 122.8   Min.   : 41.00  \n",
       " 1st Qu.: 161.00   1st Qu.: 246.1   1st Qu.: 99.58  \n",
       " Median : 324.75   Median : 418.1   Median :179.20  \n",
       " Mean   : 394.76   Mean   : 432.2   Mean   :253.61  \n",
       " 3rd Qu.: 638.00   3rd Qu.: 576.5   3rd Qu.:413.40  \n",
       " Max.   :1129.00   Max.   :1179.7   Max.   :819.22  \n",
       " NA's   :53        NA's   :2248     NA's   :53      "
      ]
     },
     "metadata": {},
     "output_type": "display_data"
    }
   ],
   "source": [
    "summary(PlatinumPrices)"
   ]
  },
  {
   "cell_type": "markdown",
   "metadata": {},
   "source": [
    "Yukarıdaki veri setimizdeki tüm değerlerin özeti görülmektedir. Çıkarılan özete göre, bu veri seti 1990 ile 2018 arasındaki platin fiyatlarının açılış ve kapanış fiyatlarını dolar, euro gibi para birimlerini baz alarak göstermektedir. Fakat yapılacak ilk aşama boyunca platinin dolar açılış fiyatı kullanıcak ve bu veriler arasında anomali tespiti yapılacaktır. İkinci sütunda dolar açılış fiyatlarının minimum fiyat 78.75(dolar) iken maximum 1128 (dolar) olduğu görülmektedir.\n",
    "Ayrıca yukarıdaki özet PlatinumPrices nesnesinin içerisinde yer alan tüm para birimleri bazında platin fiyatları içermektedir.\n",
    "\n",
    "Zaman serileri ts sınıfının bir R nesnesi olarak saklanır. Zaman serisinin doğru analizi için PlatinumPrices nesnesinin ikinci sütununda yer alan dolar açılış fiyatları zaman serisine dönüştürülmelidir. Zaman serisi nesneleri, yukarıda verilen işlevlerin başlangıcı, sonu ve sıklığını içeren bir dizi yönteme sahiptir. Fakat zaman serileri oluşturulurken sadece frekansının yazılması da yeterli olacaktır.\n",
    "\n",
    "Ayrıca zaman serisi analizindeki en önemli adımlardan biri verileri çizmektir; yani, grafiği oluşturmaktır."
   ]
  },
  {
   "cell_type": "code",
   "execution_count": 3,
   "metadata": {},
   "outputs": [
    {
     "data": {
      "image/png": "[encoded data removed]",
      "text/plain": [
       "Plot with title \"Platinum Prices 1990-2018\""
      ]
     },
     "metadata": {},
     "output_type": "display_data"
    }
   ],
   "source": [
    "PlatinumPricests<-ts(PlatinumPrices[,2],freq=365)\n",
    "plot(PlatinumPricests,type='s',xlab=\"Time\",ylab=\"($)\", main=\"Platinum Prices 1990-2018\")"
   ]
  },
  {
   "cell_type": "markdown",
   "metadata": {},
   "source": [
    "Yukarıda çizilen grafikten görüldüğü üzere ele alacağımız veri seti 1990-2018 yılları arasında Platin'in dolar fiyatını içermektedir. \n",
    "Veri setinin grafiğini çizmek için yukarıdaki R komutu kullanılır. 2008 yılına kadar neredeyse durağan seyreden fiyatlar 2008-2010 yılları arasında bir dalgalanma olduğu çizilen grafikte görülmektedir. 2010-2015 yıllarında yüksek fiyatlarda seyretmiş ve daha sonra azalarak günümüzdeki fiyatına ulaşmaktadır.Bu dalgalanmayı içeren sinyaller veri analizi aşamalarında saptanacak ve veriden uzaklaştıralacaktır. \n",
    "Mevsimsellik; aylar, haftanın günleri, mevsimler, vb. gibi sürelerleilgili düzenli ve yinelenen yüksek ve düşük örüntüleri ifade etmektedir. Yukarıda görüldüğü üzere veride herhangi bir mevsimselliğe rastlanmamaktadır.\n",
    "Trend; ortalama olarak, ölçümlerin zamanla artma (veya azaltma) eğiliminde olması anlamına gelir. Yıllar içerisinde platin fiyatlarında bir artış olduğu görülmektedir. \n",
    "Aykırı değerler; regresyon çizgisinden çok uzak değerler olarak düşünülebilir."
   ]
  },
  {
   "cell_type": "markdown",
   "metadata": {},
   "source": [
    "### Zaman serilerinin ayrıştırılması (Decomposition)\n",
    "Zaman serilerinin çoğu trend ve mevsimsel etkiye sahiptir.\n",
    "\n",
    "$Trend:$ ortalama olarak, ölçümlerin zamanla artma (veya azaltma) eğiliminde olması anlamına gelir.\n",
    "\n",
    "$Mevsimsellik:$yani mevsimler,aylar, haftanın günleri, gibi sürelerle ilgili düzenli ve yinelenen yüksek ve düşük örüntülerdir.\n",
    "Serilerin seviyesinde veya varyansta ani değişiklikler var mı?Ayrıştırma (decomposition) modelleri ile serilerin bu özelliklerden ayrılması sağlanır. Basit bir toplamsal(additive) model aşağıdaki şekilde gösterilebilir.\n",
    "$$X_t=m_t+s_t+R_t$$\n",
    "Buradaki $X_t$ zaman serisini gösterir.$m_t$ trend bileşenini ifade ederken, $s_t$ mevsimsel etkiyi göstermektedir. $R_t$ genellikle ortalaması sıfır olan korelasyonlu rastgele değişkenlerin bir dizisi yani kalan terimi göstermektedir.Amaç, Rt'nin sabit bir zaman serileri süreci olduğu bir ayrıştırma bulmaktır. Böyle bir model hava yolcu rezervasyonları, işsizlik gibi bir çok modelde karşımıza çıkabilir. Ayrıca tüm bu serilerin daha yakından incelenmesi, mevsimsel etkinin ve trendin arttığında rasgele değişimin arttığını göstermektedir. Bu gibi durumlarda, çarpımsal(multiplicative) model kullanılmaktadır. Çarpımsal model aşağıdaki şekilde ifade edilebilir.\n",
    "$$X_t=m_t*s_t*R_t$$\n",
    "\n",
    "(Marcel Dettling,2014)\n",
    "\n",
    "Trend $m_t$ , mevsimsellik $s_t$ ve kalan terimlerin  $R_t$ tahminlemesi bir çok açıdan yapılabilir. Örneğin Decompose() fonksiyonu trend, mevsimsellik değerlerini modelin toplamsal ya da çarpımsal parametresine göre ayrıştırmaktadır. Hem toplamsal(additive) hem de çarpımsal(multiplicative) model için zaman serisinin ayrıştırılması gösterilmiştir.\n",
    "R'nin stl () komutu, periyodik bir zaman serisinin trend, mevsimsellik ve geri kalanına ayrışmasını sağlayan başka bir yöntemdir. Tüm tahminler LOESS yumuşaklığına dayanmaktadır. Çıktısı neredeyse decompose () ile elde ettiğimiz değerlere benzer olmasına rağmen, bu fonksiyon daha güvenilir sonuçlar verebilmektedir.\n",
    "\n",
    "#### Beyaz Gürültü\n",
    "Veri setinin içindeki trend, mevsimsellik ve üssel dağılımları yukarıda anlatılan işlemlerle çıkarıldıktan sonra elimizde kalan grafiğin eğer herhangi bir aykırı değerler içermiyorsa beyaz gürültü olması beklenmektedir. Trendin ayrıştırılması için linear regresyon, mevsimselliğin ayrıştırılması için fourrier serileri ve üssel dağılımın ayrıştırılması için ise ARIMA modellerinin çıkarılması gerekmektedir. Aslında decompose() ve stl() fonksiyonları bu trend ve mevsimsellik için bu ayrıştırmayı yapmaktadır.\n",
    "Bu yüzden ayrışmadan elde kalan $R_t$ random fonksiyonunu gürültü fonksiyonuna yakın olması beklenmektedir. \n",
    "\n",
    "$Beyaz gürültü:$ Bir ${X_t}$ fonksiyonu bağımsız ve ortalaması sıfır ve varyansı $σ^2$ olarak dağılıma sahipse Beyaz Gürültü olarak adlandırılır. Bir beyaz gürültü aşağıdaki notasyon ifade edilebilir.\n",
    "$${Xt} ∼ N(0, σ^2)$$\n",
    "(Brockwell,2002)\n",
    "\n",
    "Aşağıda decompose() işleminin hem toplamsal, hem çarpımsal modele göre ayrıştırılması aynı zamanda stl() e göre yapılan ayrıştırmanın R komutları görülmektedir. Ayrıca bu ayrıştırmaların grafikleri oluşturulmuştur."
   ]
  },
  {
   "cell_type": "code",
   "execution_count": 4,
   "metadata": {
    "scrolled": false
   },
   "outputs": [
    {
     "data": {
      "image/png": "[encoded data removed]",
      "text/plain": [
       "plot without title"
      ]
     },
     "metadata": {},
     "output_type": "display_data"
    },
    {
     "data": {
      "image/png": "[encoded data removed]",
      "text/plain": [
       "plot without title"
      ]
     },
     "metadata": {},
     "output_type": "display_data"
    },
    {
     "data": {
      "image/png": "[encoded data removed]",
      "text/plain": [
       "plot without title"
      ]
     },
     "metadata": {},
     "output_type": "display_data"
    }
   ],
   "source": [
    "PlatinumPricesDecomposeA<-decompose(PlatinumPricests, type = c(\"additive\"), filter = NULL)\n",
    "plot(PlatinumPricesDecomposeA)\n",
    "PlatinumPricesDecomposeM<-decompose(PlatinumPricests, type = c(\"multiplicative\"), filter = NULL)\n",
    "plot(PlatinumPricesDecomposeM)\n",
    "PlatinumPricesSTL<-stl(PlatinumPricests,s.window='periodic')\n",
    "plot(PlatinumPricesSTL)\n"
   ]
  },
  {
   "cell_type": "markdown",
   "metadata": {},
   "source": [
    "Zaman serisi ayrıştırmasındaki $observed$ ile gösterilen verilerin gerçek grafiğidir. $Trend$ bileşeni $m_t$ yani eğilimi gösterirken, $seasonal$ verideki mevsimselliği yani $s_t$ temsil etmektedir. $Random$ ise gerçek verilerden $m_t$ ve $s_t$ değerlerinin çıkarılması ile oluşur. Bu da $R_t$ kalan değeri gösterir. Stl() ile yapılan ayrıştırma işleminde ise $remainder$ trend ve mevsimsellik çıkarıldığındaki kalan değeri ifade etmektedir.\n",
    "\n",
    "decompose() ve stl() ile yapılan ayrıştırmalar incelendiğinde hangisinin verinin ayrıştırmada doğru sonuçlar vereceği yani random fonksiyonlarından hangisinin beyaz gürültü fonksiyonuna daha yakın olduğu göz ile tespit edilememektedir. Bunun için normallik testlerinden yararlanılması gerekmektedir.\n",
    "\n",
    "#### Beyaz Gürültü Testleri\n",
    "Yukarıda yapılan ayrıştırma işlemlerinin amacı belirgin bir sapma göstermeyen ve özellikle belirgin bir eğilim veya mevsimselliğe sahip olmayan bir seri üretmektir.Bu aşamadan bir sonraki adım tahmini gürültü serisini modellemektir (Yani, verilerden trend ve mevsimsel bileşenleri tahmin ederek ve çıkararak elde edilen artıklar).Eğer bu artıklar arasında bir bağımlılık yoksa, onları bağımsız rasgele değişkenlerin gözlemleri olarak görebiliriz ve onların ortalama ve varyanslarını tahmin etmek dışında başka bir modelleme yoktur. Ancak, artıklar arasında önemli bir bağımlılık varsa, o zaman bağımlılığı açıklayan gürültü için daha karmaşık bir durağan zaman serisi modelini aramamız gerekir.\n",
    "\n",
    "$R_t$ serisinin beyaz gürültü olup olmadığı için testler kullanılmalıdır. Eğer beyaz gürültü ise zaman serisi açıklanmış olacaktır ve içerisinde trend ve mevsimsellikten başka bir anamoliye rastlanmamıştır diyebiliriz.Fakat değil ise o zaman ARIMA gibi modellerle içerisindeki anomaliler saptanıcaktır.(Brockwell,2002)\n",
    "\n",
    "##### Normallik Testleri\n",
    "###### Shapiro-Wilks test   \n",
    "Shapiro ve Wilk tarafından geliştirilen Shapiro-Wilk testi, çoğu durumda en güçlü ve çok amaçlı testtir. Son yıllarda, SW testi, çok çeşitli alternatif testlere kıyasla iyi güç özellikleri nedeniyle normalliğin tercih edilen testi haline gelmiştir.W test istatistiği dağılımın normal olup olmadığına karar verilmesi için kullanılır. W test istatistiği aşağıdaki notasyon ile ifade edilir.\n",
    "$$W=\\frac{\\sum_i(a_ix_i)^2}{\\sum_i(x_i-\\bar{x})^2}$$\n",
    "$x_i$ veri setindeki değerleri, $\\bar{x}$,ortalamayı ve n, gözlemlerin sayısını temsil eder.${x_t}$ herhangi bir veri seti olmak üzere normalliğinin testi için kullanılan Shapiro-Wil test için Shapiro.test($x_t$) R komutu kullanılır. Eğer p değeri, istenilen $\\alpha$ değerinden küçük ise o zaman normallik hipotezini reddedilir. Test istatistiği \n",
    "0 <W ≤ 1 arasındadır. W değerinin 1'e yakın değerler için  normallik hipotezi reddedilmez. Daha küçük W için reddedilecektir. Yani W değeri büyük olan $R_t$ beyaz gürültüye daha çok benzemektedir. Test sadece n ≥ 3 değerleri için geçerlidir ve R uygulaması n 5,000'e kadar izin vermektedir. (Investigation of Four Different Normality Tests in Terms of Type 1 Error Rate and Power under Different Distributions)\n",
    "\n",
    "###### Kolmogorov-Smirnov test \n",
    "KS testi ilk olarak Kolmogorov tarafından önerilmiştir ve daha sonra Smirnov tarafından geliştirilmiştir. Bu test verilerin kümülatif dağılımını beklenen kümülatif normal dağılım ile karşılaştırır. Yani iki örneklemi karşılaştırmak için kullanılmaktadır.Test istatistiği D normalliğe karar vermek için kullanılır. D test istatistiği için  küçük değerleri, normalliği ifade etmektedir. D test istatistiği aşağıdaki notasyon ile ifade edilir.\n",
    "$$ D=\\max[F_x(u)-F_y(u)]$$\n",
    "Fakat bizim test etmemiz gereken bir örneklem olduğu için R'da kullanılan ks.test() fonskiyonunda ikinci örneklem için 'pnorm' yani örnek bir kümülatif dağılımı temsil etmektedir. (Investigation of Four Different Normality Tests in Terms of Type 1 Error Rate and Power under Different Distributions)\n",
    "Shapiro-Wilks test ile 3 ile 5000 tane veri test edilebilirken  Kolmogorov-Smirnov testi ile daha çok veri test edilebilir.\n",
    "Aşağıda ayrıştırmalardan kalan veri setleri için normallik testleri uygulanmıştır. Shapiro-Wilk testi 5000 veri ile çalıştığı için mevcut veri setimizin içerisinden örneklem oluşturarak daha doğru sonuçlar elde edilecektir."
   ]
  },
  {
   "cell_type": "code",
   "execution_count": 96,
   "metadata": {},
   "outputs": [
    {
     "data": {
      "text/plain": [
       "\n",
       "\tShapiro-Wilk normality test\n",
       "\n",
       "data:  SamplePlatinumPricesDecomposeA\n",
       "W = 0.88087, p-value < 2.2e-16\n"
      ]
     },
     "metadata": {},
     "output_type": "display_data"
    },
    {
     "data": {
      "text/plain": [
       "\n",
       "\tShapiro-Wilk normality test\n",
       "\n",
       "data:  SamplePlatinumPricesDecomposeM\n",
       "W = 0.96922, p-value < 2.2e-16\n"
      ]
     },
     "metadata": {},
     "output_type": "display_data"
    },
    {
     "data": {
      "text/plain": [
       "\n",
       "\tShapiro-Wilk normality test\n",
       "\n",
       "data:  SamplePlatinumPricesDecomposeSTL\n",
       "W = 0.90094, p-value < 2.2e-16\n"
      ]
     },
     "metadata": {},
     "output_type": "display_data"
    },
    {
     "data": {
      "text/plain": [
       "\n",
       "\tOne-sample Kolmogorov-Smirnov test\n",
       "\n",
       "data:  PlatinumPricesDecomposeA$random\n",
       "D = 0.10909, p-value < 2.2e-16\n",
       "alternative hypothesis: two-sided\n"
      ]
     },
     "metadata": {},
     "output_type": "display_data"
    },
    {
     "data": {
      "text/plain": [
       "\n",
       "\tOne-sample Kolmogorov-Smirnov test\n",
       "\n",
       "data:  PlatinumPricesDecomposeM$random\n",
       "D = 1, p-value < 2.2e-16\n",
       "alternative hypothesis: two-sided\n"
      ]
     },
     "metadata": {},
     "output_type": "display_data"
    },
    {
     "data": {
      "text/plain": [
       "\n",
       "\tOne-sample Kolmogorov-Smirnov test\n",
       "\n",
       "data:  PlatinumPricesSTL$time.series[, 3]\n",
       "D = 0.11648, p-value < 2.2e-16\n",
       "alternative hypothesis: two-sided\n"
      ]
     },
     "metadata": {},
     "output_type": "display_data"
    }
   ],
   "source": [
    "SamplePlatinumPricesDecomposeA<-sample(PlatinumPricesDecomposeA$random,5000)\n",
    "SamplePlatinumPricesDecomposeM<-sample(PlatinumPricesDecomposeM$random,5000)\n",
    "SamplePlatinumPricesDecomposeSTL<-sample(PlatinumPricesSTL$time.series[,3],5000)\n",
    "shapiro.test(SamplePlatinumPricesDecomposeA)\n",
    "shapiro.test(SamplePlatinumPricesDecomposeM)\n",
    "shapiro.test(SamplePlatinumPricesDecomposeSTL)\n",
    "ks.test(PlatinumPricesDecomposeA$random,'pnorm',mean=0,sd=sqrt(var(na.omit(PlatinumPricesDecomposeA$random))))\n",
    "ks.test(PlatinumPricesDecomposeM$random,'pnorm',mean=0,sd=sqrt(var(na.omit(PlatinumPricesDecomposeM$random))))\n",
    "ks.test(PlatinumPricesSTL$time.series[,3],'pnorm',mean=0,sd=sqrt(var(na.omit(PlatinumPricesSTL$time.series[,3]))))"
   ]
  },
  {
   "cell_type": "markdown",
   "metadata": {},
   "source": [
    "Shapiro-Wilk testinin çıktılarına göre en büyük W değeri çarpımsal model kullanılarak yapılan ayrıştırmanın 5000 verilik örnekleminden kalan verilerinde görülmektedir. Yani shapiro-wilk testine göre çarpımsal modelin $R_t$ değeri normalliğe daha yakındır. Fakat Kolmogorov-Smirnov testi ise D değeri küçük olan toplamsal ve stl ile yapılan ayrıştırmadan kalan $R_t$'nin normalliğe daha yakın olduğunu göstermektedir. Buradan anlaşılacağı üzere herhangi bir ayrıştırmanın en iyi olacağı sonucuna varılamamıştır. Yani shapiro-wilk testi ile Kolmogorov-Smirnov testi birbirleriyle çelişki çıktılara sahiptir. Bundan dolayı bir sonraki adımda yapılacak olan Box-Jenkins modelleri hem toplamsal hem de çarpımsal modellerin kalanları için uygulanmalıdır. Uyhun Box-Jenkins modelin tespiti için serinin durağan olup olmadığına karar verilmesi gerekir. Durağan bir seri için Otoregresyon Modelleri (AR),Hareketli Ortalama Modelleri (MA),Otoregresif Hareketli Ortalama Modelleri(ARMA) kullanılırken durağan olmayan seriler için bütünleşik hareketli otoregresif modeller (ARIMA) kullanılır.\n",
    "\n",
    "### Durağanlık\n",
    "Bir zaman serisi ${X_t, t=0, ± 1, ...}$, eğer her h tam sayısı için ${X_{t+h}, t=0, ± 1, ...}$ zaman kaydırılmış serisi ile benzer istatistiksel özelliklere sahipse durağandır.\n",
    "{$X_t$} bir zaman serisi aşağıdaki özelliklere sahip olsun.\n",
    "\n",
    "Beklenen Değer $\\varphi$: E($X_t$),\n",
    "\n",
    "Varyans $\\sigma^2$: Var($X_t$) ,\n",
    "\n",
    "Kovaryans $\\gamma$: Cov ($X_t$,$X_{t+h}$)\n",
    "\n",
    "Başka bir deyişle durağan zaman serisi verilerinin belirli bir zaman sürecinde sürekli artma veya azalmanın olmadığı, verilerin zaman boyunca bir yatay eksen boyunca saçılım gösterdiği biçimde tanımlanır. Genel bir tanımlama ile, sabit ortalama, sabit varyans ve seriye ait iki değer arasındaki farkın zamana değil, yalnızca iki zaman değeri arasındaki farka bağlı olması şeklinde ifade edilir.\n",
    "Bir zaman serisinin durağan olup olmadığı 2 yöntem ile saptanabilir;\n",
    "1.Serilerin zaman yolu grafiğinde ve onun korelogramında otokorelasyon ve kısmi otokorelasyon katsayıları üzerinde yapılan subjektif yargılar ile\n",
    "2.Birim köklerin varlığını için istatistiki testlerin kullanılması ile.\n",
    "\n",
    "Durağanlık için kullanılan bazı testlere örnek olarak Genişletilmiş Dickey-Fuller (ADF) Testi ve KPSS Testi verilebilir.(Marcel Dettling,2014)\n",
    "\n",
    "### Box-Jenkins Modelleri\n",
    "Gecikmeli doğrusal ilişkiler yoluyla ortaya çıkabilen korelasyonun getirilmesi, otoregresif (AR), hareketli ortalamalar(MA) otoregresif hareketli ortalama (ARMA) modellerin önerilmesine yol açmaktadır. Durağan olmayan modeller için Box ve Jenkins (1970) tarafından yapılan otoregresif entegre hareketli ortalama (ARIMA) modeli ortaya çıkmıştır. \n",
    "\n",
    "#### Durağan Zaman Serisi Modelleri\n",
    "##### Otoregresif Modeller (AR)\n",
    "Bir zaman serisi modelinin en doğal formülasyonu, geçmiş değerleriyle doğrusal bir ilişkiye sahip olması yani serinin kendisinin herhangi bir gerilemesi ile arasında regresyon olmasıdır. Bu, otoregresif model ile yapılır ve zaman serilerinin açıklamanın en kullanılan modelidir.Otoregresif modeller, $x_t$ serisinin mevcut değerinin, geçmiş değerlerin, $x_{t-1}$,$x_{t-2}$,...,$x_{t-p}$ nin bir fonksiyonu olarak açıklanabileceği fikrine dayanmaktadır. Burada p, mevcut değeri tahmin etmek için gerekli olan geçmiş adım sayısını belirler. \n",
    "$AR(p)$ aşağıdaki denklemlere göre geçmiş gözlemlerin doğrusal bir kombinasyonuna dayanır:\n",
    "$$X_t=\\sum_i a_iX_{t-i}+w_t$$\n",
    "Buradaki $a_i$ değerleri katsayılardır. $w_t$ terimi bir Beyaz Gürültü işleminden gelir. $AR(p)$ modelleri sadece sabit zaman serilerine uygulanabilir. Herhangi bir eğilim ve / veya mevsimsel etkilerin öncelikle kaldırılması gerekir.\n",
    "Verilere bir $AR(p)$ modelinin p değerinin saptanması kısmi otokorelasyon fonksiyonunun(PACF) analizine dayanır. PACF analizine göre ilk olarak makul görünen en basit modeli denenir. PACF'nin 'cut-off' çizgisini kestiği tüm değerler olası p değerleridir. İlk olarak en küçük p değerinden başlanarak diğer değerler denenir. \n",
    "\n",
    "###### Kısmi Otokorelasyon Fonksiyonu(PACF)\n",
    "Genel olarak, kısmi bir korelasyon bir koşullu korelasyondur.Diğer değişkenler grubunun değerlerini bildiğimiz ve hesaba kattığımız varsayımı altında iki değişken arasındaki ilişkidir.$Y$ ve $x_3$ arasındaki kısmi korelasyon, hem $Y$ hem de $x_3$'ün $x_1$ ve $x_2$ ile ilgili olduğunu dikkate alarak belirlenen değişkenler arasındaki korelasyondur. N. dereceden Kısmi korelasyonu aşağıdaki notasyon ile tanımlayabiliriz.\n",
    "\n",
    "$$\\frac{Kovaryans(x_t,x_{t-n}|x_{t-1},x_{t-2},...x_{t-n+1})}{\\sqrt{(Varyans(x_t|x_{t-1},x_{t-2},...x_{t-n+1})Varyans(x_{t-n}|x_{t-1},x_{t-2},...x_{t-n+1})}}$$\n",
    "\n",
    "Aşağıda trend ve mevsimselliği ayrıştırıldıktan sonra kalan $R_t$ fonksiyonlarının PACF korelogramları hesaplanmıştır."
   ]
  },
  {
   "cell_type": "code",
   "execution_count": 97,
   "metadata": {
    "scrolled": true
   },
   "outputs": [
    {
     "data": {
      "image/png": "[encoded data removed]",
      "text/plain": [
       "Plot with title \"Series  na.omit(PlatinumPricesDecomposeA$random)\""
      ]
     },
     "metadata": {},
     "output_type": "display_data"
    },
    {
     "data": {
      "image/png": "[encoded data removed]",
      "text/plain": [
       "Plot with title \"Series  na.omit(PlatinumPricesDecomposeM$random)\""
      ]
     },
     "metadata": {},
     "output_type": "display_data"
    },
    {
     "data": {
      "image/png": "[encoded data removed]",
      "text/plain": [
       "Plot with title \"Series  na.omit(PlatinumPricesSTL$time.series[, 3])\""
      ]
     },
     "metadata": {},
     "output_type": "display_data"
    }
   ],
   "source": [
    "pacf(na.omit(PlatinumPricesDecomposeA$random))\n",
    "pacf(na.omit(PlatinumPricesDecomposeM$random))\n",
    "pacf(na.omit(PlatinumPricesSTL$time.series[,3]))"
   ]
  },
  {
   "cell_type": "markdown",
   "metadata": {},
   "source": [
    "Hesaplanan PACF korelogramlarına göre AR(p) modelinin p değerleri toplamsal modele göre {1,2,4,7}'dir. Çarpımsal modele göre ise {1,2,3,4}, stl modeline göre yapılan ayrıştırmaya göre ise {1,2,4,7}'dir.\n",
    "\n",
    "##### Hareketli Ortalamalar Modeli(MA)\n",
    "Hareketli ortalama (MA) modeli, mevcut beyaz gürültü teriminin ve yakın geçmişte geçen beyaz gürültü terimlerinin doğrusal bir kombinasyonu şeklinde tanımlanabilir. Birçok açıdan hareketli ortalama modellerin otoregresif modellere tamamlayıcısı olmaktadır.\n",
    "Yukarıda bahsedildiği üzere, MA(q) modelinin $E_t$ yani hata terimlerinin bir kombinasyonu olduğu görülmektedir. Aşağıdaki notasyon ile ifade edilebilir;\n",
    "$$x_t = E_t + θ_1E_{t−1} + θ_2E_{t−2} + · · · + θ_qE_{t-q}$$\n",
    "Buradaki $E_t$ değeri sıfır ortalama ve varyanslı beyaz gürültüdür. Verilere bir $MA(q)$ modelinin q değerinin saptanması otokorelasyon fonksiyonunun(ACF) analizine dayanır.\n",
    "\n",
    "###### Otokorelasyon Fonksiyonu(ACF)\n",
    "Bir zaman serisi için otokorelasyon fonksiyonu (ACF), dizinin $x_t$ ve 1, 2, 3 ve benzeri gecikmeler için dizinin gecikmeli değerleri arasındaki korelasyonları verir. Gecikmiş değerler $x_{t-1}$, $x_{t-2}$, $x_{t-3}$ ve benzeri şekilde yazılabilir. ACF,$x_t$ ve$x_{t-1}$, $x_{t-2}$, $x_{t-3}$,.. arasındaki korelasyonları verir. X_t ile X_{t+k} arasındaki otokorelasyon;\n",
    "$$Cov(X_{t+k},X_t)= \\frac{Kovaryans(x_t,x_{t+k})}{\\sqrt{(Varyans(x_t)Varyans(x_{t+k})}}$$\n",
    "\n",
    "\n",
    "Aşağıda trend ve mevsimselliği ayrıştırıldıktan sonra kalan $R_t$ fonksiyonlarının ACF korelogramları hesaplanmıştır."
   ]
  },
  {
   "cell_type": "code",
   "execution_count": 25,
   "metadata": {},
   "outputs": [
    {
     "data": {
      "image/png": "[encoded data removed]",
      "text/plain": [
       "Plot with title \"Series  na.omit(PlatinumPricesDecomposeA$random)\""
      ]
     },
     "metadata": {},
     "output_type": "display_data"
    },
    {
     "data": {
      "image/png": "[encoded data removed]",
      "text/plain": [
       "Plot with title \"Series  na.omit(PlatinumPricesDecomposeM$random)\""
      ]
     },
     "metadata": {},
     "output_type": "display_data"
    },
    {
     "data": {
      "image/png": "[encoded data removed]",
      "text/plain": [
       "Plot with title \"Series  na.omit(PlatinumPricesSTL$time.series[, 3])\""
      ]
     },
     "metadata": {},
     "output_type": "display_data"
    }
   ],
   "source": [
    "acf(na.omit(PlatinumPricesDecomposeA$random),lag.max = 50000)\n",
    "acf(na.omit(PlatinumPricesDecomposeM$random),lag.max = 50000)\n",
    "acf(na.omit(PlatinumPricesSTL$time.series[,3]),lag.max = 50000)"
   ]
  },
  {
   "cell_type": "markdown",
   "metadata": {},
   "source": [
    "ACF korelagramına bakılarak MA(q) modeli için q parametresi tahminlemesi yapılamamaktadır.\n",
    "##### ARIMA modelleri\n",
    "AR(p) ve MA(q) modellerinin birlikte kullanılması durumundan ortaya çıkan model ARMA(p,q) olarak adlandırılır. Önemi, çok daha geniş bir bağımlılık yapıları yelpazesinin modellenmesinin mümkün olduğu ve bunların da karmaşık olduğu gerçeğinde yatmaktadır. Çoğu zaman, bir ARMA(p,q) sadece AR veya MA süreçleriyle bulunan p,q değerlerinden daha az sayıda parametre gerektirmektedir. Burada model hem {$E_t$} kalan terimlerinin hem de {$X_t$} önceki verilerin kombinasyonu şeklindedir. Bir ARMA (p,q) modeli aşağıdaki notasyon ile ifade edilebilir:\n",
    "$$x_t = a_1x_{t-1}+ a_2x_{t-2}+...+a_px_{t-p}+E_t + θ_1E_{t−1} + θ_2E_{t−2} + ... + θ_qE_{t-q}$$\n",
    "\n",
    "##### ARIMA Modelleri\n",
    "Geniş bir dizi durağan olmayan seriyi içeren bu sınıfın bir genellemesi, ARIMA süreçleri, yani birçok kez farklılaştıklarında ARMA işlemlerine indirgeyen süreçler tarafından sağlanır. {$x_t$} serisi bir ARMA(p,q) modelinden elde edilen bir seri olmak üzere, eğer $d^{th}$ dereceden farkı alınmasıyla elde edilen süreç ARIMA olarak adlandırılır. \n",
    "$$Y_t=(1-B)^dX_t$$ şeklinde ifade edilir. Buradaki B, 'backshift' operatörüdür.\n",
    "R'da auto.arima fonksiyonu AIC, AICc veya BIC değerine göre en iyi ARIMA modelinin oluşturulmasını sağlar.\n",
    "\n",
    "###### Model kriterlerinin kullanılarak uygun ARIMA modelinin seçimi\n",
    "Modelseçim kriterlerine örnek olarak AIC ve BIC verilebilir.Akaike bilgi kriteri (AIC) (Akaike, 1974), bir modelin gelecekteki değerleri tahmin etme / tahmin etme olasılığını tahmin etmek için örneklem içi uygunluğu için kullanılan bir tekniktir.Diğer tüm modeller arasında minimum AIC'ye sahip olan model iyi bir modeldir.(Metcalfe,2014) Aşağıdaki şekilde ifade edilir.\n",
    "$$AIC = -2*log-likelihood+ 2*parametrelerin  sayısı$$\n",
    "Bayes bilgisi kriteri (BIC) (Stone, 1979), modelin modele uyumu ve karmaşıklığı arasındaki dengeyi ölçen bir model seçim kriteridir.\n",
    "\n",
    "Model seçim kriterleri olarak minimum AIC ve BIC değerleri kullanılır. En uygun model, minimum AIC ve BIC'ye göre seçilir.\n",
    "Aşağıda toplamsal, çarpımsal ve stl modellerine göre yapılan ayrıştırmanın kalanı ile herhangi bit işlem yapılmadan saf veriye auto.arima uygulanmıştır."
   ]
  },
  {
   "cell_type": "code",
   "execution_count": 8,
   "metadata": {},
   "outputs": [
    {
     "data": {
      "text/plain": [
       "Series: na.omit(PlatinumPricesDecomposeM$random) \n",
       "ARIMA(1,0,3) with non-zero mean \n",
       "\n",
       "Coefficients:\n",
       "         ar1     ma1      ma2      ma3    mean\n",
       "      0.9856  0.0593  -0.0213  -0.0287  0.9881\n",
       "s.e.  0.0022  0.0124   0.0124   0.0118  0.0170\n",
       "\n",
       "sigma^2 estimated as 0.0004008:  log likelihood=16755.36\n",
       "AIC=-33498.71   AICc=-33498.7   BIC=-33457.83"
      ]
     },
     "metadata": {},
     "output_type": "display_data"
    },
    {
     "data": {
      "text/plain": [
       "Series: na.omit(PlatinumPricesDecomposeA$random) \n",
       "ARIMA(2,0,3) with zero mean \n",
       "\n",
       "Coefficients:\n",
       "         ar1     ar2     ma1     ma2      ma3\n",
       "      0.6854  0.2953  0.3562  0.0274  -0.0350\n",
       "s.e.  0.3572  0.3515  0.3570  0.0241   0.0147\n",
       "\n",
       "sigma^2 estimated as 74.96:  log likelihood=-24050.32\n",
       "AIC=48112.65   AICc=48112.66   BIC=48153.53"
      ]
     },
     "metadata": {},
     "output_type": "display_data"
    },
    {
     "data": {
      "text/plain": [
       "Series: na.omit(PlatinumPricesSTL$time.series[, 3]) \n",
       "ARIMA(3,0,4) with zero mean \n",
       "\n",
       "Coefficients:\n",
       "         ar1      ar2     ar3      ma1     ma2      ma3     ma4\n",
       "      2.3488  -2.0564  0.7008  -1.3097  0.6470  -0.0085  0.0632\n",
       "s.e.  0.1678   0.3165  0.1506   0.1676  0.1462   0.0249  0.0153\n",
       "\n",
       "sigma^2 estimated as 75.72:  log likelihood=-25386.98\n",
       "AIC=50789.95   AICc=50789.97   BIC=50844.88"
      ]
     },
     "metadata": {},
     "output_type": "display_data"
    },
    {
     "data": {
      "text/plain": [
       "Series: na.omit(PlatinumPrices[, 2]) \n",
       "ARIMA(5,1,3) with drift \n",
       "\n",
       "Coefficients:\n",
       "         ar1     ar2      ar3     ar4     ar5      ma1      ma2     ma3\n",
       "      0.5984  0.6173  -0.9024  0.0641  0.0307  -0.5508  -0.6404  0.8459\n",
       "s.e.  0.0986  0.0351   0.0766  0.0153  0.0180   0.0978   0.0302  0.0839\n",
       "        drift\n",
       "      -0.1347\n",
       "s.e.   0.1179\n",
       "\n",
       "sigma^2 estimated as 80.58:  log likelihood=-25601.45\n",
       "AIC=51222.89   AICc=51222.93   BIC=51291.55"
      ]
     },
     "metadata": {},
     "output_type": "display_data"
    }
   ],
   "source": [
    "auto.arima(na.omit(PlatinumPricesDecomposeM$random))\n",
    "auto.arima(na.omit(PlatinumPricesDecomposeA$random))\n",
    "auto.arima(na.omit(PlatinumPricesSTL$time.series[,3]))\n",
    "auto.arima(na.omit(PlatinumPrices[,2]))"
   ]
  },
  {
   "cell_type": "markdown",
   "metadata": {},
   "source": [
    "Veri içerisindeki trend, mevsimsel etki ve üssel dağılım konseptleri çıkarıldıktan sonra elde kalan verinin beyaz gürültü olması eklenmektedir. Decompose işlemi ile hem trend hem de mevsimsellik etki veriden uzaklaştırılmıştır. Arima modelleri ise veriden üssel etkilerin çıkarılmasını sağlar.\n",
    "\n",
    "Uyguladığımız arima modellerinden AIC değeri mutlak değerce en düşük olan multiplicative veriye uygulanan p=1, q=0,r=3 modeli seçilmiştir. Veri seti 1gün önceye bağlı olarak ve 3 günün ortalamasını alarak ilerlemektedir. Herhangi bir fark alınmadığı için durağan bir veri olduğu söylenebilir.\n",
    "\n",
    "ARIMA modeli ile üstel etkilerin çıkarılması için AIC,BIC değeri en düşük olan ARIMA(1,0,3) uygulamasından kalan seriye aşağıdaki şekilde ulaşılabilir. Ayrıca bu kalan değerin beyaz gürültü fonksiyonu olması beklenir.\n"
   ]
  },
  {
   "cell_type": "code",
   "execution_count": 98,
   "metadata": {
    "scrolled": true
   },
   "outputs": [
    {
     "data": {
      "image/png": "[encoded data removed]",
      "text/plain": [
       "plot without title"
      ]
     },
     "metadata": {},
     "output_type": "display_data"
    }
   ],
   "source": [
    "PlatinumPricesArima<-arima(na.omit(PlatinumPricesDecomposeM$random),order=c(1,0,3))\n",
    "WhiteNoise<-PlatinumPricesArima$residuals\n",
    "plot(WhiteNoise)"
   ]
  },
  {
   "cell_type": "markdown",
   "metadata": {},
   "source": [
    "Kalan verinin grafiğindeki bantın genişliği riski ifade etmektedir. Risk neredeyse tüm zamananlarda aynıdır.\n",
    "\n",
    "Arima modeli uygulandıktan sonra kalanından elde edilmesi beklenen beyaz gürültü fonksiyonun normalliği aşağıdaki R kodu ile yapılabilir;"
   ]
  },
  {
   "cell_type": "code",
   "execution_count": 109,
   "metadata": {
    "scrolled": true
   },
   "outputs": [
    {
     "data": {
      "text/plain": [
       "\n",
       "\tShapiro-Wilk normality test\n",
       "\n",
       "data:  SampleWN\n",
       "W = 0.90966, p-value < 2.2e-16\n"
      ]
     },
     "metadata": {},
     "output_type": "display_data"
    },
    {
     "data": {
      "text/plain": [
       "\n",
       "\tOne-sample Kolmogorov-Smirnov test\n",
       "\n",
       "data:  WhiteNoise\n",
       "D = 0.081414, p-value < 2.2e-16\n",
       "alternative hypothesis: two-sided\n"
      ]
     },
     "metadata": {},
     "output_type": "display_data"
    }
   ],
   "source": [
    "SampleWN<-sample(WhiteNoise,5000)\n",
    "shapiro.test(SampleWN)\n",
    "ks.test(WhiteNoise, 'pnorm',mean=0,sd=sqrt(var(WhiteNoise)))"
   ]
  },
  {
   "cell_type": "markdown",
   "metadata": {},
   "source": [
    "Çarpımsal modelden arima(1,0,3) çıkarılmadan önce yapılan normallik testlerinin sonuçları aşağıda verilmiştir."
   ]
  },
  {
   "cell_type": "code",
   "execution_count": 110,
   "metadata": {},
   "outputs": [
    {
     "data": {
      "text/plain": [
       "\n",
       "\tShapiro-Wilk normality test\n",
       "\n",
       "data:  SamplePlatinumPricesDecomposeM\n",
       "W = 0.96922, p-value < 2.2e-16\n"
      ]
     },
     "metadata": {},
     "output_type": "display_data"
    },
    {
     "data": {
      "text/plain": [
       "\n",
       "\tOne-sample Kolmogorov-Smirnov test\n",
       "\n",
       "data:  PlatinumPricesDecomposeM$random\n",
       "D = 1, p-value < 2.2e-16\n",
       "alternative hypothesis: two-sided\n"
      ]
     },
     "metadata": {},
     "output_type": "display_data"
    }
   ],
   "source": [
    "shapiro.test(SamplePlatinumPricesDecomposeM)\n",
    "ks.test(PlatinumPricesDecomposeM$random,'pnorm',mean=0,sd=sqrt(var(na.omit(PlatinumPricesDecomposeM$random))))"
   ]
  },
  {
   "cell_type": "markdown",
   "metadata": {},
   "source": [
    "Shapiro-Wilk normallik testine göre W değeri küçülmüştür. Bu da arima(1,0,3) modeli uygulandıktan sonra kalan verinin normallikten uzaklaştığını göstermektedir. Fakat Kolmogorov-Smirnov testine göre zaman serisinin kalanının normal dağılıma daha çok yaklaştığı D test istatistiğinden görülmektedir. D değeri küçüldüğünden seri normalliğe daha da yaklaşmıştır. Kolmogorov testi tüm veri setini test ettiği için Shapiro-Wilk testine göre daha doğru sonuçlar vermektedir.\n",
    "\n",
    "AIC ve BIC değerleri aynı ayrıştırma modeli ile ayrıştırılmış (örneğin ikisi de toplamsal model olarak) fakat farklı arima modelleri uygulanmış veriler üzerinde daha doğru bir seçim kriteri oluşturmaktadır. Bu yüzden yukarıdaki tüm arima modelleri için auto.arima fonksiyonun sonuçları değerlendirilmeli ve normallik testleri uygulanmalıdır. Aşağıda bu işlemler gösterişmiştir.\n",
    "###### Toplamsal model;"
   ]
  },
  {
   "cell_type": "code",
   "execution_count": 115,
   "metadata": {
    "scrolled": true
   },
   "outputs": [
    {
     "data": {
      "text/plain": [
       "\n",
       "\tShapiro-Wilk normality test\n",
       "\n",
       "data:  SampleWN2\n",
       "W = 0.89053, p-value < 2.2e-16\n"
      ]
     },
     "metadata": {},
     "output_type": "display_data"
    },
    {
     "data": {
      "text/plain": [
       "\n",
       "\tOne-sample Kolmogorov-Smirnov test\n",
       "\n",
       "data:  WhiteNoise2\n",
       "D = 0.1106, p-value < 2.2e-16\n",
       "alternative hypothesis: two-sided\n"
      ]
     },
     "metadata": {},
     "output_type": "display_data"
    }
   ],
   "source": [
    "PlatinumPricesArimaToplamsal<-arima(na.omit(PlatinumPricesDecomposeA$random),order=c(2,0,3))\n",
    "WhiteNoise2<-PlatinumPricesArimaToplamsal$residuals\n",
    "SampleWN2<-sample(WhiteNoise2,5000,replace = TRUE)\n",
    "shapiro.test(SampleWN2)\n",
    "ks.test(WhiteNoise2, 'pnorm',mean=0,sd=sqrt(var(WhiteNoise2)))"
   ]
  },
  {
   "cell_type": "markdown",
   "metadata": {},
   "source": [
    "###### STL modeli;"
   ]
  },
  {
   "cell_type": "code",
   "execution_count": 117,
   "metadata": {
    "scrolled": true
   },
   "outputs": [
    {
     "data": {
      "text/plain": [
       "\n",
       "\tShapiro-Wilk normality test\n",
       "\n",
       "data:  SampleWN3\n",
       "W = 0.89938, p-value < 2.2e-16\n"
      ]
     },
     "metadata": {},
     "output_type": "display_data"
    },
    {
     "data": {
      "text/plain": [
       "\n",
       "\tOne-sample Kolmogorov-Smirnov test\n",
       "\n",
       "data:  WhiteNoise3\n",
       "D = 0.11288, p-value < 2.2e-16\n",
       "alternative hypothesis: two-sided\n"
      ]
     },
     "metadata": {},
     "output_type": "display_data"
    }
   ],
   "source": [
    "PlatinumPricesArimaSTL<-arima(na.omit(PlatinumPricesSTL$time.series[,3]),order=c(3,0,4))\n",
    "WhiteNoise3<-PlatinumPricesArimaSTL$residuals\n",
    "SampleWN3<-sample(WhiteNoise3,5000)\n",
    "shapiro.test(SampleWN3)\n",
    "ks.test(WhiteNoise3, 'pnorm',mean=0,sd=sqrt(var(WhiteNoise3)))"
   ]
  },
  {
   "cell_type": "markdown",
   "metadata": {},
   "source": [
    "###### Saf veri seti;"
   ]
  },
  {
   "cell_type": "code",
   "execution_count": 118,
   "metadata": {},
   "outputs": [
    {
     "data": {
      "text/plain": [
       "\n",
       "\tShapiro-Wilk normality test\n",
       "\n",
       "data:  SampleWN4\n",
       "W = 0.87047, p-value < 2.2e-16\n"
      ]
     },
     "metadata": {},
     "output_type": "display_data"
    },
    {
     "data": {
      "text/plain": [
       "\n",
       "\tOne-sample Kolmogorov-Smirnov test\n",
       "\n",
       "data:  WhiteNoise4\n",
       "D = 0.13839, p-value < 2.2e-16\n",
       "alternative hypothesis: two-sided\n"
      ]
     },
     "metadata": {},
     "output_type": "display_data"
    }
   ],
   "source": [
    "PlatinumPricesArimaPure<-arima(na.omit(PlatinumPrices[,2]),order=c(5,1,3))\n",
    "WhiteNoise4<-PlatinumPricesArimaPure$residuals\n",
    "SampleWN4<-sample(WhiteNoise4,5000)\n",
    "shapiro.test(SampleWN4)\n",
    "ks.test(WhiteNoise4, 'pnorm',mean=0,sd=sqrt(var(WhiteNoise4)))"
   ]
  },
  {
   "cell_type": "markdown",
   "metadata": {},
   "source": [
    "Ayrıştırmalara göre uygun arima modeli uygulanmadan kalan $R_t$ serilerinin normalliği arima modeli uygulandığında kalan $R_t$ serilerinin normalliğinden daha iyi sonuca sahiptir. Bu da uygulanan arima modellerinin doğru olmadığını göstermektedir.\n",
    "\t\n",
    "# Sonuç\n",
    "Yukarıda yapılan testlere göre en iyi sonucun AIC ve BIC değerine göre en iyi sonucu veren çarpımsal modele uygulanan arima(1,0,3) modeliyle yapılan ayrıştırmaya göre olduğu görülmektedir. Veri setindeki tüm anomaliler çıkarıldıktan sonra kalan verinin beyaz gürültü olması beklenir. Beyaz gürültü fonksiyonu normal dağılıma sahiptir. Kalan verinin gürültü datası olup olmadığı test edilmiş ve gürültü datası olduğu sonucuna varılmıştır. Bu da veriye uygulanan ayrıştırma modellerinin doğru bir şekilde uygulandığını göstermektedir."
   ]
  },
  {
   "cell_type": "markdown",
   "metadata": {},
   "source": [
    "# Tahminleme\n",
    "Zaman serileri analizi ile temel hedeflerden biri, verilerin gelecekteki durumunu gösteren tahminler üretmektir.Bu tahminleme extrapolasyonla yapılır. Ekstrapolasyon her zaman doğru sonuçlar vermeyebilir ve yanlış sonuçlara yol açabilir. Tahminleme de aynı şekilde doğru yapılamayabilir.\n",
    "Sinyal içeren seriler gürültüye göre daha güçlü olduğu seriler oldukları için tahminlemenin doğru yapılması mümkündür. Bununla birlikte, gürültülü seriler için, tahminlerde büyük bir belirsizlik vardır ve bunlar çok kısa bir aralık için en güvenilirdir.\n",
    "Yukarıdakilerden yola çıkarak, belirsizliklerin ana kaynağının sürecin içindeki yenilikler olduğu söylenebilir. Doğru tahminleme yapabilmek için veri üretme sürecinin zaman içinde değişmediğinden, yani geçmişte gözlemlendiği gibi gelecekte devam edeceğinden emin olunmalıdır. Doğru model uygulansa dahi parametreler arasındaki ek belirsizlikler doğru tahminlemeyi etkilemektedir.\n",
    "\n",
    "Zaman serisi tahminlemelerine ilk olarak, durağan süreçleri tahmin etmek için kullanılan AR, MA ve ARMA süreçleriörnek olarak gösterilebilir. Trend içeren durağan olmayan seriler için ise ARIMA modeli ile tahminleme yapılabilir.\n",
    "\n",
    "## ARIMA ile Tahminleme\n",
    "Kalan $R_t$ yani Beyaz Gürültü gibi göründüğü bir zaman dizisindeki tahminleme ARIMA modeli ile yapılabilir.  Bu koşullar altında, tahminler kolayca hesaplanabilir\n",
    "\n",
    "Uygun ARIMA modelinin tanımlanan parametrelerin başarılı bir şekilde tahmin edildiği ve artıkların gerekli özellikleri sergilediği, yani Beyaz Gürültü gibi göründüğü bir zaman dizisi verildiğini varsayıyoruz. Bu koşullar altında, tahminler kolayca hesaplanabilir. \n",
    "\n",
    "Bu, istediğimiz bir $ARMA (p,q,r)$ modelinden herhangi bir tahmin üretmemizi sağlar. Bu prosedür aynı zamanda Box-Jenkins prosedürü olarak da bilinmektedir. R'da kullanılan, arima ()'dan sonra uygulanan forecast() fonksiyonunda Box-Jenkins şeması arka planda çalışmaktadır.\n",
    "\n",
    "Verilerinin modele uyarlanması ve 30 adımlık tahminlerin üretilmesi için R komutları aşağıdaki gibidir. Arima() orderleri belli modeli oluşturur ve forecast() fonksiyonu belirlenen modele göre verilen parametre kadar tahmin üretir. Oluşturulan tahminlemenin görselleştirilmesi için aşağıdaki R kodundan yararlanılabilir.İlk aşamada yaptığımız durağan olmayan zaman serileri için ayrıştırma aşamalarından yararlanılarak trend, mevsimsellik içermeyen seriler için tahmin üretilebilecektir. Yani çarpımsal ayrıştırmanın arima(1,0,3) modeline göre tahminlemesi yapılacaktır. Son 30 veriye kadar model uygulanacak ve daha sonra 30 adet tahmin yapılıp gerçek değerlerle tahminler karşılaştırılacatır."
   ]
  },
  {
   "cell_type": "code",
   "execution_count": 253,
   "metadata": {},
   "outputs": [
    {
     "data": {
      "image/png": "[encoded data removed]",
      "text/plain": [
       "Plot with title \"Forecasts from ARIMA(1,0,3) with non-zero mean\""
      ]
     },
     "metadata": {},
     "output_type": "display_data"
    }
   ],
   "source": [
    "l<-length(na.omit(PlatinumPricesDecomposeM$random))\n",
    "PlatinumPricesArimaForecast<-arima(na.omit(PlatinumPricesDecomposeM$random)[0:(l-30)],order=c(1,0,3))\n",
    "tahmin <- forecast(PlatinumPricesArimaForecast,30)\n",
    "plot(tahmin)"
   ]
  },
  {
   "cell_type": "markdown",
   "metadata": {},
   "source": [
    "Aşağıda gerçek veriler ve arima modeliyle yapılan tahmin ile yapılan veriler için ortalama hata hesaplanmıştır. Bu değer tahminlemelerin karşılaştırılması için kullanılır."
   ]
  },
  {
   "cell_type": "code",
   "execution_count": 242,
   "metadata": {},
   "outputs": [
    {
     "data": {
      "text/html": [
       "0.0807618374114145"
      ],
      "text/latex": [
       "0.0807618374114145"
      ],
      "text/markdown": [
       "0.0807618374114145"
      ],
      "text/plain": [
       "[1] 0.08076184"
      ]
     },
     "metadata": {},
     "output_type": "display_data"
    }
   ],
   "source": [
    "sum(ts(na.omit(PlatinumPricesDecomposeM$random)[(l-30):l])-ts(tahmin$mean)^2)/30"
   ]
  },
  {
   "cell_type": "markdown",
   "metadata": {},
   "source": [
    "Keşif analizi yaparken bulduğumuz uygun arima modeli olan (1,0,3) modeli uygulanarak yukarıdaki tahminleme yapılmıştır.\n",
    "\n",
    "## Holt-Winters Yöntemi\n",
    "Eğilim ve mevsimsellik sergileyen seriler için yapılan bir tahminleme yöntemidir.\n",
    "$$ a_t=\\alpha(x_t-s{t-p})-(1-\\alpha)(a_{t-1}+b_t{t-1})$$\n",
    "$$ b_t=\\beta(a_t-a_{t-1})-(1-\\beta)(b_{t-1})$$\n",
    "$$ s_t=\\gamma(x_t-a_t)-(1-\\gamma)(s{t-p})$$\n",
    "\n",
    "Buradaki $a_t$, t zamanındaki tekrar, $b_t$ eğim, $s_t$ mevsimsel etkidir. Seviye, eğim ve mevsimi hedefleyen üç düzeltme parametresi $\\alpha$,$\\beta$,$\\gamma$'dır.\n",
    "\n",
    "İlk denklem, seviye güncelleme denklemi, bir önceki periyodik mevsimsel etki terimi çıkarılan mevcut tahmini ile son seviyeli eğim ile bir önceki seviye tahmini ile ağırlıklı ortalamasını alır.\n",
    "\n",
    "İkinci güncelleme denklemi, mevcut seviye ve bir önceki seviye arasındaki farkın t-1 zamanında tahmini eğim ile ağırlıklı ortalamasını alır. Bu yalnızca mevcutsa hesaplanabilir.\n",
    "\n",
    "Son olarak, mevsimsel terim için, aynı birim için mevsimsel terimin önceki tahmini ile gözlem ve seviye arasındaki farkın ağırlıklı ortalaması alınarak, t-p zamanında yapılan bir başka tahmin daha elde edilir.\n",
    "\n",
    "R fonksiyonu HoltWinters () uygulandığında, başlangıç değerleri decompose () prosedüründen elde edilir ve SSPE1 minimizasyonu yoluyla yumuşatma parametrelerini tahmin etmek mümkündür.Parametre tahminini SSPE1 ile uygulanarak bulunur. Uygun seviye, eğilim ve mevsimsellik için mevcut tahminleri içerir. Çarpımsal model kullanılarak mevsimsellik ve trend içeren bir zaman serisinin tahmininde kullanılacak Holt Winters parametreleri aşağıdaki şekilde elde edilebilir."
   ]
  },
  {
   "cell_type": "code",
   "execution_count": 266,
   "metadata": {
    "scrolled": true
   },
   "outputs": [
    {
     "name": "stderr",
     "output_type": "stream",
     "text": [
      "Warning message in HoltWinters(PlatinumPricests, seasonal = \"mult\"):\n",
      "\"optimization difficulties: ERROR: ABNORMAL_TERMINATION_IN_LNSRCH\""
     ]
    },
    {
     "data": {
      "text/plain": [
       "Holt-Winters exponential smoothing with trend and multiplicative seasonal component.\n",
       "\n",
       "Call:\n",
       "HoltWinters(x = PlatinumPricests, seasonal = \"mult\")\n",
       "\n",
       "Smoothing parameters:\n",
       " alpha: 0.8934153\n",
       " beta : 0.001148839\n",
       " gamma: 1\n",
       "\n",
       "Coefficients:\n",
       "             [,1]\n",
       "a    133.87563667\n",
       "b     -0.01070965\n",
       "s1     0.95897584\n",
       "s2     0.96363155\n",
       "s3     0.96583295\n",
       "s4     0.96959547\n",
       "s5     0.98627413\n",
       "s6     0.99507441\n",
       "s7     0.99793326\n",
       "s8     1.00579199\n",
       "s9     1.00129224\n",
       "s10    1.00272910\n",
       "s11    0.97921023\n",
       "s12    0.96607694\n",
       "s13    0.95142542\n",
       "s14    0.95261969\n",
       "s15    0.95869091\n",
       "s16    0.96171059\n",
       "s17    0.96760434\n",
       "s18    0.94272199\n",
       "s19    0.92762617\n",
       "s20    0.91002524\n",
       "s21    0.89982834\n",
       "s22    0.88135134\n",
       "s23    0.85914141\n",
       "s24    0.84509426\n",
       "s25    0.84141196\n",
       "s26    0.84612149\n",
       "s27    0.84674040\n",
       "s28    0.85107505\n",
       "s29    0.85758011\n",
       "s30    0.86436670\n",
       "s31    0.88908880\n",
       "s32    0.92393984\n",
       "s33    0.95913386\n",
       "s34    0.98080978\n",
       "s35    0.99781365\n",
       "s36    1.00957184\n",
       "s37    1.01424563\n",
       "s38    1.01277298\n",
       "s39    1.00908483\n",
       "s40    1.01159255\n",
       "s41    1.01269203\n",
       "s42    1.01040745\n",
       "s43    1.00169822\n",
       "s44    0.99042541\n",
       "s45    0.99347087\n",
       "s46    0.99744160\n",
       "s47    1.00366700\n",
       "s48    1.01137134\n",
       "s49    1.01151984\n",
       "s50    1.01376408\n",
       "s51    1.00494664\n",
       "s52    1.00755715\n",
       "s53    1.01965841\n",
       "s54    1.03463109\n",
       "s55    1.04417307\n",
       "s56    1.05020908\n",
       "s57    1.03893192\n",
       "s58    1.04251413\n",
       "s59    1.03959292\n",
       "s60    1.04729473\n",
       "s61    1.04918680\n",
       "s62    1.06261483\n",
       "s63    1.06856401\n",
       "s64    1.05674968\n",
       "s65    1.05117564\n",
       "s66    1.03797201\n",
       "s67    1.03393637\n",
       "s68    1.02788265\n",
       "s69    1.01999565\n",
       "s70    1.00864630\n",
       "s71    0.99486073\n",
       "s72    0.98329011\n",
       "s73    0.96907010\n",
       "s74    0.95428422\n",
       "s75    0.94239166\n",
       "s76    0.94140952\n",
       "s77    0.93716265\n",
       "s78    0.93956702\n",
       "s79    0.93472428\n",
       "s80    0.94445307\n",
       "s81    0.96424747\n",
       "s82    0.98169097\n",
       "s83    0.98689082\n",
       "s84    0.98898453\n",
       "s85    0.99344319\n",
       "s86    0.99913626\n",
       "s87    0.99852119\n",
       "s88    1.00273521\n",
       "s89    1.00497859\n",
       "s90    1.00691361\n",
       "s91    1.01284337\n",
       "s92    1.00861153\n",
       "s93    1.00838549\n",
       "s94    1.00572634\n",
       "s95    1.00361766\n",
       "s96    0.99776817\n",
       "s97    0.99329088\n",
       "s98    0.99467603\n",
       "s99    0.99390114\n",
       "s100   0.99348086\n",
       "s101   1.00298268\n",
       "s102   1.01252291\n",
       "s103   1.00118575\n",
       "s104   1.01346452\n",
       "s105   1.02680968\n",
       "s106   1.02932963\n",
       "s107   1.02723348\n",
       "s108   1.02048942\n",
       "s109   1.00860094\n",
       "s110   1.00979075\n",
       "s111   1.01254270\n",
       "s112   1.00961148\n",
       "s113   1.01761889\n",
       "s114   1.01907587\n",
       "s115   1.01984074\n",
       "s116   1.01553496\n",
       "s117   1.01225407\n",
       "s118   1.01437390\n",
       "s119   1.00749639\n",
       "s120   1.00137797\n",
       "s121   0.99762026\n",
       "s122   0.98720751\n",
       "s123   0.98175381\n",
       "s124   0.98073627\n",
       "s125   0.97484143\n",
       "s126   0.96932132\n",
       "s127   0.97853082\n",
       "s128   0.99864929\n",
       "s129   1.00707247\n",
       "s130   1.00936428\n",
       "s131   1.01247552\n",
       "s132   1.02376298\n",
       "s133   1.03195566\n",
       "s134   1.02771380\n",
       "s135   1.02470820\n",
       "s136   1.02841577\n",
       "s137   1.02657435\n",
       "s138   1.02317708\n",
       "s139   1.02555677\n",
       "s140   1.03244162\n",
       "s141   1.04851960\n",
       "s142   1.04881085\n",
       "s143   1.05047818\n",
       "s144   1.05371390\n",
       "s145   1.05272710\n",
       "s146   1.04466296\n",
       "s147   1.04232216\n",
       "s148   1.03741395\n",
       "s149   1.02652733\n",
       "s150   1.02164128\n",
       "s151   1.02912754\n",
       "s152   1.02466489\n",
       "s153   1.01936045\n",
       "s154   0.99729647\n",
       "s155   0.99341962\n",
       "s156   0.99929645\n",
       "s157   1.02122147\n",
       "s158   1.03829891\n",
       "s159   1.05683832\n",
       "s160   1.05037119\n",
       "s161   1.04652778\n",
       "s162   1.03952164\n",
       "s163   1.02731191\n",
       "s164   1.03135838\n",
       "s165   1.03257182\n",
       "s166   1.04281790\n",
       "s167   1.04471504\n",
       "s168   1.05053162\n",
       "s169   1.04027048\n",
       "s170   1.04059426\n",
       "s171   1.03101790\n",
       "s172   1.01877615\n",
       "s173   0.99561664\n",
       "s174   0.96689401\n",
       "s175   0.94732115\n",
       "s176   0.94031658\n",
       "s177   0.93046586\n",
       "s178   0.93332768\n",
       "s179   0.93746623\n",
       "s180   0.94346303\n",
       "s181   0.94940926\n",
       "s182   0.96422528\n",
       "s183   0.98776555\n",
       "s184   1.00723977\n",
       "s185   1.02573518\n",
       "s186   1.03687643\n",
       "s187   1.04605503\n",
       "s188   1.05141735\n",
       "s189   1.05439822\n",
       "s190   1.05698771\n",
       "s191   1.05538792\n",
       "s192   1.06258049\n",
       "s193   1.07511188\n",
       "s194   1.08347640\n",
       "s195   1.08628878\n",
       "s196   1.08855532\n",
       "s197   1.08075713\n",
       "s198   1.07568412\n",
       "s199   1.06919140\n",
       "s200   1.06856512\n",
       "s201   1.06522072\n",
       "s202   1.04681630\n",
       "s203   1.03545980\n",
       "s204   1.03384984\n",
       "s205   1.03230172\n",
       "s206   1.02046190\n",
       "s207   1.01251157\n",
       "s208   1.00613417\n",
       "s209   0.99094642\n",
       "s210   0.96898338\n",
       "s211   0.95131086\n",
       "s212   0.94155371\n",
       "s213   0.93370398\n",
       "s214   0.92924615\n",
       "s215   0.92391875\n",
       "s216   0.92289685\n",
       "s217   0.91670344\n",
       "s218   0.91845549\n",
       "s219   0.92444216\n",
       "s220   0.93420828\n",
       "s221   0.93797743\n",
       "s222   0.93661510\n",
       "s223   0.93517309\n",
       "s224   0.93768664\n",
       "s225   0.94799055\n",
       "s226   0.94969994\n",
       "s227   0.95643611\n",
       "s228   0.96787608\n",
       "s229   0.98141649\n",
       "s230   0.99512358\n",
       "s231   1.00363983\n",
       "s232   1.01604088\n",
       "s233   1.02025333\n",
       "s234   1.02886277\n",
       "s235   1.04632271\n",
       "s236   1.07416174\n",
       "s237   1.08541612\n",
       "s238   1.08765047\n",
       "s239   1.07952536\n",
       "s240   1.07430495\n",
       "s241   1.07465100\n",
       "s242   1.07113879\n",
       "s243   1.06837701\n",
       "s244   1.05844199\n",
       "s245   1.05419440\n",
       "s246   1.05163877\n",
       "s247   1.04354802\n",
       "s248   1.03350305\n",
       "s249   1.02702749\n",
       "s250   1.02806009\n",
       "s251   1.03183965\n",
       "s252   1.04359706\n",
       "s253   1.05869613\n",
       "s254   1.07303555\n",
       "s255   1.07431277\n",
       "s256   1.07275856\n",
       "s257   1.06396588\n",
       "s258   1.05396256\n",
       "s259   1.06066559\n",
       "s260   1.07385774\n",
       "s261   1.08367307\n",
       "s262   1.09124388\n",
       "s263   1.09452075\n",
       "s264   1.10211409\n",
       "s265   1.11740057\n",
       "s266   1.11103894\n",
       "s267   1.10931589\n",
       "s268   1.10661418\n",
       "s269   1.09694659\n",
       "s270   1.09794794\n",
       "s271   1.10106302\n",
       "s272   1.11682425\n",
       "s273   1.12741202\n",
       "s274   1.12742527\n",
       "s275   1.11039912\n",
       "s276   1.11549885\n",
       "s277   1.11587079\n",
       "s278   1.12169921\n",
       "s279   1.13163565\n",
       "s280   1.14144623\n",
       "s281   1.14252974\n",
       "s282   1.13956675\n",
       "s283   1.12600920\n",
       "s284   1.10820185\n",
       "s285   1.09314409\n",
       "s286   1.08722327\n",
       "s287   1.08249053\n",
       "s288   1.07460190\n",
       "s289   1.06255235\n",
       "s290   1.05476476\n",
       "s291   1.05109010\n",
       "s292   1.04491318\n",
       "s293   1.04222680\n",
       "s294   1.03550389\n",
       "s295   1.01690847\n",
       "s296   1.00639817\n",
       "s297   0.99734830\n",
       "s298   0.99154008\n",
       "s299   0.98554662\n",
       "s300   0.98218460\n",
       "s301   0.97999484\n",
       "s302   0.97199396\n",
       "s303   0.95229508\n",
       "s304   0.93239673\n",
       "s305   0.91383131\n",
       "s306   0.91164496\n",
       "s307   0.90990704\n",
       "s308   0.90581538\n",
       "s309   0.90183947\n",
       "s310   0.89314973\n",
       "s311   0.88688448\n",
       "s312   0.88073888\n",
       "s313   0.88214759\n",
       "s314   0.88611839\n",
       "s315   0.89057983\n",
       "s316   0.89431625\n",
       "s317   0.89350672\n",
       "s318   0.89806899\n",
       "s319   0.90147131\n",
       "s320   0.90046453\n",
       "s321   0.89599782\n",
       "s322   0.89817611\n",
       "s323   0.88830306\n",
       "s324   0.89171786\n",
       "s325   0.89568983\n",
       "s326   0.88831720\n",
       "s327   0.88096123\n",
       "s328   0.89372587\n",
       "s329   0.90815479\n",
       "s330   0.91442800\n",
       "s331   0.92110490\n",
       "s332   0.93417957\n",
       "s333   0.95381803\n",
       "s334   0.96478285\n",
       "s335   0.97490457\n",
       "s336   0.98229257\n",
       "s337   0.98627622\n",
       "s338   0.98556406\n",
       "s339   0.98349106\n",
       "s340   0.99560774\n",
       "s341   1.00103502\n",
       "s342   1.00609392\n",
       "s343   1.01296224\n",
       "s344   1.01707392\n",
       "s345   1.01492925\n",
       "s346   1.00372645\n",
       "s347   1.00379332\n",
       "s348   1.00805136\n",
       "s349   1.00386738\n",
       "s350   0.99785700\n",
       "s351   0.98584466\n",
       "s352   0.96930819\n",
       "s353   0.95687826\n",
       "s354   0.95077649\n",
       "s355   0.95067092\n",
       "s356   0.93812327\n",
       "s357   0.93226942\n",
       "s358   0.92298033\n",
       "s359   0.92203013\n",
       "s360   0.91489853\n",
       "s361   0.92053010\n",
       "s362   0.93210322\n",
       "s363   0.93723099\n",
       "s364   0.93873486\n",
       "s365   0.95611123"
      ]
     },
     "metadata": {},
     "output_type": "display_data"
    }
   ],
   "source": [
    "m<-length(na.omit(PlatinumPricests))\n",
    "PPHW <- HoltWinters(PlatinumPricests, seasonal = \"mult\")\n",
    "PPHW"
   ]
  },
  {
   "cell_type": "markdown",
   "metadata": {},
   "source": [
    "Katsayı değerleri (n zamanında), yukarıda verilen formülle bu serilerden tahmin yapmak için kullanılanlardır. 30 basamaklı bir tahmin tahmin üretmek için aşağıdaki R komutundan yararlanılabilir."
   ]
  },
  {
   "cell_type": "code",
   "execution_count": 277,
   "metadata": {},
   "outputs": [
    {
     "data": {
      "image/png": "[encoded data removed]",
      "text/plain": [
       "Plot with title \"Holt-Winters filtering\""
      ]
     },
     "metadata": {},
     "output_type": "display_data"
    }
   ],
   "source": [
    "plot(PPHW)\n",
    "tahminHW<-predict(PPHW, n.ahead=30)\n",
    "lines(tahminHW, col=\"blue\", lty=4) "
   ]
  },
  {
   "cell_type": "code",
   "execution_count": 278,
   "metadata": {},
   "outputs": [
    {
     "data": {
      "text/html": [
       "14.8841253684505"
      ],
      "text/latex": [
       "14.8841253684505"
      ],
      "text/markdown": [
       "14.8841253684505"
      ],
      "text/plain": [
       "[1] 14.88413"
      ]
     },
     "metadata": {},
     "output_type": "display_data"
    }
   ],
   "source": [
    "sum(ts(na.omit(PlatinumPricests)[(m-30):m])-ts(tahminHW))^2/30"
   ]
  },
  {
   "cell_type": "markdown",
   "metadata": {},
   "source": [
    "Yukarıdaki ortalama hata karelerine göre arima ile yapılan tahminlemenin çok daha yakın sonuçlar verdiği gözlenmiştir."
   ]
  },
  {
   "cell_type": "code",
   "execution_count": null,
   "metadata": {},
   "outputs": [],
   "source": []
  }
 ],
 "metadata": {
  "kernelspec": {
   "display_name": "R",
   "language": "R",
   "name": "ir"
  },
  "language_info": {
   "codemirror_mode": "r",
   "file_extension": ".r",
   "mimetype": "text/x-r-source",
   "name": "R",
   "pygments_lexer": "r",
   "version": "3.4.2"
  }
 },
 "nbformat": 4,
 "nbformat_minor": 2
}
