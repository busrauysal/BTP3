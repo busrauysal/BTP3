{
 "cells": [
  {
   "cell_type": "markdown",
   "metadata": {},
   "source": [
    "# Zaman Serileri\n",
    "\n",
    "Bir zaman serisi, her biri belirli bir $t$ zamanında kaydedilmekte olan $X_t$ gözlemleri kümesidir. Kesikli zaman serileri gözlemlerin yapıldığı zamanların $t$ değerlerinin birbirlerinden ayrık olduğunu söylemektedir. Gözlemler sabit zaman aralıklarında yapıldığı durumlar kesikli zaman serilerine örnek olarak verilebilir. Sürekli zaman serileri ise gözlemlerin sürekli bir $T[0,1]$ aralığında yapılmasıyla oluşmaktadır.(Brockwell,2002)\n",
    "\n",
    "Bir çok alanda bilim, mühendislik ve ticaret dalında zaman içinde sıralı olarak ölçülen veriler bulunmaktadır. Örneğin bankalar her gün faiz oranlarını ve döviz kurlarını tutar ya da meteoroloji ofisleri sıcaklık değerlerinin günlük olarak tutarlar. Bir değişken, zaman içinde belirli sabit bir aralıkta ölçüldüğünde, elde edilen veriler bir zaman dizisi oluşturmaktadır.(Metcalfe,2011)\n",
    "\n",
    "## Zaman Serilerinin Analizi\n",
    "\n",
    "Ayrıca zaman serileri bir çok alanda karşımıza çıkan belirli aralıklarla ölçümlenmiş veri kümeleri olarak da tanımlanabilir. Temel bir veri analizinde birbirine benzer ve bağımsız dağılmış veriler mevcut iken zaman serilerinde birbiriyle ilişkili veriler bulunur. Zaman serilerindeki analizin amacı; geçmiş verilerdeki anomalileri saptamak, birbirleriyle ilişkilerini gözlemlemek ve gelecek için tahminleme yapabilmektir. Basit tanımlayıcı analizlerle verinin anlaşılması sağlanırken, kapsamlı bir analiz ile gözlenen verilerin rassal modellemesi yapılabilmektedir.(Marcel Dettling,2014)\n",
    "\n",
    "Zaman serilerinin temel özellikleri trend ve mevsimsel değişimlerdir. Bunlar matematiksel fonksiyonları ile deterministik olarak modellenebilirler. Ancak, zaman serilerinin bir diğer önemli özelliği ise birbirleriyle ilişkili olmaları yani birbirlerine yakın gözlemlerin korelasyon içermesidir. Bir zaman dizisi analizindeki temel amaç, bu istatistiksel ilişkiyi ve verideki temel özellikleri uygun istatistiksel modeller ve tanımlayıcı yöntemler kullanarak açıklamaktır. Yöntemlerin uygunluğu ise daha sonrasında uygulanacak istatiksel testlerle ölçümlenebilmektedir. (Metcalfe,2011)\n",
    "\n",
    "### Zaman Serisi Analizindeki Hedefler\n",
    "$Keşif Analizi:$\n",
    "Zaman serileri keşif analizleri ağırlıklı olarak zaman serilerinin temel özelliklerinin (mevsimsellik, trend, korelasyon...) saptanması, grafik çizimlerinin yapılması yani deterministik ve stokastik kısımların doğru şekilde incelenebilmesi için yapılır.\n",
    "\n",
    "$Modelleme:$\n",
    "Zaman serisine uygun bir modellenmenin yapılması keşif analizinde elde edilen bilgiler yardımıyla yapılmaktadır. Düzgün modelleme yapılmayan analizler bir sonraki adımda doğru sonuçlar vermeyecektir.\n",
    "\n",
    "$Tahmin:$\n",
    "Zaman serileri analizinde sıkça kullanılan yapılardan biri olan gelecekteki gözlemlerin tahmin edilmesidir. Fakat gelecekteki verilerin tahmini zaman serisinin geçmiş ve şimdiki özelliklerinin devam ettiği varsayımına dayanır. İyi bir tahmin yapılabilmesi için keşif analizinin doğru yapılması ve modelin doğru kurulması gerekmektedir.\n",
    "\n",
    "$Regresyon:$\n",
    "Zaman serisi analizinde gözlemlerin gelecekteki tahminlerini yapmaktan başka sıkça kullanılan diğer bir yapı ise gözlemler arasındaki ilişkinin saptanmasıdır. Bu şekilde zaman serileri daha açıklayıcı hale gelmektedir.\n",
    "\n",
    "$Süreç$ $Kontrol:$\n",
    "Optimal yönetim ve kalite kontrol amacıyla birçok üretim veya diğer süreçler ölçümlenir. Bu genellikle rassal bir modelin uygun olduğu zaman serisi verisi ile sonuçlanır. Bu, verilerdeki sinyalin anlaşılmasını sağlamaktadır. Üretimdeki hangi dalgalanmaların normal olduğunu ve hangilerinin müdahale gerektirdiğini izlemek mümkün hale gelir.\n",
    "\n",
    "### Zaman Serisi Analizindeki Anomalilerin tespiti\n",
    "Anomaliler, iyi tanımlanmış normal davranış kavramına uymayan verilerdeki yapılardır. Bu yapıları bulma problemi anomallilerin tespiti olarak adlandırılır. Anomali tespitinin önemi, verideki anormalliklerin çok çeşitli uygulama alanlarında önemli ve eyleme geçirilebilir bilgilere dönüşebilir olmasıdır. \n",
    "\n",
    "ARIMA, anomali tespiti için kullanılan bir modeldir. Sinyalleri doğru tahmin etmek ve anormallikleri bulmak için yeterince güçlü bir model olan ARIMA modelinin uygulanması için verinin trend, mevsimsellik gibi özelliklerinden arındırılması gerekmektedir.(Time Series Anomaly Detection Algorithms,2017)\n",
    "\n",
    "### Veri seti\n",
    "Veri analizinde kullanacağımız veri seti Londra'daki platin fiyatlarının dolar bazında 1990 ile 2018 yılları arasındaki günlük sabit değerleridir. Sabit fiyat, dünya çapındaki müşterilere ait siparişlerin eşleştirilmesini temsil eder.(www.Quandl.com)\n",
    "\n",
    "Platin çok değerli madenler arasındadır. Çok fazla değerli olmasının nedeni ender bulunuşu ve kullanım alanlarının fazlasıyla geniş olmasıdır. Otomotiv, diş hekimliği, jet ve füze motorları, laboratuvar gibi birçok alanda kullanılmaktadır. \n",
    "\n",
    "## Zaman serilerinin açıklanması\n",
    "Zaman serisi analizinde yapılması gereken ilk aşama verinin yüklenmesidir. Bunun için aşağıdaki R kodları kullanılmaktadır."
   ]
  },
  {
   "cell_type": "code",
   "execution_count": 2,
   "metadata": {},
   "outputs": [
    {
     "name": "stdout",
     "output_type": "stream",
     "text": [
      "package 'Quandl' successfully unpacked and MD5 sums checked\n",
      "\n",
      "The downloaded binary packages are in\n",
      "\tC:\\Users\\Büşra\\AppData\\Local\\Temp\\RtmpKADNEQ\\downloaded_packages\n"
     ]
    },
    {
     "name": "stderr",
     "output_type": "stream",
     "text": [
      "Warning message:\n",
      "\"package 'Quandl' was built under R version 3.4.4\"Loading required package: xts\n",
      "Warning message:\n",
      "\"package 'xts' was built under R version 3.4.4\"Loading required package: zoo\n",
      "Warning message:\n",
      "\"package 'zoo' was built under R version 3.4.4\"\n",
      "Attaching package: 'zoo'\n",
      "\n",
      "The following objects are masked from 'package:base':\n",
      "\n",
      "    as.Date, as.Date.numeric\n",
      "\n",
      "Warning message:\n",
      "\"package 'forecast' was built under R version 3.4.3\"Warning message:\n",
      "\"package 'tseries' was built under R version 3.4.3\""
     ]
    }
   ],
   "source": [
    "install.packages(\"Quandl\", repos='http://cran.us.r-project.org')\n",
    "library(Quandl)\n",
    "library(forecast)\n",
    "library(tseries)\n",
    "PlatinumPrices<-Quandl(\"LPPM/PALL\")"
   ]
  },
  {
   "cell_type": "markdown",
   "metadata": {},
   "source": [
    "Verinin yüklenmesi tamamlandıktan sonra verinin genel bir çerçevede incelenmesi yapılması gereken aşamalardan birisidir. Bunun için özetine bakılması, grafiğinin çizilmesi gerekir."
   ]
  },
  {
   "cell_type": "code",
   "execution_count": 3,
   "metadata": {},
   "outputs": [
    {
     "data": {
      "text/plain": [
       "      Date                USD AM            EUR AM           GBP AM     \n",
       " Min.   :1990-04-02   Min.   :  78.75   Min.   : 116.1   Min.   : 40.4  \n",
       " 1st Qu.:1997-04-09   1st Qu.: 161.12   1st Qu.: 246.3   1st Qu.: 99.7  \n",
       " Median :2004-04-19   Median : 325.00   Median : 420.6   Median :179.3  \n",
       " Mean   :2004-04-16   Mean   : 395.44   Mean   : 432.6   Mean   :254.1  \n",
       " 3rd Qu.:2011-04-23   3rd Qu.: 638.00   3rd Qu.: 576.2   3rd Qu.:413.6  \n",
       " Max.   :2018-05-08   Max.   :1128.00   Max.   :1179.5   Max.   :819.5  \n",
       "                                        NA's   :2213                    \n",
       "     USD PM            EUR PM           GBP PM     \n",
       " Min.   :  78.25   Min.   : 122.8   Min.   : 41.0  \n",
       " 1st Qu.: 161.53   1st Qu.: 246.4   1st Qu.: 99.6  \n",
       " Median : 325.00   Median : 418.9   Median :179.3  \n",
       " Mean   : 395.66   Mean   : 433.0   Mean   :254.3  \n",
       " 3rd Qu.: 638.75   3rd Qu.: 577.2   3rd Qu.:414.4  \n",
       " Max.   :1129.00   Max.   :1179.7   Max.   :819.2  \n",
       " NA's   :53        NA's   :2248     NA's   :53     "
      ]
     },
     "metadata": {},
     "output_type": "display_data"
    }
   ],
   "source": [
    "summary(PlatinumPrices)"
   ]
  },
  {
   "cell_type": "markdown",
   "metadata": {},
   "source": [
    "Yukarıdaki veri setimizdeki tüm değerlerin özeti görülmektedir. Çıkarılan özete göre, bu veri seti 1990 ile 2018 arasındaki platin fiyatlarının açılış ve kapanış fiyatlarını dolar, euro gibi para birimlerini baz alarak göstermektedir. Fakat yapılacak ilk aşama boyunca platinin dolar açılış fiyatı kullanıcak ve bu veriler arasında anomali tespiti yapılacaktır. İkinci sütunda dolar açılış fiyatlarının minimum fiyat 78.75(dolar) iken maximum 1128 (dolar) olduğu görülmektedir.\n",
    "Ayrıca yukarıdaki özet PlatinumPrices nesnesinin içerisinde yer alan tüm para birimleri bazında platin fiyatları içermektedir.\n",
    "\n",
    "Zaman serileri ts sınıfının bir R nesnesi olarak saklanır. Zaman serisinin doğru analizi için PlatinumPrices nesnesinin ikinci sütununda yer alan dolar açılış fiyatları zaman serisine dönüştürülmelidir. Zaman serisi nesneleri, yukarıda verilen işlevlerin başlangıcı, sonu ve sıklığını içeren bir dizi yönteme sahiptir. Fakat zaman serileri oluşturulurken sadece frekansının yazılması da yeterli olacaktır.\n",
    "\n",
    "Ayrıca zaman serisi analizindeki en önemli adımlardan biri verileri çizmektir; yani, grafiği oluşturmaktır."
   ]
  },
  {
   "cell_type": "code",
   "execution_count": 4,
   "metadata": {},
   "outputs": [
    {
     "data": {
      "image/png": "[encoded data removed]",
      "text/plain": [
       "Plot with title \"Platinum Prices 1990-2018\""
      ]
     },
     "metadata": {},
     "output_type": "display_data"
    }
   ],
   "source": [
    "PlatinumPricests<-ts(PlatinumPrices[,2],freq=365)\n",
    "plot(PlatinumPricests,type='s',xlab=\"Time\",ylab=\"($)\", main=\"Platinum Prices 1990-2018\")"
   ]
  },
  {
   "cell_type": "markdown",
   "metadata": {},
   "source": [
    "Yukarıda çizilen grafikten görüldüğü üzere ele alacağımız veri seti 1990-2018 yılları arasında Platin'in dolar fiyatını içermektedir. \n",
    "Veri setinin grafiğini çizmek için yukarıdaki R komutu kullanılır. 2008 yılına kadar neredeyse durağan seyreden fiyatlar 2008-2010 yılları arasında bir dalgalanma olduğu çizilen grafikte görülmektedir. 2010-2015 yıllarında yüksek fiyatlarda seyretmiş ve daha sonra azalarak günümüzdeki fiyatına ulaşmaktadır.Bu dalgalanmayı içeren sinyaller veri analizi aşamalarında saptanacak ve veriden uzaklaştıralacaktır. \n",
    "Mevsimsellik; aylar, haftanın günleri, mevsimler, vb. gibi sürelerleilgili düzenli ve yinelenen yüksek ve düşük örüntüleri ifade etmektedir. Yukarıda görüldüğü üzere veride herhangi bir mevsimselliğe rastlanmamaktadır.\n",
    "Trend; ortalama olarak, ölçümlerin zamanla artma (veya azaltma) eğiliminde olması anlamına gelir. Yıllar içerisinde platin fiyatlarında bir artış olduğu görülmektedir. \n",
    "Aykırı değerler; regresyon çizgisinden çok uzak değerler olarak düşünülebilir."
   ]
  },
  {
   "cell_type": "markdown",
   "metadata": {},
   "source": [
    "### Zaman serilerinin ayrıştırılması (Decomposition)\n",
    "Zaman serilerinin çoğu trend ve mevsimsel etkiye sahiptir.\n",
    "\n",
    "$Trend:$ ortalama olarak, ölçümlerin zamanla artma (veya azaltma) eğiliminde olması anlamına gelir.\n",
    "\n",
    "$Mevsimsellik:$yani mevsimler,aylar, haftanın günleri, gibi sürelerle ilgili düzenli ve yinelenen yüksek ve düşük örüntülerdir.\n",
    "Serilerin seviyesinde veya varyansta ani değişiklikler var mı?Ayrıştırma (decomposition) modelleri ile serilerin bu özelliklerden ayrılması sağlanır. Basit bir toplamsal(additive) model aşağıdaki şekilde gösterilebilir.\n",
    "$$X_t=m_t+s_t+R_t$$\n",
    "Buradaki $X_t$ zaman serisini gösterir.$m_t$ trend bileşenini ifade ederken, $s_t$ mevsimsel etkiyi göstermektedir. $R_t$ genellikle ortalaması sıfır olan korelasyonlu rastgele değişkenlerin bir dizisi yani kalan terimi göstermektedir.Amaç, Rt'nin sabit bir zaman serileri süreci olduğu bir ayrıştırma bulmaktır. Böyle bir model hava yolcu rezervasyonları, işsizlik gibi bir çok modelde karşımıza çıkabilir. Ayrıca tüm bu serilerin daha yakından incelenmesi, mevsimsel etkinin ve trendin arttığında rasgele değişimin arttığını göstermektedir. Bu gibi durumlarda, çarpımsal(multiplicative) model kullanılmaktadır. Çarpımsal model aşağıdaki şekilde ifade edilebilir.\n",
    "$$X_t=m_t*s_t*R_t$$\n",
    "\n",
    "(Marcel Dettling,2014)\n",
    "\n",
    "Trend $m_t$ , mevsimsellik $s_t$ ve kalan terimlerin  $R_t$ tahminlemesi bir çok açıdan yapılabilir. Örneğin Decompose() fonksiyonu trend, mevsimsellik değerlerini modelin toplamsal ya da çarpımsal parametresine göre ayrıştırmaktadır. Hem toplamsal(additive) hem de çarpımsal(multiplicative) model için zaman serisinin ayrıştırılması gösterilmiştir.\n",
    "R'nin stl () komutu, periyodik bir zaman serisinin trend, mevsimsellik ve geri kalanına ayrışmasını sağlayan başka bir yöntemdir. Tüm tahminler LOESS yumuşaklığına dayanmaktadır. Çıktısı neredeyse decompose () ile elde ettiğimiz değerlere benzer olmasına rağmen, bu fonksiyon daha güvenilir sonuçlar verebilmektedir.\n",
    "\n",
    "#### Beyaz Gürültü\n",
    "Veri setinin içindeki trend, mevsimsellik ve üssel dağılımları yukarıda anlatılan işlemlerle çıkarıldıktan sonra elimizde kalan grafiğin eğer herhangi bir aykırı değerler içermiyorsa beyaz gürültü olması beklenmektedir. Trendin ayrıştırılması için linear regresyon, mevsimselliğin ayrıştırılması için fourrier serileri ve üssel dağılımın ayrıştırılması için ise ARIMA modellerinin çıkarılması gerekmektedir. Aslında decompose() ve stl() fonksiyonları bu trend ve mevsimsellik için bu ayrıştırmayı yapmaktadır.\n",
    "Bu yüzden ayrışmadan elde kalan $R_t$ random fonksiyonunu gürültü fonksiyonuna yakın olması beklenmektedir. \n",
    "\n",
    "$Beyaz gürültü:$ Bir ${X_t}$ fonksiyonu bağımsız ve ortalaması sıfır ve varyansı $σ^2$ olarak dağılıma sahipse Beyaz Gürültü olarak adlandırılır. Bir beyaz gürültü aşağıdaki notasyon ifade edilebilir.\n",
    "$${Xt} ∼ N(0, σ^2)$$\n",
    "(Brockwell,2002)\n",
    "\n",
    "Aşağıda decompose() işleminin hem toplamsal, hem çarpımsal modele göre ayrıştırılması aynı zamanda stl() e göre yapılan ayrıştırmanın R komutları görülmektedir. Ayrıca bu ayrıştırmaların grafikleri oluşturulmuştur."
   ]
  },
  {
   "cell_type": "code",
   "execution_count": 5,
   "metadata": {
    "scrolled": false
   },
   "outputs": [
    {
     "data": {
      "image/png": "[encoded data removed]",
      "text/plain": [
       "plot without title"
      ]
     },
     "metadata": {},
     "output_type": "display_data"
    },
    {
     "data": {
      "image/png": "[encoded data removed]",
      "text/plain": [
       "plot without title"
      ]
     },
     "metadata": {},
     "output_type": "display_data"
    },
    {
     "data": {
      "image/png": "[encoded data removed]",
      "text/plain": [
       "plot without title"
      ]
     },
     "metadata": {},
     "output_type": "display_data"
    }
   ],
   "source": [
    "PlatinumPricesDecomposeA<-decompose(PlatinumPricests, type = c(\"additive\"), filter = NULL)\n",
    "plot(PlatinumPricesDecomposeA)\n",
    "PlatinumPricesDecomposeM<-decompose(PlatinumPricests, type = c(\"multiplicative\"), filter = NULL)\n",
    "plot(PlatinumPricesDecomposeM)\n",
    "PlatinumPricesSTL<-stl(PlatinumPricests,s.window='periodic')\n",
    "plot(PlatinumPricesSTL)\n"
   ]
  },
  {
   "cell_type": "markdown",
   "metadata": {},
   "source": [
    "Zaman serisi ayrıştırmasındaki $observed$ ile gösterilen verilerin gerçek grafiğidir. $Trend$ bileşeni $m_t$ yani eğilimi gösterirken, $seasonal$ verideki mevsimselliği yani $s_t$ temsil etmektedir. $Random$ ise gerçek verilerden $m_t$ ve $s_t$ değerlerinin çıkarılması ile oluşur. Bu da $R_t$ kalan değeri gösterir. Stl() ile yapılan ayrıştırma işleminde ise $remainder$ trend ve mevsimsellik çıkarıldığındaki kalan değeri ifade etmektedir.\n",
    "\n",
    "decompose() ve stl() ile yapılan ayrıştırmalar incelendiğinde hangisinin verinin ayrıştırmada doğru sonuçlar vereceği yani random fonksiyonlarından hangisinin beyaz gürültü fonksiyonuna daha yakın olduğu göz ile tespit edilememektedir. Bunun için normallik testlerinden yararlanılması gerekmektedir.\n",
    "\n",
    "#### Beyaz Gürültü Testleri\n",
    "Yukarıda yapılan ayrıştırma işlemlerinin amacı belirgin bir sapma göstermeyen ve özellikle belirgin bir eğilim veya mevsimselliğe sahip olmayan bir seri üretmektir.Bu aşamadan bir sonraki adım tahmini gürültü serisini modellemektir (Yani, verilerden trend ve mevsimsel bileşenleri tahmin ederek ve çıkararak elde edilen artıklar).Eğer bu artıklar arasında bir bağımlılık yoksa, onları bağımsız rasgele değişkenlerin gözlemleri olarak görebiliriz ve onların ortalama ve varyanslarını tahmin etmek dışında başka bir modelleme yoktur. Ancak, artıklar arasında önemli bir bağımlılık varsa, o zaman bağımlılığı açıklayan gürültü için daha karmaşık bir durağan zaman serisi modelini aramamız gerekir.\n",
    "\n",
    "$R_t$ serisinin beyaz gürültü olup olmadığı için testler kullanılmalıdır. Eğer beyaz gürültü ise zaman serisi açıklanmış olacaktır ve içerisinde trend ve mevsimsellikten başka bir anamoliye rastlanmamıştır diyebiliriz.Fakat değil ise o zaman ARIMA gibi modellerle içerisindeki anomaliler saptanıcaktır.(Brockwell,2002)\n",
    "\n",
    "##### Normallik Testleri\n",
    "###### Shapiro-Wilks test   \n",
    "Shapiro ve Wilk tarafından geliştirilen Shapiro-Wilk testi, çoğu durumda en güçlü ve çok amaçlı testtir. Son yıllarda, SW testi, çok çeşitli alternatif testlere kıyasla iyi güç özellikleri nedeniyle normalliğin tercih edilen testi haline gelmiştir.W test istatistiği dağılımın normal olup olmadığına karar verilmesi için kullanılır. W test istatistiği aşağıdaki notasyon ile ifade edilir.\n",
    "$$W=\\frac{\\sum_i(a_ix_i)^2}{\\sum_i(x_i-\\bar{x})^2}$$\n",
    "$x_i$ veri setindeki değerleri, $\\bar{x}$,ortalamayı ve n, gözlemlerin sayısını temsil eder.${x_t}$ herhangi bir veri seti olmak üzere normalliğinin testi için kullanılan Shapiro-Wil test için Shapiro.test($x_t$) R komutu kullanılır. Eğer p değeri, istenilen $\\alpha$ değerinden küçük ise o zaman normallik hipotezini reddedilir. Test istatistiği \n",
    "0 <W ≤ 1 arasındadır. W değerinin 1'e yakın değerler için  normallik hipotezi reddedilmez. Daha küçük W için reddedilecektir. Yani W değeri büyük olan $R_t$ beyaz gürültüye daha çok benzemektedir. Test sadece n ≥ 3 değerleri için geçerlidir ve R uygulaması n 5,000'e kadar izin vermektedir. (Investigation of Four Different Normality Tests in Terms of Type 1 Error Rate and Power under Different Distributions)\n",
    "\n",
    "###### Kolmogorov-Smirnov test \n",
    "KS testi ilk olarak Kolmogorov tarafından önerilmiştir ve daha sonra Smirnov tarafından geliştirilmiştir. Bu test verilerin kümülatif dağılımını beklenen kümülatif normal dağılım ile karşılaştırır. Yani iki örneklemi karşılaştırmak için kullanılmaktadır.Test istatistiği D normalliğe karar vermek için kullanılır. D test istatistiği için  küçük değerleri, normalliği ifade etmektedir. D test istatistiği aşağıdaki notasyon ile ifade edilir.\n",
    "$$ D=\\max[F_x(u)-F_y(u)]$$\n",
    "Fakat bizim test etmemiz gereken bir örneklem olduğu için R'da kullanılan ks.test() fonskiyonunda ikinci örneklem için 'pnorm' yani örnek bir kümülatif dağılımı temsil etmektedir. (Investigation of Four Different Normality Tests in Terms of Type 1 Error Rate and Power under Different Distributions)\n",
    "Shapiro-Wilks test ile 3 ile 5000 tane veri test edilebilirken  Kolmogorov-Smirnov testi ile daha çok veri test edilebilir.\n",
    "Aşağıda ayrıştırmalardan kalan veri setleri için normallik testleri uygulanmıştır. Shapiro-Wilk testi 5000 veri ile çalıştığı için mevcut veri setimizin içerisinden örneklem oluşturarak daha doğru sonuçlar elde edilecektir."
   ]
  },
  {
   "cell_type": "code",
   "execution_count": 6,
   "metadata": {},
   "outputs": [
    {
     "data": {
      "text/plain": [
       "\n",
       "\tShapiro-Wilk normality test\n",
       "\n",
       "data:  SamplePlatinumPricesDecomposeA\n",
       "W = 0.90043, p-value < 2.2e-16\n"
      ]
     },
     "metadata": {},
     "output_type": "display_data"
    },
    {
     "data": {
      "text/plain": [
       "\n",
       "\tShapiro-Wilk normality test\n",
       "\n",
       "data:  SamplePlatinumPricesDecomposeM\n",
       "W = 0.96362, p-value < 2.2e-16\n"
      ]
     },
     "metadata": {},
     "output_type": "display_data"
    },
    {
     "data": {
      "text/plain": [
       "\n",
       "\tShapiro-Wilk normality test\n",
       "\n",
       "data:  SamplePlatinumPricesDecomposeSTL\n",
       "W = 0.88443, p-value < 2.2e-16\n"
      ]
     },
     "metadata": {},
     "output_type": "display_data"
    },
    {
     "data": {
      "text/plain": [
       "\n",
       "\tOne-sample Kolmogorov-Smirnov test\n",
       "\n",
       "data:  PlatinumPricesDecomposeA$random\n",
       "D = 0.10966, p-value < 2.2e-16\n",
       "alternative hypothesis: two-sided\n"
      ]
     },
     "metadata": {},
     "output_type": "display_data"
    },
    {
     "data": {
      "text/plain": [
       "\n",
       "\tOne-sample Kolmogorov-Smirnov test\n",
       "\n",
       "data:  PlatinumPricesDecomposeM$random\n",
       "D = 1, p-value < 2.2e-16\n",
       "alternative hypothesis: two-sided\n"
      ]
     },
     "metadata": {},
     "output_type": "display_data"
    },
    {
     "data": {
      "text/plain": [
       "\n",
       "\tOne-sample Kolmogorov-Smirnov test\n",
       "\n",
       "data:  PlatinumPricesSTL$time.series[, 3]\n",
       "D = 0.11571, p-value < 2.2e-16\n",
       "alternative hypothesis: two-sided\n"
      ]
     },
     "metadata": {},
     "output_type": "display_data"
    }
   ],
   "source": [
    "SamplePlatinumPricesDecomposeA<-sample(PlatinumPricesDecomposeA$random,5000)\n",
    "SamplePlatinumPricesDecomposeM<-sample(PlatinumPricesDecomposeM$random,5000)\n",
    "SamplePlatinumPricesDecomposeSTL<-sample(PlatinumPricesSTL$time.series[,3],5000)\n",
    "shapiro.test(SamplePlatinumPricesDecomposeA)\n",
    "shapiro.test(SamplePlatinumPricesDecomposeM)\n",
    "shapiro.test(SamplePlatinumPricesDecomposeSTL)\n",
    "ks.test(PlatinumPricesDecomposeA$random,'pnorm',mean=0,sd=sqrt(var(na.omit(PlatinumPricesDecomposeA$random))))\n",
    "ks.test(PlatinumPricesDecomposeM$random,'pnorm',mean=0,sd=sqrt(var(na.omit(PlatinumPricesDecomposeM$random))))\n",
    "ks.test(PlatinumPricesSTL$time.series[,3],'pnorm',mean=0,sd=sqrt(var(na.omit(PlatinumPricesSTL$time.series[,3]))))"
   ]
  },
  {
   "cell_type": "markdown",
   "metadata": {},
   "source": [
    "Shapiro-Wilk testinin çıktılarına göre en büyük W değeri çarpımsal model kullanılarak yapılan ayrıştırmanın 5000 verilik örnekleminden kalan verilerinde görülmektedir. Yani shapiro-wilk testine göre çarpımsal modelin $R_t$ değeri normalliğe daha yakındır. Fakat Kolmogorov-Smirnov testi ise D değeri küçük olan toplamsal ve stl ile yapılan ayrıştırmadan kalan $R_t$'nin normalliğe daha yakın olduğunu göstermektedir. Buradan anlaşılacağı üzere herhangi bir ayrıştırmanın en iyi olacağı sonucuna varılamamıştır. Yani shapiro-wilk testi ile Kolmogorov-Smirnov testi birbirleriyle çelişki çıktılara sahiptir. Bundan dolayı bir sonraki adımda yapılacak olan Box-Jenkins modelleri hem toplamsal hem de çarpımsal modellerin kalanları için uygulanmalıdır. Uyhun Box-Jenkins modelin tespiti için serinin durağan olup olmadığına karar verilmesi gerekir. Durağan bir seri için Otoregresyon Modelleri (AR),Hareketli Ortalama Modelleri (MA),Otoregresif Hareketli Ortalama Modelleri(ARMA) kullanılırken durağan olmayan seriler için bütünleşik hareketli otoregresif modeller (ARIMA) kullanılır. Modellerin uygulanması için öncelikli olarak serinin durağan olup olmadığının testleri yapılmalı ve durağan olması sağlanmalıdır.\n",
    "\n",
    "### Durağanlık\n",
    "Bir zaman serisi ${X_t, t=0, ± 1, ...}$, eğer her h tam sayısı için ${X_{t+h}, t=0, ± 1, ...}$ zaman kaydırılmış serisi ile benzer istatistiksel özelliklere sahipse durağandır.\n",
    "{$X_t$} bir zaman serisi aşağıdaki özelliklere sahip olsun.\n",
    "\n",
    "Beklenen Değer $\\varphi$: E($X_t$),\n",
    "\n",
    "Varyans $\\sigma^2$: Var($X_t$) ,\n",
    "\n",
    "Kovaryans $\\gamma$: Cov ($X_t$,$X_{t+h}$)\n",
    "\n",
    "Başka bir deyişle durağan zaman serisi verilerinin belirli bir zaman sürecinde sürekli artma veya azalmanın olmadığı, verilerin zaman boyunca bir yatay eksen boyunca saçılım gösterdiği biçimde tanımlanır. Genel bir tanımlama ile, sabit ortalama, sabit varyans ve seriye ait iki değer arasındaki farkın zamana değil, yalnızca iki zaman değeri arasındaki farka bağlı olması şeklinde ifade edilir.\n",
    "Bir zaman serisinin durağan olup olmadığı 2 yöntem ile saptanabilir;\n",
    "\n",
    "1.Serilerin zaman yolu grafiğinde ve onun korelogramında otokorelasyon ve kısmi otokorelasyon katsayıları üzerinde yapılan subjektif yargılar ile\n",
    "\n",
    "2.Birim köklerin varlığını için istatistiki testlerin kullanılması ile.\n",
    "\n",
    "Durağanlık için kullanılan bazı testlere örnek olarak Genişletilmiş Dickey-Fuller (ADF) Testi ve KPSS Testi verilebilir.(Marcel Dettling,2014)\n",
    "\n",
    "#### Genişletilmiş Dickey-Fuller (ADF) Testi\n",
    "Genişletilmiş Dickey Fuller Testi (ADF) durağanlık için birim kök testidir. Birim kökler, zaman serisi analizinizde öngörülemeyen sonuçlara neden olabilir. Artırılmış Dickey-Fuller testi, seri korelasyon ile kullanılabilir. ADF testi, Dickey-Fuller testinden daha karmaşık modelleri ele alabilir ve aynı zamanda daha güçlüdür.  Sıfır hipotezi serinin durağan olmadığını ve birim kök içerdiğini, buna karşın alternatif hipotez ise seride birim kök olmadığını ve durağan olduğu ifade eder.\n",
    "\n",
    "\n",
    "####  KPSS (Kwiatkowski-Phillips-Schmidt-Shin) Testi\n",
    "KPSS testinde amaç gözlenen serideki deterministik trendi arındırarak serinin durağan olmasını sağlamaktır. Bu testte kurulan birim kök hipotezi ADF testinde kurulan hipotezlerden farklıdır. Sıfır hipotezi serinin durağan olduğunu ve birim kök içermediğini, buna karşın alternatif hipotez ise seride birim kök olduğunu ve durağan olmadığını ifade eder. Boş hipotezdeki durağanlık trend durağanlıktır. Çünkü seriler trendden arındırılmışlardır.\n",
    "\n",
    "Aşağıda durağanlık tespiti için ADF testi yapılmıştır."
   ]
  },
  {
   "cell_type": "code",
   "execution_count": 15,
   "metadata": {},
   "outputs": [
    {
     "name": "stderr",
     "output_type": "stream",
     "text": [
      "Warning message in adf.test(na.omit(SamplePlatinumPricesDecomposeA), k = 0):\n",
      "\"p-value smaller than printed p-value\""
     ]
    },
    {
     "data": {
      "text/plain": [
       "\n",
       "\tAugmented Dickey-Fuller Test\n",
       "\n",
       "data:  na.omit(SamplePlatinumPricesDecomposeA)\n",
       "Dickey-Fuller = -68.909, Lag order = 0, p-value = 0.01\n",
       "alternative hypothesis: stationary\n"
      ]
     },
     "metadata": {},
     "output_type": "display_data"
    },
    {
     "name": "stderr",
     "output_type": "stream",
     "text": [
      "Warning message in adf.test(na.omit(SamplePlatinumPricesDecomposeM), k = 0):\n",
      "\"p-value smaller than printed p-value\""
     ]
    },
    {
     "data": {
      "text/plain": [
       "\n",
       "\tAugmented Dickey-Fuller Test\n",
       "\n",
       "data:  na.omit(SamplePlatinumPricesDecomposeM)\n",
       "Dickey-Fuller = -69.183, Lag order = 0, p-value = 0.01\n",
       "alternative hypothesis: stationary\n"
      ]
     },
     "metadata": {},
     "output_type": "display_data"
    },
    {
     "name": "stderr",
     "output_type": "stream",
     "text": [
      "Warning message in adf.test(na.omit(SamplePlatinumPricesDecomposeSTL), k = 0):\n",
      "\"p-value smaller than printed p-value\""
     ]
    },
    {
     "data": {
      "text/plain": [
       "\n",
       "\tAugmented Dickey-Fuller Test\n",
       "\n",
       "data:  na.omit(SamplePlatinumPricesDecomposeSTL)\n",
       "Dickey-Fuller = -70.756, Lag order = 0, p-value = 0.01\n",
       "alternative hypothesis: stationary\n"
      ]
     },
     "metadata": {},
     "output_type": "display_data"
    }
   ],
   "source": [
    "adf.test(na.omit(SamplePlatinumPricesDecomposeA),k=0)\n",
    "adf.test(na.omit(SamplePlatinumPricesDecomposeM),k=0)\n",
    "adf.test(na.omit(SamplePlatinumPricesDecomposeSTL),k=0)\n"
   ]
  },
  {
   "cell_type": "markdown",
   "metadata": {},
   "source": [
    "Yukarıdaki yapılan testlere göre serinin durağan olduğu söylenebilir. \n",
    "### Box-Jenkins Modelleri\n",
    "Gecikmeli doğrusal ilişkiler yoluyla ortaya çıkabilen korelasyonun getirilmesi, otoregresif (AR), hareketli ortalamalar(MA) otoregresif hareketli ortalama (ARMA) modellerin önerilmesine yol açmaktadır. Durağan olmayan modeller için Box ve Jenkins (1970) tarafından yapılan otoregresif entegre hareketli ortalama (ARIMA) modeli ortaya çıkmıştır. \n",
    "\n",
    "#### Durağan Zaman Serisi Modelleri\n",
    "##### Otoregresif Modeller (AR)\n",
    "Bir zaman serisi modelinin en doğal formülasyonu, geçmiş değerleriyle doğrusal bir ilişkiye sahip olması yani serinin kendisinin herhangi bir gerilemesi ile arasında regresyon olmasıdır. Bu, otoregresif model ile yapılır ve zaman serilerinin açıklamanın en kullanılan modelidir.Otoregresif modeller, $x_t$ serisinin mevcut değerinin, geçmiş değerlerin, $x_{t-1}$,$x_{t-2}$,...,$x_{t-p}$ nin bir fonksiyonu olarak açıklanabileceği fikrine dayanmaktadır. Burada p, mevcut değeri tahmin etmek için gerekli olan geçmiş adım sayısını belirler. \n",
    "$AR(p)$ aşağıdaki denklemlere göre geçmiş gözlemlerin doğrusal bir kombinasyonuna dayanır:\n",
    "$$X_t=\\sum_i a_iX_{t-i}+w_t$$\n",
    "Buradaki $a_i$ değerleri katsayılardır. $w_t$ terimi bir Beyaz Gürültü işleminden gelir. $AR(p)$ modelleri sadece sabit zaman serilerine uygulanabilir. Herhangi bir eğilim ve / veya mevsimsel etkilerin öncelikle kaldırılması gerekir.\n",
    "Verilere bir $AR(p)$ modelinin p değerinin saptanması kısmi otokorelasyon fonksiyonunun(PACF) analizine dayanır. PACF analizine göre ilk olarak makul görünen en basit modeli denenir. PACF'nin 'cut-off' çizgisini kestiği tüm değerler olası p değerleridir. İlk olarak en küçük p değerinden başlanarak diğer değerler denenir. \n",
    "\n",
    "###### Kısmi Otokorelasyon Fonksiyonu(PACF)\n",
    "Genel olarak, kısmi bir korelasyon bir koşullu korelasyondur.Diğer değişkenler grubunun değerlerini bildiğimiz ve hesaba kattığımız varsayımı altında iki değişken arasındaki ilişkidir.$Y$ ve $x_3$ arasındaki kısmi korelasyon, hem $Y$ hem de $x_3$'ün $x_1$ ve $x_2$ ile ilgili olduğunu dikkate alarak belirlenen değişkenler arasındaki korelasyondur. N. dereceden Kısmi korelasyonu aşağıdaki notasyon ile tanımlayabiliriz.\n",
    "\n",
    "$$\\frac{Kovaryans(x_t,x_{t-n}|x_{t-1},x_{t-2},...x_{t-n+1})}{\\sqrt{(Varyans(x_t|x_{t-1},x_{t-2},...x_{t-n+1})Varyans(x_{t-n}|x_{t-1},x_{t-2},...x_{t-n+1})}}$$\n",
    "\n",
    "Aşağıda trend ve mevsimselliği ayrıştırıldıktan sonra kalan $R_t$ fonksiyonlarının PACF korelogramları hesaplanmıştır."
   ]
  },
  {
   "cell_type": "code",
   "execution_count": 16,
   "metadata": {
    "scrolled": true
   },
   "outputs": [
    {
     "data": {
      "image/png": "[encoded data removed]",
      "text/plain": [
       "Plot with title \"Series  na.omit(PlatinumPricesDecomposeA$random)\""
      ]
     },
     "metadata": {},
     "output_type": "display_data"
    },
    {
     "data": {
      "image/png": "[encoded data removed]",
      "text/plain": [
       "Plot with title \"Series  na.omit(PlatinumPricesDecomposeM$random)\""
      ]
     },
     "metadata": {},
     "output_type": "display_data"
    },
    {
     "data": {
      "image/png": "[encoded data removed]",
      "text/plain": [
       "Plot with title \"Series  na.omit(PlatinumPricesSTL$time.series[, 3])\""
      ]
     },
     "metadata": {},
     "output_type": "display_data"
    }
   ],
   "source": [
    "pacf(na.omit(PlatinumPricesDecomposeA$random))\n",
    "pacf(na.omit(PlatinumPricesDecomposeM$random))\n",
    "pacf(na.omit(PlatinumPricesSTL$time.series[,3]))"
   ]
  },
  {
   "cell_type": "markdown",
   "metadata": {},
   "source": [
    "Hesaplanan PACF korelogramlarına göre AR(p) modelinin p değerleri toplamsal modele göre {1,2,4,7}'dir. Çarpımsal modele göre ise {1,2,3,4}, stl modeline göre yapılan ayrıştırmaya göre ise {1,2,4,7}'dir.\n",
    "\n",
    "##### Hareketli Ortalamalar Modeli(MA)\n",
    "Hareketli ortalama (MA) modeli, mevcut beyaz gürültü teriminin ve yakın geçmişte geçen beyaz gürültü terimlerinin doğrusal bir kombinasyonu şeklinde tanımlanabilir. Birçok açıdan hareketli ortalama modellerin otoregresif modellere tamamlayıcısı olmaktadır.\n",
    "Yukarıda bahsedildiği üzere, MA(q) modelinin $E_t$ yani hata terimlerinin bir kombinasyonu olduğu görülmektedir. Aşağıdaki notasyon ile ifade edilebilir;\n",
    "$$x_t = E_t + θ_1E_{t−1} + θ_2E_{t−2} + · · · + θ_qE_{t-q}$$\n",
    "Buradaki $E_t$ değeri sıfır ortalama ve varyanslı beyaz gürültüdür. Verilere bir $MA(q)$ modelinin q değerinin saptanması otokorelasyon fonksiyonunun(ACF) analizine dayanır.\n",
    "\n",
    "###### Otokorelasyon Fonksiyonu(ACF)\n",
    "Bir zaman serisi için otokorelasyon fonksiyonu (ACF), dizinin $x_t$ ve 1, 2, 3 ve benzeri gecikmeler için dizinin gecikmeli değerleri arasındaki korelasyonları verir. Gecikmiş değerler $x_{t-1}$, $x_{t-2}$, $x_{t-3}$ ve benzeri şekilde yazılabilir. ACF,$x_t$ ve$x_{t-1}$, $x_{t-2}$, $x_{t-3}$,.. arasındaki korelasyonları verir. $X_t$ ile $X_{t+k}$ arasındaki otokorelasyon;\n",
    "$$Cov(X_{t+k},X_t)= \\frac{Kovaryans(x_t,x_{t+k})}{\\sqrt{(Varyans(x_t)Varyans(x_{t+k})}}$$\n",
    "\n",
    "\n",
    "Aşağıda trend ve mevsimselliği ayrıştırıldıktan sonra kalan $R_t$ fonksiyonlarının ACF korelogramları hesaplanmıştır."
   ]
  },
  {
   "cell_type": "code",
   "execution_count": 17,
   "metadata": {},
   "outputs": [
    {
     "data": {
      "image/png": "[encoded data removed]",
      "text/plain": [
       "Plot with title \"Series  na.omit(PlatinumPricesDecomposeA$random)\""
      ]
     },
     "metadata": {},
     "output_type": "display_data"
    },
    {
     "data": {
      "image/png": "[encoded data removed]",
      "text/plain": [
       "Plot with title \"Series  na.omit(PlatinumPricesDecomposeM$random)\""
      ]
     },
     "metadata": {},
     "output_type": "display_data"
    },
    {
     "data": {
      "image/png": "[encoded data removed]",
      "text/plain": [
       "Plot with title \"Series  na.omit(PlatinumPricesSTL$time.series[, 3])\""
      ]
     },
     "metadata": {},
     "output_type": "display_data"
    }
   ],
   "source": [
    "acf(na.omit(PlatinumPricesDecomposeA$random),lag.max = 50000)\n",
    "acf(na.omit(PlatinumPricesDecomposeM$random),lag.max = 50000)\n",
    "acf(na.omit(PlatinumPricesSTL$time.series[,3]),lag.max = 50000)"
   ]
  },
  {
   "cell_type": "markdown",
   "metadata": {},
   "source": [
    "ACF korelagramına bakılarak MA(q) modeli için q parametresi tahminlemesi yapılamamaktadır.\n",
    "##### ARIMA modelleri\n",
    "AR(p) ve MA(q) modellerinin birlikte kullanılması durumundan ortaya çıkan model ARMA(p,q) olarak adlandırılır. Önemi, çok daha geniş bir bağımlılık yapıları yelpazesinin modellenmesinin mümkün olduğu ve bunların da karmaşık olduğu gerçeğinde yatmaktadır. Çoğu zaman, bir ARMA(p,q) sadece AR veya MA süreçleriyle bulunan p,q değerlerinden daha az sayıda parametre gerektirmektedir. Burada model hem {$E_t$} kalan terimlerinin hem de {$X_t$} önceki verilerin kombinasyonu şeklindedir. Bir ARMA (p,q) modeli aşağıdaki notasyon ile ifade edilebilir:\n",
    "$$x_t = a_1x_{t-1}+ a_2x_{t-2}+...+a_px_{t-p}+E_t + θ_1E_{t−1} + θ_2E_{t−2} + ... + θ_qE_{t-q}$$\n",
    "\n",
    "##### ARIMA Modelleri\n",
    "Geniş bir dizi durağan olmayan seriyi içeren bu sınıfın bir genellemesi, ARIMA süreçleri, yani birçok kez farklılaştıklarında ARMA işlemlerine indirgeyen süreçler tarafından sağlanır. {$x_t$} serisi bir ARMA(p,q) modelinden elde edilen bir seri olmak üzere, eğer $d^{th}$ dereceden farkı alınmasıyla elde edilen süreç ARIMA olarak adlandırılır. \n",
    "$$Y_t=(1-B)^dX_t$$ şeklinde ifade edilir. Buradaki B, 'backshift' operatörüdür.\n",
    "R'da auto.arima fonksiyonu AIC, AICc veya BIC değerine göre en iyi ARIMA modelinin oluşturulmasını sağlar.\n",
    "\n",
    "###### Model kriterlerinin kullanılarak uygun ARIMA modelinin seçimi\n",
    "Modelseçim kriterlerine örnek olarak AIC ve BIC verilebilir.Akaike bilgi kriteri (AIC) (Akaike, 1974), bir modelin gelecekteki değerleri tahmin etme / tahmin etme olasılığını tahmin etmek için örneklem içi uygunluğu için kullanılan bir tekniktir.Diğer tüm modeller arasında minimum AIC'ye sahip olan model iyi bir modeldir.(Metcalfe,2014) Aşağıdaki şekilde ifade edilir.\n",
    "$$AIC = -2*log-likelihood+ 2*{parametrelerin  sayısı}$$Bayes bilgisi kriteri (BIC) (Stone, 1979), modelin modele uyumu ve karmaşıklığı arasındaki dengeyi ölçen bir model seçim kriteridir.\n",
    "\n",
    "Model seçim kriterleri olarak minimum AIC ve BIC değerleri kullanılır. En uygun model, minimum AIC ve BIC'ye göre seçilir.\n",
    "Aşağıda toplamsal, çarpımsal ve stl modellerine göre yapılan ayrıştırmanın kalanı ile herhangi bit işlem yapılmadan saf veriye auto.arima uygulanmıştır."
   ]
  },
  {
   "cell_type": "code",
   "execution_count": 18,
   "metadata": {},
   "outputs": [
    {
     "data": {
      "text/plain": [
       "Series: na.omit(PlatinumPricesDecomposeM$random) \n",
       "ARIMA(3,0,4) with non-zero mean \n",
       "\n",
       "Coefficients:\n",
       "         ar1      ar2     ar3      ma1     ma2     ma3     ma4    mean\n",
       "      2.3347  -2.0465  0.7058  -1.2920  0.6174  0.0438  0.0295  0.9871\n",
       "s.e.  0.2708   0.4466  0.1791   0.2707  0.1693  0.0365  0.0208  0.0160\n",
       "\n",
       "sigma^2 estimated as 0.0003994:  log likelihood=16798.32\n",
       "AIC=-33578.65   AICc=-33578.62   BIC=-33517.31"
      ]
     },
     "metadata": {},
     "output_type": "display_data"
    },
    {
     "data": {
      "text/plain": [
       "Series: na.omit(PlatinumPricesDecomposeA$random) \n",
       "ARIMA(4,0,3) with zero mean \n",
       "\n",
       "Coefficients:\n",
       "         ar1     ar2      ar3     ar4     ma1     ma2     ma3\n",
       "      0.4579  0.4016  -0.4282  0.5366  0.5822  0.1540  0.5116\n",
       "s.e.  0.4924  0.1224   0.4518  0.1380  0.4927  0.5967  0.1747\n",
       "\n",
       "sigma^2 estimated as 74.94:  log likelihood=-24091.49\n",
       "AIC=48198.98   AICc=48199   BIC=48253.5"
      ]
     },
     "metadata": {},
     "output_type": "display_data"
    },
    {
     "data": {
      "text/plain": [
       "Series: na.omit(PlatinumPricesSTL$time.series[, 3]) \n",
       "ARIMA(2,0,2) with zero mean \n",
       "\n",
       "Coefficients:\n",
       "         ar1     ar2     ma1     ma2\n",
       "      0.0036  0.9622  1.0334  0.0627\n",
       "s.e.  0.0279  0.0276  0.0300  0.0129\n",
       "\n",
       "sigma^2 estimated as 76.77:  log likelihood=-25480.45\n",
       "AIC=50970.9   AICc=50970.91   BIC=51005.24"
      ]
     },
     "metadata": {},
     "output_type": "display_data"
    },
    {
     "name": "stderr",
     "output_type": "stream",
     "text": [
      "Warning message in sqrt(diag(x$var.coef)):\n",
      "\"NaNs üretimi\""
     ]
    },
    {
     "data": {
      "text/plain": [
       "Series: na.omit(PlatinumPrices[, 2]) \n",
       "ARIMA(1,1,2) \n",
       "\n",
       "Coefficients:\n",
       "          ar1     ma1    ma2\n",
       "      -0.9724  1.0184  0.055\n",
       "s.e.      NaN     NaN    NaN\n",
       "\n",
       "sigma^2 estimated as 81.72:  log likelihood=-25697.29\n",
       "AIC=51402.58   AICc=51402.59   BIC=51430.06"
      ]
     },
     "metadata": {},
     "output_type": "display_data"
    }
   ],
   "source": [
    "auto.arima(na.omit(PlatinumPricesDecomposeM$random))\n",
    "auto.arima(na.omit(PlatinumPricesDecomposeA$random))\n",
    "auto.arima(na.omit(PlatinumPricesSTL$time.series[,3]))\n",
    "auto.arima(na.omit(PlatinumPrices[,2]))"
   ]
  },
  {
   "cell_type": "markdown",
   "metadata": {},
   "source": [
    "Veri içerisindeki trend, mevsimsel etki ve üssel dağılım konseptleri çıkarıldıktan sonra elde kalan verinin beyaz gürültü olması eklenmektedir. Decompose işlemi ile hem trend hem de mevsimsellik etki veriden uzaklaştırılmıştır. Arima modelleri ise veriden üssel etkilerin çıkarılmasını sağlar.\n",
    "\n",
    "Uyguladığımız arima modellerinden AIC değeri mutlak değerce en düşük olan multiplicative veriye uygulanan p=1, q=0,r=3 modeli seçilmiştir. Veri seti 1gün önceye bağlı olarak ve 3 günün ortalamasını alarak ilerlemektedir. Herhangi bir fark alınmadığı için durağan bir veri olduğu söylenebilir.\n",
    "\n",
    "ARIMA modeli ile üstel etkilerin çıkarılması için AIC,BIC değeri en düşük olan ARIMA(1,0,3) uygulamasından kalan seriye aşağıdaki şekilde ulaşılabilir. Ayrıca bu kalan değerin beyaz gürültü fonksiyonu olması beklenir.\n"
   ]
  },
  {
   "cell_type": "code",
   "execution_count": 19,
   "metadata": {
    "scrolled": true
   },
   "outputs": [
    {
     "name": "stdout",
     "output_type": "stream",
     "text": [
      "\n",
      "Call:\n",
      "arima(x = na.omit(PlatinumPricesDecomposeM$random), order = c(1, 0, 3))\n",
      "\n",
      "Coefficients:\n",
      "         ar1     ma1      ma2      ma3  intercept\n",
      "      0.9856  0.0592  -0.0210  -0.0289     0.9882\n",
      "s.e.  0.0021  0.0124   0.0123   0.0118     0.0169\n",
      "\n",
      "sigma^2 estimated as 0.0004001:  log likelihood = 16787.91,  aic = -33563.82\n",
      "\n",
      "Training set error measures:\n",
      "                       ME       RMSE        MAE         MPE     MAPE      MASE\n",
      "Training set -2.48095e-05 0.02000363 0.01345972 -0.04229758 1.354543 0.9948985\n",
      "                     ACF1\n",
      "Training set 1.084626e-05\n"
     ]
    },
    {
     "data": {
      "image/png": "[encoded data removed]",
      "text/plain": [
       "plot without title"
      ]
     },
     "metadata": {},
     "output_type": "display_data"
    }
   ],
   "source": [
    "PlatinumPricesArima<-arima(na.omit(PlatinumPricesDecomposeM$random),order=c(1,0,3))\n",
    "WhiteNoise<-PlatinumPricesArima$residuals\n",
    "plot(WhiteNoise)\n",
    "summary(PlatinumPricesArima)"
   ]
  },
  {
   "cell_type": "markdown",
   "metadata": {},
   "source": [
    "Kalan verinin grafiğindeki bantın genişliği riski ifade etmektedir. Risk neredeyse tüm zamananlarda aynıdır. Yukarıdaki arima modelin özet çıktısı doğru modelin uygulandığını hata ölçüm parametrelerinden göstermektedir. RMSE, MAE,MPE, MAPE gibi ölçüm değerleri uygulanan model için düşük çıkmıştır. Ayrıca özet fonksiyonunu çıktısındaki ACF değeri de modelin dğru olduğunu göstermektedir. Tüm bunlar da uygulanan arima(1,0,3) modelinin aslında doğru model olduğunu ve modelden çıkarılan değerlerin doğru sonuçlar olduğunu göstermektedir. Aslında arima(1,0,3) modeli arma(1,3) modelinin benzeridir.\n",
    "\n",
    "Arima modeli uygulandıktan sonra kalanından elde edilmesi beklenen beyaz gürültü fonksiyonun normalliği aşağıdaki R kodu ile yapılabilir;"
   ]
  },
  {
   "cell_type": "code",
   "execution_count": 20,
   "metadata": {
    "scrolled": true
   },
   "outputs": [
    {
     "data": {
      "text/plain": [
       "\n",
       "\tShapiro-Wilk normality test\n",
       "\n",
       "data:  SampleWN\n",
       "W = 0.91989, p-value < 2.2e-16\n"
      ]
     },
     "metadata": {},
     "output_type": "display_data"
    },
    {
     "data": {
      "text/plain": [
       "\n",
       "\tOne-sample Kolmogorov-Smirnov test\n",
       "\n",
       "data:  WhiteNoise\n",
       "D = 0.080729, p-value < 2.2e-16\n",
       "alternative hypothesis: two-sided\n"
      ]
     },
     "metadata": {},
     "output_type": "display_data"
    }
   ],
   "source": [
    "SampleWN<-sample(WhiteNoise,5000)\n",
    "shapiro.test(SampleWN)\n",
    "ks.test(WhiteNoise, 'pnorm',mean=0,sd=sqrt(var(WhiteNoise)))"
   ]
  },
  {
   "cell_type": "markdown",
   "metadata": {},
   "source": [
    "Çarpımsal modelden arima(1,0,3) çıkarılmadan önce yapılan normallik testlerinin sonuçları aşağıda verilmiştir."
   ]
  },
  {
   "cell_type": "code",
   "execution_count": 21,
   "metadata": {},
   "outputs": [
    {
     "data": {
      "text/plain": [
       "\n",
       "\tShapiro-Wilk normality test\n",
       "\n",
       "data:  SamplePlatinumPricesDecomposeM\n",
       "W = 0.96362, p-value < 2.2e-16\n"
      ]
     },
     "metadata": {},
     "output_type": "display_data"
    },
    {
     "data": {
      "text/plain": [
       "\n",
       "\tOne-sample Kolmogorov-Smirnov test\n",
       "\n",
       "data:  PlatinumPricesDecomposeM$random\n",
       "D = 1, p-value < 2.2e-16\n",
       "alternative hypothesis: two-sided\n"
      ]
     },
     "metadata": {},
     "output_type": "display_data"
    }
   ],
   "source": [
    "shapiro.test(SamplePlatinumPricesDecomposeM)\n",
    "ks.test(PlatinumPricesDecomposeM$random,'pnorm',mean=0,sd=sqrt(var(na.omit(PlatinumPricesDecomposeM$random))))"
   ]
  },
  {
   "cell_type": "markdown",
   "metadata": {},
   "source": [
    "Shapiro-Wilk normallik testine göre W değeri küçülmüştür. Bu da arima(1,0,3) modeli uygulandıktan sonra kalan verinin normallikten uzaklaştığını göstermektedir. Fakat Kolmogorov-Smirnov testine göre zaman serisinin kalanının normal dağılıma daha çok yaklaştığı D test istatistiğinden görülmektedir. D değeri küçüldüğünden seri normalliğe daha da yaklaşmıştır. Kolmogorov testi tüm veri setini test ettiği için Shapiro-Wilk testine göre daha doğru sonuçlar vermektedir.\n",
    "\n",
    "AIC ve BIC değerleri aynı ayrıştırma modeli ile ayrıştırılmış (örneğin ikisi de toplamsal model olarak) fakat farklı arima modelleri uygulanmış veriler üzerinde daha doğru bir seçim kriteri oluşturmaktadır. Bu yüzden yukarıdaki tüm arima modelleri için auto.arima fonksiyonun sonuçları değerlendirilmeli ve normallik testleri uygulanmalıdır. Aşağıda bu işlemler gösterişmiştir.\n",
    "###### Toplamsal model;"
   ]
  },
  {
   "cell_type": "code",
   "execution_count": 22,
   "metadata": {
    "scrolled": true
   },
   "outputs": [
    {
     "name": "stdout",
     "output_type": "stream",
     "text": [
      "\n",
      "Call:\n",
      "arima(x = na.omit(PlatinumPricesDecomposeA$random), order = c(2, 0, 3))\n",
      "\n",
      "Coefficients:\n",
      "        ar1     ar2     ma1     ma2      ma3  intercept\n",
      "      0.143  0.8285  0.8984  0.0601  -0.0120    -1.2460\n",
      "s.e.  0.110  0.1081  0.1112  0.0186   0.0144     7.1498\n",
      "\n",
      "sigma^2 estimated as 74.97:  log likelihood = -24096.17,  aic = 48206.34\n",
      "\n",
      "Training set error measures:\n",
      "                       ME     RMSE     MAE       MPE     MAPE      MASE\n",
      "Training set -0.006913176 8.658549 5.55944 -18.12272 86.54664 0.9944874\n",
      "                     ACF1\n",
      "Training set 0.0003776158\n"
     ]
    },
    {
     "data": {
      "text/plain": [
       "\n",
       "\tShapiro-Wilk normality test\n",
       "\n",
       "data:  SampleWN2\n",
       "W = 0.88933, p-value < 2.2e-16\n"
      ]
     },
     "metadata": {},
     "output_type": "display_data"
    },
    {
     "data": {
      "text/plain": [
       "\n",
       "\tOne-sample Kolmogorov-Smirnov test\n",
       "\n",
       "data:  WhiteNoise2\n",
       "D = 0.1105, p-value < 2.2e-16\n",
       "alternative hypothesis: two-sided\n"
      ]
     },
     "metadata": {},
     "output_type": "display_data"
    }
   ],
   "source": [
    "PlatinumPricesArimaToplamsal<-arima(na.omit(PlatinumPricesDecomposeA$random),order=c(2,0,3))\n",
    "summary(PlatinumPricesArimaToplamsal)\n",
    "WhiteNoise2<-PlatinumPricesArimaToplamsal$residuals\n",
    "SampleWN2<-sample(WhiteNoise2,5000,replace = TRUE)\n",
    "shapiro.test(SampleWN2)\n",
    "ks.test(WhiteNoise2, 'pnorm',mean=0,sd=sqrt(var(WhiteNoise2)))"
   ]
  },
  {
   "cell_type": "markdown",
   "metadata": {},
   "source": [
    "###### STL modeli;"
   ]
  },
  {
   "cell_type": "code",
   "execution_count": 23,
   "metadata": {
    "scrolled": true
   },
   "outputs": [
    {
     "name": "stdout",
     "output_type": "stream",
     "text": [
      "\n",
      "Call:\n",
      "arima(x = na.omit(PlatinumPricesSTL$time.series[, 3]), order = c(3, 0, 4))\n",
      "\n",
      "Coefficients:\n",
      "          ar1     ar2     ar3     ma1     ma2      ma3      ma4  intercept\n",
      "      -0.0597  0.9727  0.0527  1.0977  0.1241  -0.0252  -0.0361    -0.8438\n",
      "s.e.   0.2408  0.0084  0.2333  0.2404  0.2502   0.0236   0.0118     6.4785\n",
      "\n",
      "sigma^2 estimated as 76.62:  log likelihood = -25475.39,  aic = 50968.77\n",
      "\n",
      "Training set error measures:\n",
      "                     ME     RMSE      MAE     MPE     MAPE      MASE\n",
      "Training set 0.01629693 8.753029 5.587173 47.9544 115.6585 0.9944058\n",
      "                      ACF1\n",
      "Training set -0.0003956254\n"
     ]
    },
    {
     "data": {
      "text/plain": [
       "\n",
       "\tShapiro-Wilk normality test\n",
       "\n",
       "data:  SampleWN3\n",
       "W = 0.89153, p-value < 2.2e-16\n"
      ]
     },
     "metadata": {},
     "output_type": "display_data"
    },
    {
     "data": {
      "text/plain": [
       "\n",
       "\tOne-sample Kolmogorov-Smirnov test\n",
       "\n",
       "data:  WhiteNoise3\n",
       "D = 0.11474, p-value < 2.2e-16\n",
       "alternative hypothesis: two-sided\n"
      ]
     },
     "metadata": {},
     "output_type": "display_data"
    }
   ],
   "source": [
    "PlatinumPricesArimaSTL<-arima(na.omit(PlatinumPricesSTL$time.series[,3]),order=c(3,0,4))\n",
    "summary(PlatinumPricesArimaSTL)\n",
    "WhiteNoise3<-PlatinumPricesArimaSTL$residuals\n",
    "SampleWN3<-sample(WhiteNoise3,5000)\n",
    "shapiro.test(SampleWN3)\n",
    "ks.test(WhiteNoise3, 'pnorm',mean=0,sd=sqrt(var(WhiteNoise3)))"
   ]
  },
  {
   "cell_type": "markdown",
   "metadata": {},
   "source": [
    "###### Saf veri seti;"
   ]
  },
  {
   "cell_type": "code",
   "execution_count": 24,
   "metadata": {},
   "outputs": [
    {
     "name": "stdout",
     "output_type": "stream",
     "text": [
      "\n",
      "Call:\n",
      "arima(x = na.omit(PlatinumPrices[, 2]), order = c(5, 1, 3))\n",
      "\n",
      "Coefficients:\n",
      "         ar1     ar2      ar3     ar4     ar5      ma1      ma2     ma3\n",
      "      0.6210  0.5610  -0.8671  0.0644  0.0262  -0.5797  -0.5789  0.8090\n",
      "s.e.  0.0872  0.0216   0.1166  0.0135  0.0156   0.0867   0.0287  0.1276\n",
      "\n",
      "sigma^2 estimated as 81.29:  log likelihood = -25680.23,  aic = 51378.45\n",
      "\n",
      "Training set error measures:\n",
      "                     ME     RMSE      MAE         MPE     MAPE      MASE\n",
      "Training set -0.1085074 9.015446 5.434593 -0.04411259 1.341179 0.9995347\n",
      "                    ACF1\n",
      "Training set 0.001578603\n"
     ]
    },
    {
     "data": {
      "text/plain": [
       "\n",
       "\tShapiro-Wilk normality test\n",
       "\n",
       "data:  SampleWN4\n",
       "W = 0.8724, p-value < 2.2e-16\n"
      ]
     },
     "metadata": {},
     "output_type": "display_data"
    },
    {
     "data": {
      "text/plain": [
       "\n",
       "\tOne-sample Kolmogorov-Smirnov test\n",
       "\n",
       "data:  WhiteNoise4\n",
       "D = 0.13891, p-value < 2.2e-16\n",
       "alternative hypothesis: two-sided\n"
      ]
     },
     "metadata": {},
     "output_type": "display_data"
    }
   ],
   "source": [
    "PlatinumPricesArimaPure<-arima(na.omit(PlatinumPrices[,2]),order=c(5,1,3))\n",
    "summary(PlatinumPricesArimaPure)\n",
    "WhiteNoise4<-PlatinumPricesArimaPure$residuals\n",
    "SampleWN4<-sample(WhiteNoise4,5000)\n",
    "shapiro.test(SampleWN4)\n",
    "ks.test(WhiteNoise4, 'pnorm',mean=0,sd=sqrt(var(WhiteNoise4)))"
   ]
  },
  {
   "cell_type": "markdown",
   "metadata": {},
   "source": [
    "Ayrıştırmalara göre uygun arima modeli uygulanmadan kalan $R_t$ serilerinin normalliği arima modeli uygulandığında kalan $R_t$ serilerinin normalliğinden daha iyi sonuca sahiptir. Bu da uygulanan arima modellerinin doğru olmadığını göstermektedir. Summary fonksiyonunun çıktısındaki hata ölçüm değerleri ile AIC değeri modellerin çarpımsal modele uygulanan Arima(1,0,3) modelinden daha hatalı sonuçlara sahip olduğunu gösterir.\n",
    "\t\n",
    "# Sonuç\n",
    "Yukarıda yapılan testlere göre en iyi sonucun AIC ve BIC değerine göre en iyi sonucu veren çarpımsal modele uygulanan arima(1,0,3) modeliyle yapılan ayrıştırmaya göre olduğu görülmektedir. Veri setindeki tüm anomaliler çıkarıldıktan sonra kalan verinin beyaz gürültü olması beklenir. Beyaz gürültü fonksiyonu normal dağılıma sahiptir. Kalan verinin gürültü datası olup olmadığı test edilmiş ve gürültü datası olduğu sonucuna varılmıştır. Bu da veriye uygulanan ayrıştırma modellerinin doğru bir şekilde uygulandığını göstermektedir."
   ]
  },
  {
   "cell_type": "markdown",
   "metadata": {},
   "source": [
    "# Tahminleme\n",
    "Zaman serileri analizi ile temel hedeflerden biri, verilerin gelecekteki durumunu gösteren tahminler üretmektir.Bu tahminleme extrapolasyonla yapılır. Ekstrapolasyon her zaman doğru sonuçlar vermeyebilir ve yanlış sonuçlara yol açabilir. Tahminleme de aynı şekilde doğru yapılamayabilir.\n",
    "Sinyal içeren seriler gürültüye göre daha güçlü olduğu seriler oldukları için tahminlemenin doğru yapılması mümkündür. Bununla birlikte, gürültülü seriler için, tahminlerde büyük bir belirsizlik vardır ve bunlar çok kısa bir aralık için en güvenilirdir.\n",
    "Yukarıdakilerden yola çıkarak, belirsizliklerin ana kaynağının sürecin içindeki yenilikler olduğu söylenebilir. Doğru tahminleme yapabilmek için veri üretme sürecinin zaman içinde değişmediğinden, yani geçmişte gözlemlendiği gibi gelecekte devam edeceğinden emin olunmalıdır. Doğru model uygulansa dahi parametreler arasındaki ek belirsizlikler doğru tahminlemeyi etkilemektedir.\n",
    "\n",
    "Zaman serisi tahminlemelerine ilk olarak, durağan süreçleri tahmin etmek için kullanılan AR, MA ve ARMA süreçleriörnek olarak gösterilebilir. Trend içeren durağan olmayan seriler için ise ARIMA modeli ile tahminleme yapılabilir.\n",
    "\n",
    "## ARIMA ile Tahminleme\n",
    "Kalan $R_t$ yani Beyaz Gürültü gibi göründüğü bir zaman dizisindeki tahminleme ARIMA modeli ile yapılabilir.  Bu koşullar altında, tahminler kolayca hesaplanabilir\n",
    "\n",
    "Uygun ARIMA modelinin tanımlanan parametrelerin başarılı bir şekilde tahmin edildiği ve artıkların gerekli özellikleri sergilediği, yani Beyaz Gürültü gibi göründüğü bir zaman dizisi verildiğini varsayıyoruz. Bu koşullar altında, tahminler kolayca hesaplanabilir. \n",
    "\n",
    "Bu, istediğimiz bir $ARMA (p,q,r)$ modelinden herhangi bir tahmin üretmemizi sağlar. Bu prosedür aynı zamanda Box-Jenkins prosedürü olarak da bilinmektedir. R'da kullanılan, arima ()'dan sonra uygulanan forecast() fonksiyonunda Box-Jenkins şeması arka planda çalışmaktadır.\n",
    "\n",
    "Verilerinin modele uyarlanması ve 30 adımlık tahminlerin üretilmesi için R komutları aşağıdaki gibidir. Arima() orderleri belli modeli oluşturur ve forecast() fonksiyonu belirlenen modele göre verilen parametre kadar tahmin üretir. Oluşturulan tahminlemenin görselleştirilmesi için aşağıdaki R kodundan yararlanılabilir.İlk aşamada yaptığımız durağan olmayan zaman serileri için ayrıştırma aşamalarından yararlanılarak trend, mevsimsellik içermeyen seriler için tahmin üretilebilecektir. Yani çarpımsal ayrıştırmanın arima(1,0,3) modeline göre tahminlemesi yapılacaktır. Son 30 veriye kadar model uygulanacak ve daha sonra 30 adet tahmin yapılıp gerçek değerlerle tahminler karşılaştırılacatır."
   ]
  },
  {
   "cell_type": "code",
   "execution_count": 25,
   "metadata": {},
   "outputs": [
    {
     "data": {
      "image/png": "[encoded data removed]",
      "text/plain": [
       "Plot with title \"Forecasts from ARIMA(1,0,3) with non-zero mean\""
      ]
     },
     "metadata": {},
     "output_type": "display_data"
    }
   ],
   "source": [
    "m<-length(na.omit(PlatinumPricests))\n",
    "PlatinumPricesArimaForecast<-arima(na.omit(PlatinumPricests)[1:(m-29)],order=c(1,0,3))\n",
    "tahmin <- forecast(PlatinumPricesArimaForecast,30)\n",
    "plot(tahmin)"
   ]
  },
  {
   "cell_type": "markdown",
   "metadata": {},
   "source": [
    "Aşağıda gerçek veriler ve arima modeliyle yapılan tahmin ile yapılan veriler için ortalama hata hesaplanmıştır. Bu değer tahminlemelerin karşılaştırılması için kullanılır."
   ]
  },
  {
   "cell_type": "markdown",
   "metadata": {},
   "source": [
    "Keşif analizi yaparken bulduğumuz uygun arima modeli olan (1,0,3) modeli uygulanarak yukarıdaki tahminleme yapılmıştır.\n",
    "\n",
    "## Holt-Winters Yöntemi\n",
    "Eğilim ve mevsimsellik sergileyen seriler için yapılan bir tahminleme yöntemidir.\n",
    "$$ a_t=\\alpha(x_t-s{t-p})-(1-\\alpha)(a_{t-1}+b_t{t-1})$$\n",
    "$$ b_t=\\beta(a_t-a_{t-1})-(1-\\beta)(b_{t-1})$$\n",
    "$$ s_t=\\gamma(x_t-a_t)-(1-\\gamma)(s{t-p})$$\n",
    "\n",
    "Buradaki $a_t$, t zamanındaki tekrar, $b_t$ eğim, $s_t$ mevsimsel etkidir. Seviye, eğim ve mevsimi hedefleyen üç düzeltme parametresi $\\alpha$,$\\beta$,$\\gamma$'dır.\n",
    "\n",
    "İlk denklem, seviye güncelleme denklemi, bir önceki periyodik mevsimsel etki terimi çıkarılan mevcut tahmini ile son seviyeli eğim ile bir önceki seviye tahmini ile ağırlıklı ortalamasını alır.\n",
    "\n",
    "İkinci güncelleme denklemi, mevcut seviye ve bir önceki seviye arasındaki farkın t-1 zamanında tahmini eğim ile ağırlıklı ortalamasını alır. Bu yalnızca mevcutsa hesaplanabilir.\n",
    "\n",
    "Son olarak, mevsimsel terim için, aynı birim için mevsimsel terimin önceki tahmini ile gözlem ve seviye arasındaki farkın ağırlıklı ortalaması alınarak, t-p zamanında yapılan bir başka tahmin daha elde edilir.\n",
    "\n",
    "R fonksiyonu HoltWinters () uygulandığında, başlangıç değerleri decompose () prosedüründen elde edilir ve SSPE1 minimizasyonu yoluyla yumuşatma parametrelerini tahmin etmek mümkündür.Parametre tahminini SSPE1 ile uygulanarak bulunur. Uygun seviye, eğilim ve mevsimsellik için mevcut tahminleri içerir. Çarpımsal model kullanılarak mevsimsellik ve trend içeren bir zaman serisinin tahmininde kullanılacak Holt Winters parametreleri aşağıdaki şekilde elde edilebilir. (Marcel Dettling,2014)"
   ]
  },
  {
   "cell_type": "code",
   "execution_count": 26,
   "metadata": {
    "scrolled": true
   },
   "outputs": [
    {
     "data": {
      "text/html": [
       "<strong>alpha:</strong> 0.88800461595496"
      ],
      "text/latex": [
       "\\textbf{alpha:} 0.88800461595496"
      ],
      "text/markdown": [
       "**alpha:** 0.88800461595496"
      ],
      "text/plain": [
       "    alpha \n",
       "0.8880046 "
      ]
     },
     "metadata": {},
     "output_type": "display_data"
    },
    {
     "data": {
      "text/html": [
       "<strong>gamma:</strong> 1"
      ],
      "text/latex": [
       "\\textbf{gamma:} 1"
      ],
      "text/markdown": [
       "**gamma:** 1"
      ],
      "text/plain": [
       "gamma \n",
       "    1 "
      ]
     },
     "metadata": {},
     "output_type": "display_data"
    },
    {
     "data": {
      "text/html": [
       "<strong>beta:</strong> 0.00119699321856652"
      ],
      "text/latex": [
       "\\textbf{beta:} 0.00119699321856652"
      ],
      "text/markdown": [
       "**beta:** 0.00119699321856652"
      ],
      "text/plain": [
       "       beta \n",
       "0.001196993 "
      ]
     },
     "metadata": {},
     "output_type": "display_data"
    }
   ],
   "source": [
    "PPHW <- HoltWinters(ts(na.omit(PlatinumPricests)[1:(m-29)],freq=365), seasonal = \"mult\")\n",
    "PPHW$alpha\n",
    "PPHW$gamma\n",
    "PPHW$beta"
   ]
  },
  {
   "cell_type": "markdown",
   "metadata": {},
   "source": [
    "Holt-Winters yönteminin alfa,gama ve beta sayıları yukarıda gösterilmiştir. Katsayı değerleri (n zamanında), yukarıda verilen formülle bu serilerden tahmin yapmak için kullanılanlardır. 30 basamaklı bir tahmin tahmin üretmek için aşağıdaki R komutundan yararlanılabilir."
   ]
  },
  {
   "cell_type": "code",
   "execution_count": 27,
   "metadata": {},
   "outputs": [
    {
     "data": {
      "image/png": "[encoded data removed]",
      "text/plain": [
       "Plot with title \"Holt-Winters filtering\""
      ]
     },
     "metadata": {},
     "output_type": "display_data"
    }
   ],
   "source": [
    "plot(PPHW)\n",
    "tahminHW<-predict(PPHW, n.ahead=30)\n",
    "lines(tahminHW, col=\"blue\", lty=4) "
   ]
  },
  {
   "cell_type": "markdown",
   "metadata": {},
   "source": [
    "Yukarıdaki ortalama hata karelerine göre arima ile yapılan tahminlemenin çok daha yakın sonuçlar verdiği gözlenmiştir.\n",
    "Ayrıca accuracy() fonksiyonu da tahminin doğru yapılıp yapılmadığını test etmektedir. Bunun için öncelikle saf veri setinin son 30 girdisini window() fonksiyonu ile oluşturmamız gerekmektedir. Daha sonra Accuracy() fonksiyonu ile tahmin ve gerçek veriler karşılaştırılır."
   ]
  },
  {
   "cell_type": "code",
   "execution_count": 28,
   "metadata": {},
   "outputs": [
    {
     "name": "stdout",
     "output_type": "stream",
     "text": [
      "[1] \"Accuracy Arima\"\n"
     ]
    },
    {
     "data": {
      "text/html": [
       "<table>\n",
       "<thead><tr><th></th><th scope=col>ME</th><th scope=col>RMSE</th><th scope=col>MAE</th><th scope=col>MPE</th><th scope=col>MAPE</th><th scope=col>ACF1</th><th scope=col>Theil's U</th></tr></thead>\n",
       "<tbody>\n",
       "\t<tr><th scope=row>Test set</th><td>3.011538 </td><td>4.71521  </td><td>4.014659 </td><td>2.321449 </td><td>3.168669 </td><td>0.9368479</td><td>4.082105 </td></tr>\n",
       "</tbody>\n",
       "</table>\n"
      ],
      "text/latex": [
       "\\begin{tabular}{r|lllllll}\n",
       "  & ME & RMSE & MAE & MPE & MAPE & ACF1 & Theil's U\\\\\n",
       "\\hline\n",
       "\tTest set & 3.011538  & 4.71521   & 4.014659  & 2.321449  & 3.168669  & 0.9368479 & 4.082105 \\\\\n",
       "\\end{tabular}\n"
      ],
      "text/markdown": [
       "\n",
       "| <!--/--> | ME | RMSE | MAE | MPE | MAPE | ACF1 | Theil's U | \n",
       "|---|\n",
       "| Test set | 3.011538  | 4.71521   | 4.014659  | 2.321449  | 3.168669  | 0.9368479 | 4.082105  | \n",
       "\n",
       "\n"
      ],
      "text/plain": [
       "         ME       RMSE    MAE      MPE      MAPE     ACF1      Theil's U\n",
       "Test set 3.011538 4.71521 4.014659 2.321449 3.168669 0.9368479 4.082105 "
      ]
     },
     "metadata": {},
     "output_type": "display_data"
    },
    {
     "name": "stdout",
     "output_type": "stream",
     "text": [
      "[1] \"Accuracy HW\"\n"
     ]
    },
    {
     "data": {
      "text/html": [
       "<table>\n",
       "<thead><tr><th></th><th scope=col>ME</th><th scope=col>RMSE</th><th scope=col>MAE</th><th scope=col>MPE</th><th scope=col>MAPE</th><th scope=col>ACF1</th><th scope=col>Theil's U</th></tr></thead>\n",
       "<tbody>\n",
       "\t<tr><th scope=row>Test set</th><td>6.637164 </td><td>10.62884 </td><td>8.615833 </td><td>5.113382 </td><td>6.780387 </td><td>0.9628204</td><td>9.169112 </td></tr>\n",
       "</tbody>\n",
       "</table>\n"
      ],
      "text/latex": [
       "\\begin{tabular}{r|lllllll}\n",
       "  & ME & RMSE & MAE & MPE & MAPE & ACF1 & Theil's U\\\\\n",
       "\\hline\n",
       "\tTest set & 6.637164  & 10.62884  & 8.615833  & 5.113382  & 6.780387  & 0.9628204 & 9.169112 \\\\\n",
       "\\end{tabular}\n"
      ],
      "text/markdown": [
       "\n",
       "| <!--/--> | ME | RMSE | MAE | MPE | MAPE | ACF1 | Theil's U | \n",
       "|---|\n",
       "| Test set | 6.637164  | 10.62884  | 8.615833  | 5.113382  | 6.780387  | 0.9628204 | 9.169112  | \n",
       "\n",
       "\n"
      ],
      "text/plain": [
       "         ME       RMSE     MAE      MPE      MAPE     ACF1      Theil's U\n",
       "Test set 6.637164 10.62884 8.615833 5.113382 6.780387 0.9628204 9.169112 "
      ]
     },
     "metadata": {},
     "output_type": "display_data"
    }
   ],
   "source": [
    "PP1Last30 <- window(na.omit(PlatinumPricests)[(m-29):m])\n",
    "tahminHW <- window(tahminHW)\n",
    "print(\"Accuracy Arima\")\n",
    "accuracy(tahmin$mean, PP1Last30)\n",
    "print(\"Accuracy HW\")\n",
    "accuracy(tahminHW, PP1Last30)"
   ]
  },
  {
   "cell_type": "markdown",
   "metadata": {},
   "source": [
    "$y_i$, i. gözlemi, $\\hat{y}_i$, i. gözlem için tahmini temsil etmek üzere hata terimi aşağıdaki şekilde ifade edilir.\n",
    "$$e_i=y_i-\\hat{y}_i$$\n",
    "En yaygın kullanılan ölçüm parametrelerinden bazıları mutlak hatalara veya karesel hatalara dayanmaktadır.\n",
    "$$Ortalama Mutlak Hata: MAE= mean(|e_i|)$$\n",
    "$$Ortalama Kareler Hata: RMSE=\\sqrt{mean(e_i)^2}$$\n",
    "Tahmin yöntemlerini tek bir veri kümesinde karşılaştırırken, MAE, anlaşılması ve hesaplanması kolay olduğu için daha çok tercih edilmektedir.\n",
    "\n",
    "Accuracy() foksiyonlarının çıktısına göre Arima ile yapılan tahminlemenin daha doğru sonuçlar verdiği gözlenmiştir.Buna göre Arima modeli ile tüm verilerin kullanılarak sonraki  30 gün için tahminleme yapılmıştır."
   ]
  },
  {
   "cell_type": "code",
   "execution_count": 36,
   "metadata": {},
   "outputs": [
    {
     "data": {
      "image/png": "[encoded data removed]",
      "text/plain": [
       "Plot with title \"Forecasts from ARIMA(1,0,3) with non-zero mean\""
      ]
     },
     "metadata": {},
     "output_type": "display_data"
    }
   ],
   "source": [
    "PlatinumPricesArimaForecast<-arima(na.omit(PlatinumPricests),order=c(1,0,3))\n",
    "tahmin <- forecast(PlatinumPricesArimaForecast,30)\n",
    "plot(tahmin)"
   ]
  },
  {
   "cell_type": "markdown",
   "metadata": {},
   "source": [
    "# Değerlendirme\n",
    "\n",
    "Yukarıda öncelikle verinin içindeki anomalileri çıkartmak ve bu sayede sonraki aşamalarda yapılacak işlemlerden doğru sonuçları almak için ilk aşamayı uygulandı. Bu aşamada öncelikle mevsimsellik ve eğilim gibi bileşenlerin çıkarıldı. Mevsimsellik ve trendi veriden uzaklaştırmak için ayrıştırma işlemleri yapıldıktan sonra kalan verinin gürültü olması beklendi. Gürültü fonksiyonu sıfır ortalamayla normal dağılıma sahip bir fonksiyondur. İki bileşen çıkarıldıktan sonra verinin içinde hala bazı sinyaller gözlemlendiğinden uygun arima modelleri uygulandı ve bu modellerden AIC,BIC değerleri küçük olan seçilerek verinin içerisinden bu sefer üssel dağılıma sahip sinyaller ayrıştırıldı. Daha sonra arima modelinden kalan veriye normallik testleri uygulandı verinin gürültü fonksiyonu olduğu görüldü.\n",
    "Daha sonra ikinci aşamada bu verilerle tahminleme işlemi yapıldı. Arima ve Holt-Winters yöntemi ile yapılan iki tahminlemenin istatiksel olarak iyi sonuçlar veren modeli seçildi ve tahminleme yapıldı."
   ]
  },
  {
   "cell_type": "markdown",
   "metadata": {},
   "source": [
    "# Kaynakça\n",
    "\n",
    "Paul S.P. Cowpertwait · Andrew V. Metcalfe (2005). Introductory Time Series with R\n",
    "\n",
    "Peter J. Brockwell, Richard A. Davis (2002). Introduction to Time Series and Forecasting\n",
    "\n",
    "Dr. Marcel Dettling (2014). Applied Time Series Analysis \n",
    "\n",
    "\n"
   ]
  },
  {
   "cell_type": "code",
   "execution_count": null,
   "metadata": {},
   "outputs": [],
   "source": []
  }
 ],
 "metadata": {
  "kernelspec": {
   "display_name": "R",
   "language": "R",
   "name": "ir"
  },
  "language_info": {
   "codemirror_mode": "r",
   "file_extension": ".r",
   "mimetype": "text/x-r-source",
   "name": "R",
   "pygments_lexer": "r",
   "version": "3.4.2"
  }
 },
 "nbformat": 4,
 "nbformat_minor": 2
}
