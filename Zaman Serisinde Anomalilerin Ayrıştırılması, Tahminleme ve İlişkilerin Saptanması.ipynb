{
 "cells": [
  {
   "cell_type": "markdown",
   "metadata": {},
   "source": [
    "# Zaman Serisi Analizi\n",
    "\n",
    "Bir zaman serisi, her biri belirli bir $t$ zamanında kaydedilmekte olan $X_t$ gözlemleri kümesidir. Kesikli zaman serileri gözlemlerin yapıldığı zamanların $t$ değerlerinin birbirlerinden ayrık olduğunu söylemektedir. Gözlemler sabit zaman aralıklarında yapıldığı durumlar kesikli zaman serilerine örnek olarak verilebilir. Sürekli zaman serileri ise gözlemlerin sürekli bir $T[0,1]$ aralığında yapılmasıyla oluşmaktadır.(Brockwell,2002)\n",
    "\n",
    "Bir çok alanda bilim, mühendislik ve ticaret dalında zaman içinde sıralı olarak ölçülen veriler bulunmaktadır. Örneğin bankalar her gün faiz oranlarını ve döviz kurlarını tutar ya da meteoroloji ofisleri sıcaklık değerlerinin günlük olarak tutarlar. Bir değişken, zaman içinde belirli sabit bir aralıkta ölçüldüğünde, elde edilen veriler bir zaman serisi oluşturmaktadır.(Metcalfe,2011)\n",
    "\n",
    "Ayrıca zaman serileri bir çok alanda karşımıza çıkan belirli aralıklarla ölçümlenmiş veri kümeleri olarak da tanımlanabilir. Temel bir veri analizinde birbirine benzer ve bağımsız dağılmış veriler mevcut iken zaman serilerinde birbiriyle ilişkili veriler bulunur. Zaman serilerindeki analizin amacı; geçmiş verilerdeki anomalileri saptamak, birbirleriyle ilişkilerini gözlemlemek ve gelecek için tahminleme yapabilmektir. Basit tanımlayıcı analizlerle verinin anlaşılması sağlanırken, kapsamlı bir analiz ile gözlenen verilerin rassal modellemesi yapılabilmektedir.(Marcel Dettling,2014)\n",
    "\n",
    "Zaman serilerinin temel özellikleri trend ve mevsimsel değişimlerdir. Bunlar matematiksel fonksiyonları ile deterministik olarak modellenebilirler. Ancak, zaman serilerinin bir diğer önemli özelliği ise birbirleriyle ilişkili olmaları yani birbirlerine yakın gözlemlerin korelasyon içermesidir. Bir zaman dizisi analizindeki temel amaç, bu istatistiksel ilişkiyi ve verideki temel özellikleri uygun istatistiksel modeller ve tanımlayıcı yöntemler kullanarak açıklamaktır. Yöntemlerin uygunluğu ise daha sonrasında uygulanacak istatiksel testlerle ölçümlenebilmektedir. (Metcalfe,2011)\n",
    "\n",
    "## Zaman Serisi Analizindeki Hedefler\n",
    "###  Keşif Analizi:\n",
    "Zaman serileri keşif analizleri ağırlıklı olarak zaman serilerinin temel özelliklerinin (mevsimsellik, trend, korelasyon...) saptanması, grafik çizimlerinin yapılması yani deterministik ve stokastik kısımların doğru şekilde incelenebilmesi için yapılır.\n",
    "\n",
    "### Modelleme:\n",
    "Zaman serisine uygun bir modellenmenin yapılması keşif analizinde elde edilen bilgiler yardımıyla yapılmaktadır. Düzgün modelleme yapılmayan analizler bir sonraki adımda doğru sonuçlar vermeyecektir.\n",
    "\n",
    "###  Tahmin:\n",
    "Zaman serileri analizinde sıkça kullanılan yapılardan biri olan gelecekteki gözlemlerin tahmin edilmesidir. Fakat gelecekteki verilerin tahmini zaman serisinin geçmiş ve şimdiki özelliklerinin devam ettiği varsayımına dayanır. İyi bir tahmin yapılabilmesi için keşif analizinin doğru yapılması ve modelin doğru kurulması gerekmektedir.\n",
    "\n",
    "### Regresyon:\n",
    "Zaman serisi analizinde gözlemlerin gelecekteki tahminlerini yapmaktan başka sıkça kullanılan diğer bir yapı ise gözlemler arasındaki ilişkinin saptanmasıdır. Bu şekilde zaman serileri daha açıklayıcı hale gelmektedir.\n",
    "\n",
    "### Süreç Kontrol:\n",
    "Optimal yönetim ve kalite kontrol amacıyla birçok üretim veya diğer süreçler ölçümlenir. Bu genellikle rassal bir modelin uygun olduğu zaman serisi verisi ile sonuçlanır. Bu, verilerdeki sinyalin anlaşılmasını sağlamaktadır. Üretimdeki hangi dalgalanmaların normal olduğunu ve hangilerinin müdahale gerektirdiğini izlemek mümkün hale gelir.\n",
    "\n",
    "## Zaman Serisi Analizindeki Anomalilerin tespiti\n",
    "Anomaliler, iyi tanımlanmış normal davranış kavramına uymayan verilerdeki yapılardır. Bu yapıları bulma problemi anomallilerin tespiti olarak adlandırılır. Anomali tespitinin önemi, verideki anormalliklerin çok çeşitli uygulama alanlarında önemli ve eyleme geçirilebilir bilgilere dönüşebilir olmasıdır. \n",
    "\n",
    "ARIMA, anomali tespiti için kullanılan bir modeldir. Sinyalleri doğru tahmin etmek ve anormallikleri bulmak için yeterince güçlü bir model olan ARIMA modelinin uygulanması için verinin trend, mevsimsellik gibi özelliklerinden arındırılması gerekmektedir.\n",
    "\n",
    "## Veri setinin yüklenmesi\n",
    "Veri analizinde kullanacağımız veri seti Londra'daki platin fiyatlarının dolar bazında 1990 ile 2018 yılları arasındaki günlük sabit değerleridir. Sabit fiyat, dünya çapındaki müşterilere ait siparişlerin eşleştirilmesini temsil eder.\n",
    "\n",
    "Platin çok değerli madenler arasındadır. Çok fazla değerli olmasının nedeni ender bulunuşu ve kullanım alanlarının fazlasıyla geniş olmasıdır. Otomotiv, diş hekimliği, jet ve füze motorları, laboratuvar gibi birçok alanda kullanılmaktadır. \n",
    "\n",
    "## Zaman serilerinin açıklanması\n",
    "Zaman serisi analizinde yapılması gereken ilk aşama verinin yüklenmesidir. Bunun için aşağıdaki R kodları kullanılmaktadır."
   ]
  },
  {
   "cell_type": "code",
   "execution_count": 111,
   "metadata": {},
   "outputs": [
    {
     "name": "stderr",
     "output_type": "stream",
     "text": [
      "Warning message:\n",
      "\"package 'Quandl' is in use and will not be installed\"Warning message:\n",
      "\"package 'corrplot' is in use and will not be installed\""
     ]
    }
   ],
   "source": [
    "install.packages(\"Quandl\", repos='http://cran.us.r-project.org')\n",
    "install.packages(\"corrplot\", repos='http://cran.us.r-project.org')\n",
    "library(Quandl)\n",
    "library(corrplot)\n",
    "library(forecast)\n",
    "library(tseries)\n",
    "PlatinumPrices<-Quandl(\"LPPM/PALL\")"
   ]
  },
  {
   "cell_type": "markdown",
   "metadata": {},
   "source": [
    "Verinin yüklenmesi tamamlandıktan sonra verinin genel bir çerçevede incelenmesi yapılması gereken aşamalardan birisidir. Bunun için özetine bakılması, grafiğinin çizilmesi gerekir."
   ]
  },
  {
   "cell_type": "code",
   "execution_count": 112,
   "metadata": {},
   "outputs": [
    {
     "data": {
      "text/plain": [
       "      Date                USD AM            EUR AM           GBP AM     \n",
       " Min.   :1990-04-02   Min.   :  78.75   Min.   : 116.1   Min.   : 40.4  \n",
       " 1st Qu.:1997-04-10   1st Qu.: 161.25   1st Qu.: 246.3   1st Qu.: 99.7  \n",
       " Median :2004-04-20   Median : 325.00   Median : 420.8   Median :179.3  \n",
       " Mean   :2004-04-18   Mean   : 395.60   Mean   : 432.8   Mean   :254.3  \n",
       " 3rd Qu.:2011-04-27   3rd Qu.: 638.00   3rd Qu.: 576.5   3rd Qu.:413.8  \n",
       " Max.   :2018-05-10   Max.   :1128.00   Max.   :1179.5   Max.   :819.5  \n",
       "                                        NA's   :2213                    \n",
       "     USD PM            EUR PM           GBP PM     \n",
       " Min.   :  78.25   Min.   : 122.8   Min.   : 41.0  \n",
       " 1st Qu.: 161.57   1st Qu.: 246.4   1st Qu.: 99.6  \n",
       " Median : 325.00   Median : 419.1   Median :179.4  \n",
       " Mean   : 395.83   Mean   : 433.2   Mean   :254.5  \n",
       " 3rd Qu.: 639.00   3rd Qu.: 577.6   3rd Qu.:414.5  \n",
       " Max.   :1129.00   Max.   :1179.7   Max.   :819.2  \n",
       " NA's   :53        NA's   :2248     NA's   :53     "
      ]
     },
     "metadata": {},
     "output_type": "display_data"
    }
   ],
   "source": [
    "summary(PlatinumPrices)"
   ]
  },
  {
   "cell_type": "markdown",
   "metadata": {},
   "source": [
    "Yukarıdaki veri setimizdeki tüm değerlerin özeti görülmektedir. Çıkarılan özete göre, bu veri seti 1990 ile 2018 arasındaki platin fiyatlarının açılış ve kapanış fiyatlarını dolar, euro gibi para birimlerini baz alarak göstermektedir. Fakat yapılacak ilk aşama boyunca platinin dolar açılış fiyatı kullanıcak ve bu veriler arasında anomali tespiti yapılacaktır. İkinci sütunda dolar açılış fiyatlarının minimum fiyat 78.75(dolar) iken maximum 1128 (dolar) olduğu görülmektedir.\n",
    "Ayrıca yukarıdaki özet PlatinumPrices nesnesinin içerisinde yer alan tüm para birimleri bazında platin fiyatları içermektedir.\n",
    "\n",
    "Zaman serileri ts sınıfının bir R nesnesi olarak saklanır. Zaman serisinin doğru analizi için PlatinumPrices nesnesinin ikinci sütununda yer alan dolar açılış fiyatları zaman serisine dönüştürülmelidir. Zaman serisi nesneleri, yukarıda verilen işlevlerin başlangıcı, sonu ve sıklığını içeren bir dizi yönteme sahiptir. Fakat zaman serileri oluşturulurken sadece frekansının yazılması da yeterli olacaktır.\n",
    "\n",
    "Ayrıca zaman serisi analizindeki en önemli adımlardan biri verileri çizmektir; yani, grafiği oluşturmaktır."
   ]
  },
  {
   "cell_type": "code",
   "execution_count": 113,
   "metadata": {},
   "outputs": [
    {
     "data": {
      "image/png": "[encoded data removed]",
      "text/plain": [
       "Plot with title \"Platinum Prices 1990-2018\""
      ]
     },
     "metadata": {},
     "output_type": "display_data"
    }
   ],
   "source": [
    "PlatinumPricests<-ts(PlatinumPrices[,2],\n",
    "                     freq=365)\n",
    "plot(PlatinumPricests,type='s',\n",
    "     xlab=\"Time\",\n",
    "     ylab=\"($)\", \n",
    "     main=\"Platinum Prices 1990-2018\")"
   ]
  },
  {
   "cell_type": "markdown",
   "metadata": {},
   "source": [
    "Yukarıda çizilen grafikten görüldüğü üzere ele alacağımız veri seti 1990-2018 yılları arasında Platin'in dolar fiyatını içermektedir. \n",
    "Veri setinin grafiğini çizmek için yukarıdaki R komutu kullanılır. 2008 yılına kadar neredeyse durağan seyreden fiyatlar 2008-2010 yılları arasında bir dalgalanma olduğu çizilen grafikte görülmektedir. 2010-2015 yıllarında yüksek fiyatlarda seyretmiş ve daha sonra azalarak günümüzdeki fiyatına ulaşmaktadır.Bu dalgalanmayı içeren sinyaller veri analizi aşamalarında saptanacak ve veriden uzaklaştıralacaktır. \n",
    "Mevsimsellik; aylar, haftanın günleri, mevsimler, vb. gibi sürelerleilgili düzenli ve yinelenen yüksek ve düşük örüntüleri ifade etmektedir. Yukarıda görüldüğü üzere veride herhangi bir mevsimselliğe rastlanmamaktadır.\n",
    "Trend; ortalama olarak, ölçümlerin zamanla artma (veya azaltma) eğiliminde olması anlamına gelir. Yıllar içerisinde platin fiyatlarında bir artış olduğu görülmektedir. \n",
    "Aykırı değerler; regresyon çizgisinden çok uzak değerler olarak düşünülebilir."
   ]
  },
  {
   "cell_type": "markdown",
   "metadata": {},
   "source": [
    "## Zaman serilerinin ayrıştırılması (Decomposition)\n",
    "Zaman serilerinin çoğu trend ve mevsimsel etkiye sahiptir.\n",
    "\n",
    "$Trend:$ ortalama olarak, ölçümlerin zamanla artma (veya azaltma) eğiliminde olması anlamına gelir.\n",
    "\n",
    "$Mevsimsellik:$yani mevsimler,aylar, haftanın günleri, gibi sürelerle ilgili düzenli ve yinelenen yüksek ve düşük örüntülerdir.\n",
    "Serilerin seviyesinde veya varyansta ani değişiklikler var mı?Ayrıştırma (decomposition) modelleri ile serilerin bu özelliklerden ayrılması sağlanır. Basit bir toplamsal(additive) model aşağıdaki şekilde gösterilebilir.\n",
    "$$X_t=m_t+s_t+R_t$$\n",
    "Buradaki $X_t$ zaman serisini gösterir.$m_t$ trend bileşenini ifade ederken, $s_t$ mevsimsel etkiyi göstermektedir. $R_t$ genellikle ortalaması sıfır olan korelasyonlu rastgele değişkenlerin bir dizisi yani kalan terimi göstermektedir.Amaç, Rt'nin sabit bir zaman serileri süreci olduğu bir ayrıştırma bulmaktır. Böyle bir model hava yolcu rezervasyonları, işsizlik gibi bir çok modelde karşımıza çıkabilir. Ayrıca tüm bu serilerin daha yakından incelenmesi, mevsimsel etkinin ve trendin arttığında rasgele değişimin arttığını göstermektedir. Bu gibi durumlarda, çarpımsal(multiplicative) model kullanılmaktadır. Çarpımsal model aşağıdaki şekilde ifade edilebilir.\n",
    "$$X_t=m_t*s_t*R_t$$\n",
    "\n",
    "(Marcel Dettling,2014)\n",
    "\n",
    "Trend $m_t$ , mevsimsellik $s_t$ ve kalan terimlerin  $R_t$ tahminlemesi bir çok açıdan yapılabilir. Örneğin Decompose() fonksiyonu trend, mevsimsellik değerlerini modelin toplamsal ya da çarpımsal parametresine göre ayrıştırmaktadır. Hem toplamsal(additive) hem de çarpımsal(multiplicative) model için zaman serisinin ayrıştırılması gösterilmiştir.\n",
    "R'nin stl () komutu, periyodik bir zaman serisinin trend, mevsimsellik ve geri kalanına ayrışmasını sağlayan başka bir yöntemdir. Tüm tahminler LOESS yumuşaklığına dayanmaktadır. Çıktısı neredeyse decompose () ile elde ettiğimiz değerlere benzer olmasına rağmen, bu fonksiyon daha güvenilir sonuçlar verebilmektedir.\n",
    "\n",
    "## Beyaz Gürültü\n",
    "Veri setinin içindeki trend, mevsimsellik ve üssel dağılımları yukarıda anlatılan işlemlerle çıkarıldıktan sonra elimizde kalan grafiğin eğer herhangi bir aykırı değerler içermiyorsa beyaz gürültü olması beklenmektedir. Trendin ayrıştırılması için linear regresyon, mevsimselliğin ayrıştırılması için fourrier serileri ve üssel dağılımın ayrıştırılması için ise ARIMA modellerinin çıkarılması gerekmektedir. Aslında decompose() ve stl() fonksiyonları bu trend ve mevsimsellik için bu ayrıştırmayı yapmaktadır.\n",
    "Bu yüzden ayrışmadan elde kalan $R_t$ random fonksiyonunu gürültü fonksiyonuna yakın olması beklenmektedir. \n",
    "\n",
    "$Beyaz gürültü:$ Bir ${X_t}$ fonksiyonu bağımsız ve ortalaması sıfır ve varyansı $σ^2$ olarak dağılıma sahipse Beyaz Gürültü olarak adlandırılır. Bir beyaz gürültü aşağıdaki notasyon ifade edilebilir.\n",
    "$${Xt} ∼ N(0, σ^2)$$\n",
    "(Brockwell,2002)\n",
    "\n",
    "Aşağıda decompose() işleminin hem toplamsal, hem çarpımsal modele göre ayrıştırılması aynı zamanda stl() e göre yapılan ayrıştırmanın R komutları görülmektedir. Ayrıca bu ayrıştırmaların grafikleri oluşturulmuştur."
   ]
  },
  {
   "cell_type": "code",
   "execution_count": 114,
   "metadata": {
    "scrolled": false
   },
   "outputs": [
    {
     "data": {
      "image/png": "[encoded data removed]",
      "text/plain": [
       "plot without title"
      ]
     },
     "metadata": {},
     "output_type": "display_data"
    },
    {
     "data": {
      "image/png": "[encoded data removed]",
      "text/plain": [
       "plot without title"
      ]
     },
     "metadata": {},
     "output_type": "display_data"
    },
    {
     "data": {
      "image/png": "[encoded data removed]",
      "text/plain": [
       "plot without title"
      ]
     },
     "metadata": {},
     "output_type": "display_data"
    }
   ],
   "source": [
    "PlatinumPricesDecomposeA<-decompose(PlatinumPricests, \n",
    "                                    type = c(\"additive\"), \n",
    "                                    filter = NULL)\n",
    "plot(PlatinumPricesDecomposeA)\n",
    "PlatinumPricesDecomposeM<-decompose(PlatinumPricests, \n",
    "                                    type = c(\"multiplicative\"), \n",
    "                                    filter = NULL)\n",
    "plot(PlatinumPricesDecomposeM)\n",
    "PlatinumPricesSTL<-stl(PlatinumPricests,s.window='periodic')\n",
    "plot(PlatinumPricesSTL)\n"
   ]
  },
  {
   "cell_type": "markdown",
   "metadata": {},
   "source": [
    "Zaman serisi ayrıştırmasındaki $observed$ ile gösterilen verilerin gerçek grafiğidir. $Trend$ bileşeni $m_t$ yani eğilimi gösterirken, $seasonal$ verideki mevsimselliği yani $s_t$ temsil etmektedir. $Random$ ise gerçek verilerden $m_t$ ve $s_t$ değerlerinin çıkarılması ile oluşur. Bu da $R_t$ kalan değeri gösterir. Stl() ile yapılan ayrıştırma işleminde ise $remainder$ trend ve mevsimsellik çıkarıldığındaki kalan değeri ifade etmektedir.\n",
    "\n",
    "decompose() ve stl() ile yapılan ayrıştırmalar incelendiğinde hangisinin verinin ayrıştırmada doğru sonuçlar vereceği yani random fonksiyonlarından hangisinin beyaz gürültü fonksiyonuna daha yakın olduğu göz ile tespit edilememektedir. Bunun için normallik testlerinden yararlanılması gerekmektedir.\n",
    "\n",
    "### Beyaz Gürültü Testleri\n",
    "Yukarıda yapılan ayrıştırma işlemlerinin amacı belirgin bir sapma göstermeyen ve özellikle belirgin bir eğilim veya mevsimselliğe sahip olmayan bir seri üretmektir.Bu aşamadan bir sonraki adım tahmini gürültü serisini modellemektir (Yani, verilerden trend ve mevsimsel bileşenleri tahmin ederek ve çıkararak elde edilen artıklar).Eğer bu artıklar arasında bir bağımlılık yoksa, onları bağımsız rasgele değişkenlerin gözlemleri olarak görebiliriz ve onların ortalama ve varyanslarını tahmin etmek dışında başka bir modelleme yoktur. Ancak, artıklar arasında önemli bir bağımlılık varsa, o zaman bağımlılığı açıklayan gürültü için daha karmaşık bir durağan zaman serisi modelini aramamız gerekir.\n",
    "\n",
    "$R_t$ serisinin beyaz gürültü olup olmadığı için testler kullanılmalıdır. Eğer beyaz gürültü ise zaman serisi açıklanmış olacaktır ve içerisinde trend ve mevsimsellikten başka bir anamoliye rastlanmamıştır diyebiliriz.Fakat değil ise o zaman ARIMA gibi modellerle içerisindeki anomaliler saptanıcaktır.(Brockwell,2002)\n",
    "\n",
    "### Shapiro-Wilks test   \n",
    "Shapiro ve Wilk tarafından geliştirilen Shapiro-Wilk testi, çoğu durumda en güçlü ve çok amaçlı testtir. Son yıllarda, SW testi, çok çeşitli alternatif testlere kıyasla iyi güç özellikleri nedeniyle normalliğin tercih edilen testi haline gelmiştir.W test istatistiği dağılımın normal olup olmadığına karar verilmesi için kullanılır. W test istatistiği aşağıdaki notasyon ile ifade edilir.\n",
    "$$W=\\frac{\\sum_i(a_ix_i)^2}{\\sum_i(x_i-\\bar{x})^2}$$\n",
    "$x_i$ veri setindeki değerleri, $\\bar{x}$,ortalamayı ve n, gözlemlerin sayısını temsil eder.${x_t}$ herhangi bir veri seti olmak üzere normalliğinin testi için kullanılan Shapiro-Wil test için Shapiro.test($x_t$) R komutu kullanılır. Eğer p değeri, istenilen $\\alpha$ değerinden küçük ise o zaman normallik hipotezini reddedilir. Test istatistiği \n",
    "0 <W ≤ 1 arasındadır. W değerinin 1'e yakın değerler için  normallik hipotezi reddedilmez. Daha küçük W için reddedilecektir. Yani W değeri büyük olan $R_t$ beyaz gürültüye daha çok benzemektedir. Test sadece n ≥ 3 değerleri için geçerlidir ve R uygulaması n 5,000'e kadar izin vermektedir. (Investigation of Four Different Normality Tests in Terms of Type 1 Error Rate and Power under Different Distributions)\n",
    "\n",
    "### Kolmogorov-Smirnov test \n",
    "KS testi ilk olarak Kolmogorov tarafından önerilmiştir ve daha sonra Smirnov tarafından geliştirilmiştir. Bu test verilerin kümülatif dağılımını beklenen kümülatif normal dağılım ile karşılaştırır. Yani iki örneklemi karşılaştırmak için kullanılmaktadır.Test istatistiği D normalliğe karar vermek için kullanılır. D test istatistiği için  küçük değerleri, normalliği ifade etmektedir. D test istatistiği aşağıdaki notasyon ile ifade edilir.\n",
    "$$ D=\\max[F_x(u)-F_y(u)]$$\n",
    "Fakat bizim test etmemiz gereken bir örneklem olduğu için R'da kullanılan ks.test() fonskiyonunda ikinci örneklem için 'pnorm' yani örnek bir kümülatif dağılımı temsil etmektedir. (Investigation of Four Different Normality Tests in Terms of Type 1 Error Rate and Power under Different Distributions)\n",
    "Shapiro-Wilks test ile 3 ile 5000 tane veri test edilebilirken  Kolmogorov-Smirnov testi ile daha çok veri test edilebilir.\n",
    "Aşağıda ayrıştırmalardan kalan veri setleri için normallik testleri uygulanmıştır. Shapiro-Wilk testi 5000 veri ile çalıştığı için mevcut veri setimizin içerisinden örneklem oluşturarak daha doğru sonuçlar elde edilecektir."
   ]
  },
  {
   "cell_type": "code",
   "execution_count": 115,
   "metadata": {},
   "outputs": [
    {
     "data": {
      "text/plain": [
       "\n",
       "\tShapiro-Wilk normality test\n",
       "\n",
       "data:  SamplePlatinumPricesDecomposeA\n",
       "W = 0.89401, p-value < 2.2e-16\n"
      ]
     },
     "metadata": {},
     "output_type": "display_data"
    },
    {
     "data": {
      "text/plain": [
       "\n",
       "\tShapiro-Wilk normality test\n",
       "\n",
       "data:  SamplePlatinumPricesDecomposeM\n",
       "W = 0.96524, p-value < 2.2e-16\n"
      ]
     },
     "metadata": {},
     "output_type": "display_data"
    },
    {
     "data": {
      "text/plain": [
       "\n",
       "\tShapiro-Wilk normality test\n",
       "\n",
       "data:  SamplePlatinumPricesDecomposeSTL\n",
       "W = 0.88841, p-value < 2.2e-16\n"
      ]
     },
     "metadata": {},
     "output_type": "display_data"
    },
    {
     "data": {
      "text/plain": [
       "\n",
       "\tOne-sample Kolmogorov-Smirnov test\n",
       "\n",
       "data:  PlatinumPricesDecomposeA$random\n",
       "D = 0.10965, p-value < 2.2e-16\n",
       "alternative hypothesis: two-sided\n"
      ]
     },
     "metadata": {},
     "output_type": "display_data"
    },
    {
     "data": {
      "text/plain": [
       "\n",
       "\tOne-sample Kolmogorov-Smirnov test\n",
       "\n",
       "data:  PlatinumPricesDecomposeM$random\n",
       "D = 1, p-value < 2.2e-16\n",
       "alternative hypothesis: two-sided\n"
      ]
     },
     "metadata": {},
     "output_type": "display_data"
    },
    {
     "data": {
      "text/plain": [
       "\n",
       "\tOne-sample Kolmogorov-Smirnov test\n",
       "\n",
       "data:  PlatinumPricesSTL$time.series[, 3]\n",
       "D = 0.11552, p-value < 2.2e-16\n",
       "alternative hypothesis: two-sided\n"
      ]
     },
     "metadata": {},
     "output_type": "display_data"
    }
   ],
   "source": [
    "SamplePlatinumPricesDecomposeA<-sample(PlatinumPricesDecomposeA$random,5000)\n",
    "SamplePlatinumPricesDecomposeM<-sample(PlatinumPricesDecomposeM$random,5000)\n",
    "SamplePlatinumPricesDecomposeSTL<-sample(PlatinumPricesSTL$time.series[,3],5000)\n",
    "shapiro.test(SamplePlatinumPricesDecomposeA)\n",
    "shapiro.test(SamplePlatinumPricesDecomposeM)\n",
    "shapiro.test(SamplePlatinumPricesDecomposeSTL)\n",
    "ks.test(PlatinumPricesDecomposeA$random,\n",
    "        'pnorm',\n",
    "        mean=0,\n",
    "        sd=sqrt(var(na.omit(PlatinumPricesDecomposeA$random))))\n",
    "ks.test(PlatinumPricesDecomposeM$random,\n",
    "        'pnorm',\n",
    "        mean=0,\n",
    "        sd=sqrt(var(na.omit(PlatinumPricesDecomposeM$random))))\n",
    "ks.test(PlatinumPricesSTL$time.series[,3],\n",
    "        'pnorm',\n",
    "        mean=0,\n",
    "        sd=sqrt(var(na.omit(PlatinumPricesSTL$time.series[,3]))))"
   ]
  },
  {
   "cell_type": "markdown",
   "metadata": {},
   "source": [
    "Shapiro-Wilk testinin çıktılarına göre en büyük W değeri çarpımsal model kullanılarak yapılan ayrıştırmanın 5000 verilik örnekleminden kalan verilerinde görülmektedir. Yani shapiro-wilk testine göre çarpımsal modelin $R_t$ değeri normalliğe daha yakındır. Fakat Kolmogorov-Smirnov testi ise D değeri küçük olan toplamsal ve stl ile yapılan ayrıştırmadan kalan $R_t$'nin normalliğe daha yakın olduğunu göstermektedir. Buradan anlaşılacağı üzere herhangi bir ayrıştırmanın en iyi olacağı sonucuna varılamamıştır. Yani shapiro-wilk testi ile Kolmogorov-Smirnov testi birbirleriyle çelişki çıktılara sahiptir. Bundan dolayı bir sonraki adımda yapılacak olan Box-Jenkins modelleri hem toplamsal hem de çarpımsal modellerin kalanları için uygulanmalıdır. Uyhun Box-Jenkins modelin tespiti için serinin durağan olup olmadığına karar verilmesi gerekir. Durağan bir seri için Otoregresyon Modelleri (AR),Hareketli Ortalama Modelleri (MA),Otoregresif Hareketli Ortalama Modelleri(ARMA) kullanılırken durağan olmayan seriler için bütünleşik hareketli otoregresif modeller (ARIMA) kullanılır. Modellerin uygulanması için öncelikli olarak serinin durağan olup olmadığının testleri yapılmalı ve durağan olması sağlanmalıdır.\n",
    "\n",
    "## Durağanlık\n",
    "Bir zaman serisi ${X_t, t=0, ± 1, ...}$, eğer her h tam sayısı için ${X_{t+h}, t=0, ± 1, ...}$ zaman kaydırılmış serisi ile benzer istatistiksel özelliklere sahipse durağandır.\n",
    "{$X_t$} bir zaman serisi aşağıdaki özelliklere sahip olsun.\n",
    "\n",
    "Beklenen Değer $\\varphi$: E($X_t$),\n",
    "\n",
    "Varyans $\\sigma^2$: Var($X_t$) ,\n",
    "\n",
    "Kovaryans $\\gamma$: Cov ($X_t$,$X_{t+h}$)\n",
    "\n",
    "Başka bir deyişle durağan zaman serisi verilerinin belirli bir zaman sürecinde sürekli artma veya azalmanın olmadığı, verilerin zaman boyunca bir yatay eksen boyunca saçılım gösterdiği biçimde tanımlanır. Genel bir tanımlama ile, sabit ortalama, sabit varyans ve seriye ait iki değer arasındaki farkın zamana değil, yalnızca iki zaman değeri arasındaki farka bağlı olması şeklinde ifade edilir.\n",
    "Bir zaman serisinin durağan olup olmadığı 2 yöntem ile saptanabilir;\n",
    "\n",
    "1.Serilerin zaman yolu grafiğinde ve onun korelogramında otokorelasyon ve kısmi otokorelasyon katsayıları üzerinde yapılan subjektif yargılar ile\n",
    "\n",
    "2.Birim köklerin varlığını için istatistiki testlerin kullanılması ile.\n",
    "\n",
    "Durağanlık için kullanılan bazı testlere örnek olarak Genişletilmiş Dickey-Fuller (ADF) Testi ve KPSS Testi verilebilir.(Marcel Dettling,2014)\n",
    "\n",
    "### Genişletilmiş Dickey-Fuller (ADF) Testi\n",
    "Genişletilmiş Dickey Fuller Testi (ADF) durağanlık için birim kök testidir. Birim kökler, zaman serisi analizinizde öngörülemeyen sonuçlara neden olabilir. Artırılmış Dickey-Fuller testi, seri korelasyon ile kullanılabilir. ADF testi, Dickey-Fuller testinden daha karmaşık modelleri ele alabilir ve aynı zamanda daha güçlüdür.  Sıfır hipotezi serinin durağan olmadığını ve birim kök içerdiğini, buna karşın alternatif hipotez ise seride birim kök olmadığını ve durağan olduğu ifade eder.\n",
    "\n",
    "\n",
    "### KPSS (Kwiatkowski-Phillips-Schmidt-Shin) Testi\n",
    "KPSS testinde amaç gözlenen serideki deterministik trendi arındırarak serinin durağan olmasını sağlamaktır. Bu testte kurulan birim kök hipotezi ADF testinde kurulan hipotezlerden farklıdır. Sıfır hipotezi serinin durağan olduğunu ve birim kök içermediğini, buna karşın alternatif hipotez ise seride birim kök olduğunu ve durağan olmadığını ifade eder. Boş hipotezdeki durağanlık trend durağanlıktır. Çünkü seriler trendden arındırılmışlardır.\n",
    "\n",
    "Aşağıda durağanlık tespiti için ADF testi yapılmıştır."
   ]
  },
  {
   "cell_type": "code",
   "execution_count": 116,
   "metadata": {
    "scrolled": true
   },
   "outputs": [
    {
     "name": "stderr",
     "output_type": "stream",
     "text": [
      "Warning message in adf.test(na.omit(SamplePlatinumPricesDecomposeA)):\n",
      "\"p-value smaller than printed p-value\""
     ]
    },
    {
     "data": {
      "text/plain": [
       "\n",
       "\tAugmented Dickey-Fuller Test\n",
       "\n",
       "data:  na.omit(SamplePlatinumPricesDecomposeA)\n",
       "Dickey-Fuller = -16.514, Lag order = 16, p-value = 0.01\n",
       "alternative hypothesis: stationary\n"
      ]
     },
     "metadata": {},
     "output_type": "display_data"
    },
    {
     "name": "stderr",
     "output_type": "stream",
     "text": [
      "Warning message in adf.test(na.omit(SamplePlatinumPricesDecomposeM)):\n",
      "\"p-value smaller than printed p-value\""
     ]
    },
    {
     "data": {
      "text/plain": [
       "\n",
       "\tAugmented Dickey-Fuller Test\n",
       "\n",
       "data:  na.omit(SamplePlatinumPricesDecomposeM)\n",
       "Dickey-Fuller = -16.79, Lag order = 16, p-value = 0.01\n",
       "alternative hypothesis: stationary\n"
      ]
     },
     "metadata": {},
     "output_type": "display_data"
    },
    {
     "name": "stderr",
     "output_type": "stream",
     "text": [
      "Warning message in adf.test(na.omit(SamplePlatinumPricesDecomposeSTL)):\n",
      "\"p-value smaller than printed p-value\""
     ]
    },
    {
     "data": {
      "text/plain": [
       "\n",
       "\tAugmented Dickey-Fuller Test\n",
       "\n",
       "data:  na.omit(SamplePlatinumPricesDecomposeSTL)\n",
       "Dickey-Fuller = -16.257, Lag order = 17, p-value = 0.01\n",
       "alternative hypothesis: stationary\n"
      ]
     },
     "metadata": {},
     "output_type": "display_data"
    }
   ],
   "source": [
    "adf.test(na.omit(SamplePlatinumPricesDecomposeA))\n",
    "adf.test(na.omit(SamplePlatinumPricesDecomposeM))\n",
    "adf.test(na.omit(SamplePlatinumPricesDecomposeSTL))"
   ]
  },
  {
   "cell_type": "markdown",
   "metadata": {},
   "source": [
    "Yukarıdaki yapılan testlere göre serinin durağan olduğu söylenebilir. \n",
    "\n",
    "## Box-Jenkins Modelleri\n",
    "\n",
    "Gecikmeli doğrusal ilişkiler yoluyla ortaya çıkabilen korelasyonun getirilmesi, otoregresif (AR), hareketli ortalamalar(MA) otoregresif hareketli ortalama (ARMA) modellerin önerilmesine yol açmaktadır. Durağan olmayan modeller için Box ve Jenkins (1970) tarafından yapılan otoregresif entegre hareketli ortalama (ARIMA) modeli ortaya çıkmıştır. \n",
    "\n",
    "###  Durağan Zaman Serisi Modelleri\n",
    "###  Otoregresif Modeller (AR)\n",
    "Bir zaman serisi modelinin en doğal formülasyonu, geçmiş değerleriyle doğrusal bir ilişkiye sahip olması yani serinin kendisinin herhangi bir gerilemesi ile arasında regresyon olmasıdır. Bu, otoregresif model ile yapılır ve zaman serilerinin açıklamanın en kullanılan modelidir.Otoregresif modeller, $x_t$ serisinin mevcut değerinin, geçmiş değerlerin, $x_{t-1}$,$x_{t-2}$,...,$x_{t-p}$ nin bir fonksiyonu olarak açıklanabileceği fikrine dayanmaktadır. Burada p, mevcut değeri tahmin etmek için gerekli olan geçmiş adım sayısını belirler. \n",
    "$AR(p)$ aşağıdaki denklemlere göre geçmiş gözlemlerin doğrusal bir kombinasyonuna dayanır:\n",
    "$$X_t=\\sum_i a_iX_{t-i}+w_t$$\n",
    "Buradaki $a_i$ değerleri katsayılardır. $w_t$ terimi bir Beyaz Gürültü işleminden gelir. $AR(p)$ modelleri sadece sabit zaman serilerine uygulanabilir. Herhangi bir eğilim ve / veya mevsimsel etkilerin öncelikle kaldırılması gerekir.\n",
    "Verilere bir $AR(p)$ modelinin p değerinin saptanması kısmi otokorelasyon fonksiyonunun(PACF) analizine dayanır. PACF analizine göre ilk olarak makul görünen en basit modeli denenir. PACF'nin 'cut-off' çizgisini kestiği tüm değerler olası p değerleridir. İlk olarak en küçük p değerinden başlanarak diğer değerler denenir. \n",
    "\n",
    "### Kısmi Otokorelasyon Fonksiyonu(PACF)\n",
    "Genel olarak, kısmi bir korelasyon bir koşullu korelasyondur.Diğer değişkenler grubunun değerlerini bildiğimiz ve hesaba kattığımız varsayımı altında iki değişken arasındaki ilişkidir.$Y$ ve $x_3$ arasındaki kısmi korelasyon, hem $Y$ hem de $x_3$'ün $x_1$ ve $x_2$ ile ilgili olduğunu dikkate alarak belirlenen değişkenler arasındaki korelasyondur. N. dereceden Kısmi korelasyonu aşağıdaki notasyon ile tanımlayabiliriz.\n",
    "\n",
    "$$\\frac{Kovaryans(x_t,x_{t-n}|x_{t-1},x_{t-2},...x_{t-n+1})}{\\sqrt{(Varyans(x_t|x_{t-1},x_{t-2},...x_{t-n+1})Varyans(x_{t-n}|x_{t-1},x_{t-2},...x_{t-n+1})}}$$\n",
    "\n",
    "Aşağıda trend ve mevsimselliği ayrıştırıldıktan sonra kalan $R_t$ fonksiyonlarının PACF korelogramları hesaplanmıştır."
   ]
  },
  {
   "cell_type": "code",
   "execution_count": 117,
   "metadata": {
    "scrolled": true
   },
   "outputs": [
    {
     "data": {
      "image/png": "[encoded data removed]",
      "text/plain": [
       "Plot with title \"Series  na.omit(PlatinumPricesDecomposeA$random)\""
      ]
     },
     "metadata": {},
     "output_type": "display_data"
    },
    {
     "data": {
      "image/png": "[encoded data removed]",
      "text/plain": [
       "Plot with title \"Series  na.omit(PlatinumPricesDecomposeM$random)\""
      ]
     },
     "metadata": {},
     "output_type": "display_data"
    },
    {
     "data": {
      "image/png": "[encoded data removed]",
      "text/plain": [
       "Plot with title \"Series  na.omit(PlatinumPricesSTL$time.series[, 3])\""
      ]
     },
     "metadata": {},
     "output_type": "display_data"
    }
   ],
   "source": [
    "pacf(na.omit(PlatinumPricesDecomposeA$random))\n",
    "pacf(na.omit(PlatinumPricesDecomposeM$random))\n",
    "pacf(na.omit(PlatinumPricesSTL$time.series[,3]))"
   ]
  },
  {
   "cell_type": "markdown",
   "metadata": {},
   "source": [
    "Hesaplanan PACF korelogramlarına göre AR(p) modelinin p değerleri toplamsal modele göre {1,2,4,7}'dir. Çarpımsal modele göre ise {1,2,3,4}, stl modeline göre yapılan ayrıştırmaya göre ise {1,2,4,7}'dir.\n",
    "\n",
    "### Hareketli Ortalamalar Modeli(MA)\n",
    "Hareketli ortalama (MA) modeli, mevcut beyaz gürültü teriminin ve yakın geçmişte geçen beyaz gürültü terimlerinin doğrusal bir kombinasyonu şeklinde tanımlanabilir. Birçok açıdan hareketli ortalama modellerin otoregresif modellere tamamlayıcısı olmaktadır.\n",
    "Yukarıda bahsedildiği üzere, MA(q) modelinin $E_t$ yani hata terimlerinin bir kombinasyonu olduğu görülmektedir. Aşağıdaki notasyon ile ifade edilebilir;\n",
    "$$x_t = E_t + θ_1E_{t−1} + θ_2E_{t−2} + · · · + θ_qE_{t-q}$$\n",
    "Buradaki $E_t$ değeri sıfır ortalama ve varyanslı beyaz gürültüdür. Verilere bir $MA(q)$ modelinin q değerinin saptanması otokorelasyon fonksiyonunun(ACF) analizine dayanır.\n",
    "\n",
    "### Otokorelasyon Fonksiyonu(ACF)\n",
    "Bir zaman serisi için otokorelasyon fonksiyonu (ACF), dizinin $x_t$ ve 1, 2, 3 ve benzeri gecikmeler için dizinin gecikmeli değerleri arasındaki korelasyonları verir. Gecikmiş değerler $x_{t-1}$, $x_{t-2}$, $x_{t-3}$ ve benzeri şekilde yazılabilir. ACF,$x_t$ ve$x_{t-1}$, $x_{t-2}$, $x_{t-3}$,.. arasındaki korelasyonları verir. $X_t$ ile $X_{t+k}$ arasındaki otokorelasyon;\n",
    "$$Cov(X_{t+k},X_t)= \\frac{Kovaryans(x_t,x_{t+k})}{\\sqrt{(Varyans(x_t)Varyans(x_{t+k})}}$$\n",
    "\n",
    "\n",
    "Aşağıda trend ve mevsimselliği ayrıştırıldıktan sonra kalan $R_t$ fonksiyonlarının ACF korelogramları hesaplanmıştır."
   ]
  },
  {
   "cell_type": "code",
   "execution_count": 118,
   "metadata": {},
   "outputs": [
    {
     "data": {
      "image/png": "[encoded data removed]",
      "text/plain": [
       "Plot with title \"Series  na.omit(PlatinumPricesDecomposeA$random)\""
      ]
     },
     "metadata": {},
     "output_type": "display_data"
    },
    {
     "data": {
      "image/png": "[encoded data removed]",
      "text/plain": [
       "Plot with title \"Series  na.omit(PlatinumPricesDecomposeM$random)\""
      ]
     },
     "metadata": {},
     "output_type": "display_data"
    },
    {
     "data": {
      "image/png": "[encoded data removed]",
      "text/plain": [
       "Plot with title \"Series  na.omit(PlatinumPricesSTL$time.series[, 3])\""
      ]
     },
     "metadata": {},
     "output_type": "display_data"
    }
   ],
   "source": [
    "acf(na.omit(PlatinumPricesDecomposeA$random),lag.max = 50000)\n",
    "acf(na.omit(PlatinumPricesDecomposeM$random),lag.max = 50000)\n",
    "acf(na.omit(PlatinumPricesSTL$time.series[,3]),lag.max = 50000)"
   ]
  },
  {
   "cell_type": "markdown",
   "metadata": {},
   "source": [
    "ACF korelagramına bakılarak MA(q) modeli için q parametresi tahminlemesi yapılamamaktadır.\n",
    "### ARIMA modelleri\n",
    "AR(p) ve MA(q) modellerinin birlikte kullanılması durumundan ortaya çıkan model ARMA(p,q) olarak adlandırılır. Önemi, çok daha geniş bir bağımlılık yapıları yelpazesinin modellenmesinin mümkün olduğu ve bunların da karmaşık olduğu gerçeğinde yatmaktadır. Çoğu zaman, bir ARMA(p,q) sadece AR veya MA süreçleriyle bulunan p,q değerlerinden daha az sayıda parametre gerektirmektedir. Burada model hem {$E_t$} kalan terimlerinin hem de {$X_t$} önceki verilerin kombinasyonu şeklindedir. Bir ARMA (p,q) modeli aşağıdaki notasyon ile ifade edilebilir:\n",
    "$$x_t = a_1x_{t-1}+ a_2x_{t-2}+...+a_px_{t-p}+E_t + θ_1E_{t−1} + θ_2E_{t−2} + ... + θ_qE_{t-q}$$\n",
    "\n",
    "### ARIMA Modelleri\n",
    "Geniş bir dizi durağan olmayan seriyi içeren bu sınıfın bir genellemesi, ARIMA süreçleri, yani birçok kez farklılaştıklarında ARMA işlemlerine indirgeyen süreçler tarafından sağlanır. {$x_t$} serisi bir ARMA(p,q) modelinden elde edilen bir seri olmak üzere, eğer $d^{th}$ dereceden farkı alınmasıyla elde edilen süreç ARIMA olarak adlandırılır. \n",
    "$$Y_t=(1-B)^dX_t$$ şeklinde ifade edilir. Buradaki B, 'backshift' operatörüdür.\n",
    "R'da auto.arima fonksiyonu AIC, AICc veya BIC değerine göre en iyi ARIMA modelinin oluşturulmasını sağlar.\n",
    "\n",
    "### Model kriterlerinin kullanılarak uygun ARIMA modelinin seçimi\n",
    "Modelseçim kriterlerine örnek olarak AIC ve BIC verilebilir.Akaike bilgi kriteri (AIC) (Akaike, 1974), bir modelin gelecekteki değerleri tahmin etme / tahmin etme olasılığını tahmin etmek için örneklem içi uygunluğu için kullanılan bir tekniktir.Diğer tüm modeller arasında minimum AIC'ye sahip olan model iyi bir modeldir.(Metcalfe,2014) Aşağıdaki şekilde ifade edilir.\n",
    "$$AIC = -2*log-likelihood+ 2*{parametrelerin  sayısı}$$Bayes bilgisi kriteri (BIC) (Stone, 1979), modelin modele uyumu ve karmaşıklığı arasındaki dengeyi ölçen bir model seçim kriteridir.\n",
    "\n",
    "Model seçim kriterleri olarak minimum AIC ve BIC değerleri kullanılır. En uygun model, minimum AIC ve BIC'ye göre seçilir.\n",
    "Aşağıda toplamsal, çarpımsal ve stl modellerine göre yapılan ayrıştırmanın kalanı ile herhangi bit işlem yapılmadan saf veriye auto.arima uygulanmıştır."
   ]
  },
  {
   "cell_type": "code",
   "execution_count": 119,
   "metadata": {},
   "outputs": [
    {
     "data": {
      "text/plain": [
       "Series: na.omit(PlatinumPricesDecomposeM$random) \n",
       "ARIMA(1,0,3) with non-zero mean \n",
       "\n",
       "Coefficients:\n",
       "         ar1     ma1      ma2      ma3    mean\n",
       "      0.9856  0.0592  -0.0210  -0.0289  0.9882\n",
       "s.e.  0.0021  0.0124   0.0123   0.0118  0.0169\n",
       "\n",
       "sigma^2 estimated as 0.0004003:  log likelihood=16793.82\n",
       "AIC=-33575.64   AICc=-33575.62   BIC=-33534.74"
      ]
     },
     "metadata": {},
     "output_type": "display_data"
    },
    {
     "data": {
      "text/plain": [
       "Series: na.omit(PlatinumPricesDecomposeA$random) \n",
       "ARIMA(1,0,3) with zero mean \n",
       "\n",
       "Coefficients:\n",
       "         ar1     ma1     ma2      ma3\n",
       "      0.9853  0.0563  0.0122  -0.0396\n",
       "s.e.  0.0022  0.0124  0.0122   0.0118\n",
       "\n",
       "sigma^2 estimated as 75.02:  log likelihood=-24103.51\n",
       "AIC=48217.01   AICc=48217.02   BIC=48251.09"
      ]
     },
     "metadata": {},
     "output_type": "display_data"
    },
    {
     "data": {
      "text/plain": [
       "Series: na.omit(PlatinumPricesSTL$time.series[, 3]) \n",
       "ARIMA(2,0,2) with zero mean \n",
       "\n",
       "Coefficients:\n",
       "          ar1     ar2     ma1     ma2\n",
       "      -0.0027  0.9684  1.0398  0.0616\n",
       "s.e.   0.0125  0.0124  0.0169  0.0122\n",
       "\n",
       "sigma^2 estimated as 76.74:  log likelihood=-25486.54\n",
       "AIC=50983.08   AICc=50983.09   BIC=51017.42"
      ]
     },
     "metadata": {},
     "output_type": "display_data"
    },
    {
     "data": {
      "text/plain": [
       "Series: na.omit(PlatinumPrices[, 2]) \n",
       "ARIMA(1,1,2) \n",
       "\n",
       "Coefficients:\n",
       "          ar1     ma1     ma2\n",
       "      -0.9849  1.0308  0.0531\n",
       "s.e.   0.0126  0.0170  0.0120\n",
       "\n",
       "sigma^2 estimated as 81.7:  log likelihood=-25703.69\n",
       "AIC=51415.38   AICc=51415.39   BIC=51442.86"
      ]
     },
     "metadata": {},
     "output_type": "display_data"
    }
   ],
   "source": [
    "auto.arima(na.omit(PlatinumPricesDecomposeM$random))\n",
    "auto.arima(na.omit(PlatinumPricesDecomposeA$random))\n",
    "auto.arima(na.omit(PlatinumPricesSTL$time.series[,3]))\n",
    "auto.arima(na.omit(PlatinumPrices[,2]))"
   ]
  },
  {
   "cell_type": "markdown",
   "metadata": {},
   "source": [
    "Veri içerisindeki trend, mevsimsel etki ve üssel dağılım konseptleri çıkarıldıktan sonra elde kalan verinin beyaz gürültü olması eklenmektedir. Decompose işlemi ile hem trend hem de mevsimsellik etki veriden uzaklaştırılmıştır. Arima modelleri ise veriden üssel etkilerin çıkarılmasını sağlar.\n",
    "\n",
    "Uyguladığımız arima modellerinden AIC değeri mutlak değerce en düşük olan multiplicative veriye uygulanan p=1, q=0,r=3 modeli seçilmiştir. Veri seti 1gün önceye bağlı olarak ve 3 günün ortalamasını alarak ilerlemektedir. Herhangi bir fark alınmadığı için durağan bir veri olduğu söylenebilir.\n",
    "\n",
    "ARIMA modeli ile üstel etkilerin çıkarılması için AIC,BIC değeri en düşük olan ARIMA(1,0,3) uygulamasından kalan seriye aşağıdaki şekilde ulaşılabilir. Ayrıca bu kalan değerin beyaz gürültü fonksiyonu olması beklenir.\n"
   ]
  },
  {
   "cell_type": "code",
   "execution_count": 120,
   "metadata": {
    "scrolled": true
   },
   "outputs": [
    {
     "name": "stdout",
     "output_type": "stream",
     "text": [
      "\n",
      "Call:\n",
      "arima(x = na.omit(PlatinumPricesDecomposeM$random), order = c(1, 0, 3))\n",
      "\n",
      "Coefficients:\n",
      "         ar1     ma1      ma2      ma3  intercept\n",
      "      0.9856  0.0592  -0.0210  -0.0289     0.9882\n",
      "s.e.  0.0021  0.0124   0.0123   0.0118     0.0169\n",
      "\n",
      "sigma^2 estimated as 4e-04:  log likelihood = 16793.82,  aic = -33575.64\n",
      "\n",
      "Training set error measures:\n",
      "                        ME       RMSE        MAE         MPE    MAPE     MASE\n",
      "Training set -2.270243e-05 0.02000089 0.01346155 -0.04206912 1.35472 0.994873\n",
      "                     ACF1\n",
      "Training set 7.332292e-05\n"
     ]
    },
    {
     "data": {
      "image/png": "[encoded data removed]",
      "text/plain": [
       "plot without title"
      ]
     },
     "metadata": {},
     "output_type": "display_data"
    }
   ],
   "source": [
    "PlatinumPricesArima<-arima(na.omit(PlatinumPricesDecomposeM$random),\n",
    "                           order=c(1,0,3))\n",
    "WhiteNoise<-PlatinumPricesArima$residuals\n",
    "plot(WhiteNoise)\n",
    "summary(PlatinumPricesArima)"
   ]
  },
  {
   "cell_type": "markdown",
   "metadata": {},
   "source": [
    "Kalan verinin grafiğindeki bantın genişliği riski ifade etmektedir. Risk neredeyse tüm zamananlarda aynıdır. Yukarıdaki arima modelin özet çıktısı doğru modelin uygulandığını hata ölçüm parametrelerinden göstermektedir. RMSE, MAE,MPE, MAPE gibi ölçüm değerleri uygulanan model için düşük çıkmıştır. Ayrıca özet fonksiyonunu çıktısındaki ACF değeri de modelin dğru olduğunu göstermektedir. Tüm bunlar da uygulanan arima(1,0,3) modelinin aslında doğru model olduğunu ve modelden çıkarılan değerlerin doğru sonuçlar olduğunu göstermektedir. Aslında arima(1,0,3) modeli arma(1,3) modelinin benzeridir.\n",
    "\n",
    "Arima modeli uygulandıktan sonra kalanından elde edilmesi beklenen beyaz gürültü fonksiyonun normalliği aşağıdaki R kodu ile yapılabilir;"
   ]
  },
  {
   "cell_type": "code",
   "execution_count": 121,
   "metadata": {
    "scrolled": true
   },
   "outputs": [
    {
     "data": {
      "text/plain": [
       "\n",
       "\tShapiro-Wilk normality test\n",
       "\n",
       "data:  SampleWN\n",
       "W = 0.91224, p-value < 2.2e-16\n"
      ]
     },
     "metadata": {},
     "output_type": "display_data"
    },
    {
     "data": {
      "text/plain": [
       "\n",
       "\tOne-sample Kolmogorov-Smirnov test\n",
       "\n",
       "data:  WhiteNoise\n",
       "D = 0.080916, p-value < 2.2e-16\n",
       "alternative hypothesis: two-sided\n"
      ]
     },
     "metadata": {},
     "output_type": "display_data"
    }
   ],
   "source": [
    "SampleWN<-sample(WhiteNoise,5000)\n",
    "shapiro.test(SampleWN)\n",
    "ks.test(WhiteNoise, 'pnorm',mean=0,sd=sqrt(var(WhiteNoise)))"
   ]
  },
  {
   "cell_type": "markdown",
   "metadata": {},
   "source": [
    "Çarpımsal modelden arima(1,0,3) çıkarılmadan önce yapılan normallik testlerinin sonuçları aşağıda verilmiştir."
   ]
  },
  {
   "cell_type": "code",
   "execution_count": 122,
   "metadata": {},
   "outputs": [
    {
     "data": {
      "text/plain": [
       "\n",
       "\tShapiro-Wilk normality test\n",
       "\n",
       "data:  SamplePlatinumPricesDecomposeM\n",
       "W = 0.96524, p-value < 2.2e-16\n"
      ]
     },
     "metadata": {},
     "output_type": "display_data"
    },
    {
     "data": {
      "text/plain": [
       "\n",
       "\tOne-sample Kolmogorov-Smirnov test\n",
       "\n",
       "data:  PlatinumPricesDecomposeM$random\n",
       "D = 1, p-value < 2.2e-16\n",
       "alternative hypothesis: two-sided\n"
      ]
     },
     "metadata": {},
     "output_type": "display_data"
    }
   ],
   "source": [
    "shapiro.test(SamplePlatinumPricesDecomposeM)\n",
    "ks.test(PlatinumPricesDecomposeM$random,\n",
    "        'pnorm',\n",
    "        mean=0,\n",
    "        sd=sqrt(var(na.omit(PlatinumPricesDecomposeM$random))))"
   ]
  },
  {
   "cell_type": "markdown",
   "metadata": {},
   "source": [
    "Shapiro-Wilk normallik testine göre W değeri küçülmüştür. Bu da arima(1,0,3) modeli uygulandıktan sonra kalan verinin normallikten uzaklaştığını göstermektedir. Fakat Kolmogorov-Smirnov testine göre zaman serisinin kalanının normal dağılıma daha çok yaklaştığı D test istatistiğinden görülmektedir. D değeri küçüldüğünden seri normalliğe daha da yaklaşmıştır. Kolmogorov testi tüm veri setini test ettiği için Shapiro-Wilk testine göre daha doğru sonuçlar vermektedir.\n",
    "\n",
    "AIC ve BIC değerleri aynı ayrıştırma modeli ile ayrıştırılmış (örneğin ikisi de toplamsal model olarak) fakat farklı arima modelleri uygulanmış veriler üzerinde daha doğru bir seçim kriteri oluşturmaktadır. Bu yüzden yukarıdaki tüm arima modelleri için auto.arima fonksiyonun sonuçları değerlendirilmeli ve normallik testleri uygulanmalıdır. Aşağıda bu işlemler gösterişmiştir.\n",
    "###### Toplamsal model;"
   ]
  },
  {
   "cell_type": "code",
   "execution_count": 123,
   "metadata": {
    "scrolled": true
   },
   "outputs": [
    {
     "name": "stdout",
     "output_type": "stream",
     "text": [
      "\n",
      "Call:\n",
      "arima(x = na.omit(PlatinumPricesDecomposeA$random), order = c(2, 0, 3))\n",
      "\n",
      "Coefficients:\n",
      "         ar1     ar2     ma1     ma2      ma3  intercept\n",
      "      0.6145  0.3648  0.4264  0.0327  -0.0334    -1.2656\n",
      "s.e.  0.4229  0.4160  0.4228  0.0276   0.0177     7.1933\n",
      "\n",
      "sigma^2 estimated as 74.96:  log likelihood = -24103.02,  aic = 48220.04\n",
      "\n",
      "Training set error measures:\n",
      "                       ME     RMSE      MAE       MPE     MAPE      MASE\n",
      "Training set -0.006093378 8.658167 5.563448 -36.68305 122.6026 0.9949691\n",
      "                     ACF1\n",
      "Training set 0.0002648121\n"
     ]
    },
    {
     "data": {
      "text/plain": [
       "\n",
       "\tShapiro-Wilk normality test\n",
       "\n",
       "data:  SampleWN2\n",
       "W = 0.90522, p-value < 2.2e-16\n"
      ]
     },
     "metadata": {},
     "output_type": "display_data"
    },
    {
     "data": {
      "text/plain": [
       "\n",
       "\tOne-sample Kolmogorov-Smirnov test\n",
       "\n",
       "data:  WhiteNoise2\n",
       "D = 0.10964, p-value < 2.2e-16\n",
       "alternative hypothesis: two-sided\n"
      ]
     },
     "metadata": {},
     "output_type": "display_data"
    }
   ],
   "source": [
    "PlatinumPricesArimaToplamsal<-arima(na.omit(PlatinumPricesDecomposeA$random),\n",
    "                                    order=c(2,0,3))\n",
    "summary(PlatinumPricesArimaToplamsal)\n",
    "WhiteNoise2<-PlatinumPricesArimaToplamsal$residuals\n",
    "SampleWN2<-sample(WhiteNoise2,5000,replace = TRUE)\n",
    "shapiro.test(SampleWN2)\n",
    "ks.test(WhiteNoise2, 'pnorm',mean=0,sd=sqrt(var(WhiteNoise2)))"
   ]
  },
  {
   "cell_type": "markdown",
   "metadata": {},
   "source": [
    "###### STL modeli;"
   ]
  },
  {
   "cell_type": "code",
   "execution_count": 124,
   "metadata": {
    "scrolled": true
   },
   "outputs": [
    {
     "name": "stdout",
     "output_type": "stream",
     "text": [
      "\n",
      "Call:\n",
      "arima(x = na.omit(PlatinumPricesSTL$time.series[, 3]), order = c(3, 0, 4))\n",
      "\n",
      "Coefficients:\n",
      "         ar1     ar2      ar3     ma1      ma2      ma3      ma4  intercept\n",
      "      0.1410  0.8912  -0.0613  0.8968  -0.0020  -0.0335  -0.0257    -0.9537\n",
      "s.e.  0.2782  0.0870   0.2215  0.2781   0.2394   0.0213   0.0146     6.5096\n",
      "\n",
      "sigma^2 estimated as 76.63:  log likelihood = -25483.07,  aic = 50984.14\n",
      "\n",
      "Training set error measures:\n",
      "                     ME     RMSE      MAE       MPE    MAPE      MASE\n",
      "Training set 0.01776671 8.753675 5.589093 -9.588775 81.3627 0.9948903\n",
      "                      ACF1\n",
      "Training set -0.0004916215\n"
     ]
    },
    {
     "data": {
      "text/plain": [
       "\n",
       "\tShapiro-Wilk normality test\n",
       "\n",
       "data:  SampleWN3\n",
       "W = 0.88775, p-value < 2.2e-16\n"
      ]
     },
     "metadata": {},
     "output_type": "display_data"
    },
    {
     "data": {
      "text/plain": [
       "\n",
       "\tOne-sample Kolmogorov-Smirnov test\n",
       "\n",
       "data:  WhiteNoise3\n",
       "D = 0.11418, p-value < 2.2e-16\n",
       "alternative hypothesis: two-sided\n"
      ]
     },
     "metadata": {},
     "output_type": "display_data"
    }
   ],
   "source": [
    "PlatinumPricesArimaSTL<-arima(na.omit(PlatinumPricesSTL$time.series[,3]),\n",
    "                              order=c(3,0,4))\n",
    "summary(PlatinumPricesArimaSTL)\n",
    "WhiteNoise3<-PlatinumPricesArimaSTL$residuals\n",
    "SampleWN3<-sample(WhiteNoise3,5000)\n",
    "shapiro.test(SampleWN3)\n",
    "ks.test(WhiteNoise3, 'pnorm',mean=0,sd=sqrt(var(WhiteNoise3)))"
   ]
  },
  {
   "cell_type": "markdown",
   "metadata": {},
   "source": [
    "###### Saf veri seti;"
   ]
  },
  {
   "cell_type": "code",
   "execution_count": 125,
   "metadata": {},
   "outputs": [
    {
     "name": "stdout",
     "output_type": "stream",
     "text": [
      "\n",
      "Call:\n",
      "arima(x = na.omit(PlatinumPrices[, 2]), order = c(5, 1, 3))\n",
      "\n",
      "Coefficients:\n"
     ]
    },
    {
     "name": "stderr",
     "output_type": "stream",
     "text": [
      "Warning message in sqrt(diag(x$var.coef)):\n",
      "\"NaNs üretimi\""
     ]
    },
    {
     "name": "stdout",
     "output_type": "stream",
     "text": [
      "         ar1     ar2      ar3     ar4     ar5      ma1      ma2     ma3\n",
      "      0.6484  0.5652  -0.8970  0.0658  0.0226  -0.6058  -0.5847  0.8413\n",
      "s.e.  0.0529     NaN   0.0567  0.0125  0.0140   0.0517      NaN  0.0627\n",
      "\n",
      "sigma^2 estimated as 81.27:  log likelihood = -25686.51,  aic = 51391.03\n",
      "\n",
      "Training set error measures:\n",
      "                     ME     RMSE      MAE        MPE    MAPE      MASE\n",
      "Training set -0.1092803 9.014238 5.432896 -0.0442018 1.34065 0.9993487\n",
      "                     ACF1\n",
      "Training set 0.0003001975\n"
     ]
    },
    {
     "data": {
      "text/plain": [
       "\n",
       "\tShapiro-Wilk normality test\n",
       "\n",
       "data:  SampleWN4\n",
       "W = 0.87877, p-value < 2.2e-16\n"
      ]
     },
     "metadata": {},
     "output_type": "display_data"
    },
    {
     "data": {
      "text/plain": [
       "\n",
       "\tOne-sample Kolmogorov-Smirnov test\n",
       "\n",
       "data:  WhiteNoise4\n",
       "D = 0.13891, p-value < 2.2e-16\n",
       "alternative hypothesis: two-sided\n"
      ]
     },
     "metadata": {},
     "output_type": "display_data"
    }
   ],
   "source": [
    "PlatinumPricesArimaPure<-arima(na.omit(PlatinumPrices[,2]),\n",
    "                               order=c(5,1,3))\n",
    "summary(PlatinumPricesArimaPure)\n",
    "WhiteNoise4<-PlatinumPricesArimaPure$residuals\n",
    "SampleWN4<-sample(WhiteNoise4,5000)\n",
    "shapiro.test(SampleWN4)\n",
    "ks.test(WhiteNoise4, 'pnorm',mean=0,sd=sqrt(var(WhiteNoise4)))"
   ]
  },
  {
   "cell_type": "markdown",
   "metadata": {},
   "source": [
    "Ayrıştırmalara göre uygun arima modeli uygulanmadan kalan $R_t$ serilerinin normalliği arima modeli uygulandığında kalan $R_t$ serilerinin normalliğinden daha iyi sonuca sahiptir. Bu da uygulanan arima modellerinin doğru olmadığını göstermektedir. Summary fonksiyonunun çıktısındaki hata ölçüm değerleri ile AIC değeri modellerin çarpımsal modele uygulanan Arima(1,0,3) modelinden daha hatalı sonuçlara sahip olduğunu gösterir.\n",
    "\t\n",
    "#### Sonuç\n",
    "Yukarıda yapılan testlere göre en iyi sonucun AIC ve BIC değerine göre en iyi sonucu veren çarpımsal modele uygulanan arima(1,0,3) modeliyle yapılan ayrıştırmaya göre olduğu görülmektedir. Veri setindeki tüm anomaliler çıkarıldıktan sonra kalan verinin beyaz gürültü olması beklenir. Beyaz gürültü fonksiyonu normal dağılıma sahiptir. Kalan verinin gürültü datası olup olmadığı test edilmiş ve gürültü datası olduğu sonucuna varılmıştır. Bu da veriye uygulanan ayrıştırma modellerinin doğru bir şekilde uygulandığını göstermektedir."
   ]
  },
  {
   "cell_type": "markdown",
   "metadata": {},
   "source": [
    "# Tahminleme\n",
    "Zaman serileri analizi ile temel hedeflerden biri, verilerin gelecekteki durumunu gösteren tahminler üretmektir.Bu tahminleme extrapolasyonla yapılır. Ekstrapolasyon her zaman doğru sonuçlar vermeyebilir ve yanlış sonuçlara yol açabilir. Tahminleme de aynı şekilde doğru yapılamayabilir.\n",
    "Sinyal içeren seriler gürültüye göre daha güçlü olduğu seriler oldukları için tahminlemenin doğru yapılması mümkündür. Bununla birlikte, gürültülü seriler için, tahminlerde büyük bir belirsizlik vardır ve bunlar çok kısa bir aralık için en güvenilirdir.\n",
    "Yukarıdakilerden yola çıkarak, belirsizliklerin ana kaynağının sürecin içindeki yenilikler olduğu söylenebilir. Doğru tahminleme yapabilmek için veri üretme sürecinin zaman içinde değişmediğinden, yani geçmişte gözlemlendiği gibi gelecekte devam edeceğinden emin olunmalıdır. Doğru model uygulansa dahi parametreler arasındaki ek belirsizlikler doğru tahminlemeyi etkilemektedir.\n",
    "\n",
    "Zaman serisi tahminlemelerine ilk olarak, durağan süreçleri tahmin etmek için kullanılan AR, MA ve ARMA süreçleriörnek olarak gösterilebilir. Trend içeren durağan olmayan seriler için ise ARIMA modeli ile tahminleme yapılabilir.\n",
    "\n",
    "## ARIMA ile Tahminleme\n",
    "Kalan $R_t$ yani Beyaz Gürültü gibi göründüğü bir zaman dizisindeki tahminleme ARIMA modeli ile yapılabilir.  Bu koşullar altında, tahminler kolayca hesaplanabilir\n",
    "\n",
    "Uygun ARIMA modelinin tanımlanan parametrelerin başarılı bir şekilde tahmin edildiği ve artıkların gerekli özellikleri sergilediği, yani Beyaz Gürültü gibi göründüğü bir zaman dizisi verildiğini varsayıyoruz. Bu koşullar altında, tahminler kolayca hesaplanabilir. \n",
    "\n",
    "Bu, istediğimiz bir $ARMA (p,q,r)$ modelinden herhangi bir tahmin üretmemizi sağlar. Bu prosedür aynı zamanda Box-Jenkins prosedürü olarak da bilinmektedir. R'da kullanılan, arima ()'dan sonra uygulanan forecast() fonksiyonunda Box-Jenkins şeması arka planda çalışmaktadır.\n",
    "\n",
    "Verilerinin modele uyarlanması ve 30 adımlık tahminlerin üretilmesi için R komutları aşağıdaki gibidir. Arima() orderleri belli modeli oluşturur ve forecast() fonksiyonu belirlenen modele göre verilen parametre kadar tahmin üretir. Oluşturulan tahminlemenin görselleştirilmesi için aşağıdaki R kodundan yararlanılabilir.İlk aşamada yaptığımız durağan olmayan zaman serileri için ayrıştırma aşamalarından yararlanılarak trend, mevsimsellik içermeyen seriler için tahmin üretilebilecektir. Yani çarpımsal ayrıştırmanın arima(1,0,3) modeline göre tahminlemesi yapılacaktır. Son 30 veriye kadar model uygulanacak ve daha sonra 30 adet tahmin yapılıp gerçek değerlerle tahminler karşılaştırılacatır."
   ]
  },
  {
   "cell_type": "code",
   "execution_count": 126,
   "metadata": {},
   "outputs": [
    {
     "data": {
      "image/png": "[encoded data removed]",
      "text/plain": [
       "Plot with title \"Forecasts from ARIMA(1,0,3) with non-zero mean\""
      ]
     },
     "metadata": {},
     "output_type": "display_data"
    }
   ],
   "source": [
    "m<-length(na.omit(PlatinumPricests))\n",
    "PlatinumPricesArimaForecast<-arima(na.omit(PlatinumPricests)[1:(m-29)],\n",
    "                                   order=c(1,0,3))\n",
    "tahmin <- forecast(PlatinumPricesArimaForecast,30)\n",
    "plot(tahmin)"
   ]
  },
  {
   "cell_type": "markdown",
   "metadata": {},
   "source": [
    "Aşağıda gerçek veriler ve arima modeliyle yapılan tahmin ile yapılan veriler için ortalama hata hesaplanmıştır. Bu değer tahminlemelerin karşılaştırılması için kullanılır."
   ]
  },
  {
   "cell_type": "markdown",
   "metadata": {},
   "source": [
    "Keşif analizi yaparken bulduğumuz uygun arima modeli olan (1,0,3) modeli uygulanarak yukarıdaki tahminleme yapılmıştır.\n",
    "\n",
    "## Holt-Winters Yöntemi ile Tahminleme\n",
    "Eğilim ve mevsimsellik sergileyen seriler için yapılan bir tahminleme yöntemidir.\n",
    "$$ a_t=\\alpha(x_t-s{t-p})-(1-\\alpha)(a_{t-1}+b_t{t-1})$$\n",
    "$$ b_t=\\beta(a_t-a_{t-1})-(1-\\beta)(b_{t-1})$$\n",
    "$$ s_t=\\gamma(x_t-a_t)-(1-\\gamma)(s{t-p})$$\n",
    "\n",
    "Buradaki $a_t$, t zamanındaki tekrar, $b_t$ eğim, $s_t$ mevsimsel etkidir. Seviye, eğim ve mevsimi hedefleyen üç düzeltme parametresi $\\alpha$,$\\beta$,$\\gamma$'dır.\n",
    "\n",
    "İlk denklem, seviye güncelleme denklemi, bir önceki periyodik mevsimsel etki terimi çıkarılan mevcut tahmini ile son seviyeli eğim ile bir önceki seviye tahmini ile ağırlıklı ortalamasını alır.\n",
    "\n",
    "İkinci güncelleme denklemi, mevcut seviye ve bir önceki seviye arasındaki farkın t-1 zamanında tahmini eğim ile ağırlıklı ortalamasını alır. Bu yalnızca mevcutsa hesaplanabilir.\n",
    "\n",
    "Son olarak, mevsimsel terim için, aynı birim için mevsimsel terimin önceki tahmini ile gözlem ve seviye arasındaki farkın ağırlıklı ortalaması alınarak, t-p zamanında yapılan bir başka tahmin daha elde edilir.\n",
    "\n",
    "R fonksiyonu HoltWinters () uygulandığında, başlangıç değerleri decompose () prosedüründen elde edilir ve SSPE1 minimizasyonu yoluyla yumuşatma parametrelerini tahmin etmek mümkündür.Parametre tahminini SSPE1 ile uygulanarak bulunur. Uygun seviye, eğilim ve mevsimsellik için mevcut tahminleri içerir. Çarpımsal model kullanılarak mevsimsellik ve trend içeren bir zaman serisinin tahmininde kullanılacak Holt Winters parametreleri aşağıdaki şekilde elde edilebilir. (Marcel Dettling,2014)"
   ]
  },
  {
   "cell_type": "code",
   "execution_count": 127,
   "metadata": {
    "scrolled": true
   },
   "outputs": [
    {
     "data": {
      "text/html": [
       "<strong>alpha:</strong> 0.894965163297902"
      ],
      "text/latex": [
       "\\textbf{alpha:} 0.894965163297902"
      ],
      "text/markdown": [
       "**alpha:** 0.894965163297902"
      ],
      "text/plain": [
       "    alpha \n",
       "0.8949652 "
      ]
     },
     "metadata": {},
     "output_type": "display_data"
    },
    {
     "data": {
      "text/html": [
       "<strong>gamma:</strong> 1"
      ],
      "text/latex": [
       "\\textbf{gamma:} 1"
      ],
      "text/markdown": [
       "**gamma:** 1"
      ],
      "text/plain": [
       "gamma \n",
       "    1 "
      ]
     },
     "metadata": {},
     "output_type": "display_data"
    },
    {
     "data": {
      "text/html": [
       "<strong>beta:</strong> 0.0012204938811373"
      ],
      "text/latex": [
       "\\textbf{beta:} 0.0012204938811373"
      ],
      "text/markdown": [
       "**beta:** 0.0012204938811373"
      ],
      "text/plain": [
       "       beta \n",
       "0.001220494 "
      ]
     },
     "metadata": {},
     "output_type": "display_data"
    }
   ],
   "source": [
    "PPHW <- HoltWinters(ts(na.omit(PlatinumPricests)[1:(m-29)],\n",
    "                    freq=365), \n",
    "                    seasonal = \"mult\")\n",
    "PPHW$alpha\n",
    "PPHW$gamma\n",
    "PPHW$beta"
   ]
  },
  {
   "cell_type": "markdown",
   "metadata": {},
   "source": [
    "Holt-Winters yönteminin alfa,gama ve beta sayıları yukarıda gösterilmiştir. Katsayı değerleri (n zamanında), yukarıda verilen formülle bu serilerden tahmin yapmak için kullanılanlardır. 30 basamaklı bir tahmin tahmin üretmek için aşağıdaki R komutundan yararlanılabilir."
   ]
  },
  {
   "cell_type": "code",
   "execution_count": 128,
   "metadata": {},
   "outputs": [
    {
     "data": {
      "image/png": "[encoded data removed]",
      "text/plain": [
       "Plot with title \"Holt-Winters filtering\""
      ]
     },
     "metadata": {},
     "output_type": "display_data"
    }
   ],
   "source": [
    "plot(PPHW)\n",
    "tahminHW<-predict(PPHW, n.ahead=30)\n",
    "lines(tahminHW, col=\"blue\", lty=4) "
   ]
  },
  {
   "cell_type": "markdown",
   "metadata": {},
   "source": [
    "### Uygun Tahminleme Yönteminin Seçilmesi\n",
    "Yukarıdaki ortalama hata karelerine göre arima ile yapılan tahminlemenin çok daha yakın sonuçlar verdiği gözlenmiştir.\n",
    "Ayrıca accuracy() fonksiyonu da tahminin doğru yapılıp yapılmadığını test etmektedir. Bunun için öncelikle saf veri setinin son 30 girdisini window() fonksiyonu ile oluşturmamız gerekmektedir. Daha sonra Accuracy() fonksiyonu ile tahmin ve gerçek veriler karşılaştırılır."
   ]
  },
  {
   "cell_type": "code",
   "execution_count": 129,
   "metadata": {},
   "outputs": [
    {
     "name": "stdout",
     "output_type": "stream",
     "text": [
      "[1] \"Accuracy Arima\"\n"
     ]
    },
    {
     "data": {
      "text/html": [
       "<table>\n",
       "<thead><tr><th></th><th scope=col>ME</th><th scope=col>RMSE</th><th scope=col>MAE</th><th scope=col>MPE</th><th scope=col>MAPE</th><th scope=col>ACF1</th><th scope=col>Theil's U</th></tr></thead>\n",
       "<tbody>\n",
       "\t<tr><th scope=row>Test set</th><td>3.029285 </td><td>4.732911 </td><td>4.027268 </td><td>2.335495 </td><td>3.178389 </td><td>0.9368898</td><td>4.097224 </td></tr>\n",
       "</tbody>\n",
       "</table>\n"
      ],
      "text/latex": [
       "\\begin{tabular}{r|lllllll}\n",
       "  & ME & RMSE & MAE & MPE & MAPE & ACF1 & Theil's U\\\\\n",
       "\\hline\n",
       "\tTest set & 3.029285  & 4.732911  & 4.027268  & 2.335495  & 3.178389  & 0.9368898 & 4.097224 \\\\\n",
       "\\end{tabular}\n"
      ],
      "text/markdown": [
       "\n",
       "| <!--/--> | ME | RMSE | MAE | MPE | MAPE | ACF1 | Theil's U | \n",
       "|---|\n",
       "| Test set | 3.029285  | 4.732911  | 4.027268  | 2.335495  | 3.178389  | 0.9368898 | 4.097224  | \n",
       "\n",
       "\n"
      ],
      "text/plain": [
       "         ME       RMSE     MAE      MPE      MAPE     ACF1      Theil's U\n",
       "Test set 3.029285 4.732911 4.027268 2.335495 3.178389 0.9368898 4.097224 "
      ]
     },
     "metadata": {},
     "output_type": "display_data"
    },
    {
     "name": "stdout",
     "output_type": "stream",
     "text": [
      "[1] \"Accuracy HW\"\n"
     ]
    },
    {
     "data": {
      "text/html": [
       "<table>\n",
       "<thead><tr><th></th><th scope=col>ME</th><th scope=col>RMSE</th><th scope=col>MAE</th><th scope=col>MPE</th><th scope=col>MAPE</th><th scope=col>ACF1</th><th scope=col>Theil's U</th></tr></thead>\n",
       "<tbody>\n",
       "\t<tr><th scope=row>Test set</th><td>6.837839 </td><td>10.79218 </td><td>8.720942 </td><td>5.273602 </td><td>6.860046 </td><td>0.9630936</td><td>9.308888 </td></tr>\n",
       "</tbody>\n",
       "</table>\n"
      ],
      "text/latex": [
       "\\begin{tabular}{r|lllllll}\n",
       "  & ME & RMSE & MAE & MPE & MAPE & ACF1 & Theil's U\\\\\n",
       "\\hline\n",
       "\tTest set & 6.837839  & 10.79218  & 8.720942  & 5.273602  & 6.860046  & 0.9630936 & 9.308888 \\\\\n",
       "\\end{tabular}\n"
      ],
      "text/markdown": [
       "\n",
       "| <!--/--> | ME | RMSE | MAE | MPE | MAPE | ACF1 | Theil's U | \n",
       "|---|\n",
       "| Test set | 6.837839  | 10.79218  | 8.720942  | 5.273602  | 6.860046  | 0.9630936 | 9.308888  | \n",
       "\n",
       "\n"
      ],
      "text/plain": [
       "         ME       RMSE     MAE      MPE      MAPE     ACF1      Theil's U\n",
       "Test set 6.837839 10.79218 8.720942 5.273602 6.860046 0.9630936 9.308888 "
      ]
     },
     "metadata": {},
     "output_type": "display_data"
    }
   ],
   "source": [
    "PP1Last30 <- window(na.omit(PlatinumPricests)[(m-29):m])\n",
    "tahminHW <- window(tahminHW)\n",
    "print(\"Accuracy Arima\")\n",
    "accuracy(tahmin$mean, PP1Last30)\n",
    "print(\"Accuracy HW\")\n",
    "accuracy(tahminHW, PP1Last30)"
   ]
  },
  {
   "cell_type": "markdown",
   "metadata": {},
   "source": [
    "$y_i$, i. gözlemi, $\\hat{y}_i$, i. gözlem için tahmini temsil etmek üzere hata terimi aşağıdaki şekilde ifade edilir.\n",
    "$$e_i=y_i-\\hat{y}_i$$\n",
    "En yaygın kullanılan ölçüm parametrelerinden bazıları mutlak hatalara veya karesel hatalara dayanmaktadır.\n",
    "$$Ortalama Mutlak Hata: MAE= mean(|e_i|)$$\n",
    "$$Ortalama Kareler Hata: RMSE=\\sqrt{mean(e_i)^2}$$\n",
    "Tahmin yöntemlerini tek bir veri kümesinde karşılaştırırken, MAE, anlaşılması ve hesaplanması kolay olduğu için daha çok tercih edilmektedir.\n",
    "\n",
    "Accuracy() foksiyonlarının çıktısına göre Arima ile yapılan tahminlemenin daha doğru sonuçlar verdiği gözlenmiştir.Buna göre Arima modeli ile tüm verilerin kullanılarak sonraki  30 gün için tahminleme yapılmıştır."
   ]
  },
  {
   "cell_type": "code",
   "execution_count": 130,
   "metadata": {
    "scrolled": true
   },
   "outputs": [
    {
     "data": {
      "image/png": "[encoded data removed]",
      "text/plain": [
       "Plot with title \"Forecasts from ARIMA(1,0,3) with non-zero mean\""
      ]
     },
     "metadata": {},
     "output_type": "display_data"
    }
   ],
   "source": [
    "PlatinumPricesArimaForecast<-arima(na.omit(PlatinumPricests),\n",
    "                                   order=c(1,0,3))\n",
    "tahmin <- forecast(PlatinumPricesArimaForecast,30)\n",
    "plot(tahmin)"
   ]
  },
  {
   "cell_type": "markdown",
   "metadata": {},
   "source": [
    "Uygun yöntem ile 30 günlük tahminleme yapıldıktan sonra başka bir analiz olan çok değişkenli zaman serilerinin analizi incelenecektir.\n",
    "\n",
    "# Çok Değişkenli Zaman Serileri Analizi\n",
    "\n",
    "Veriler genellikle birden fazla değişken üzerinde toplanır. Örneğin, ekonomide, günlük döviz kurları çok çeşitli para birimleri için kullanılabilir, ya da hidrolojik çalışmalarda, hem yağış hem de nehir akış ölçümleri ilgili bir alanda alınabilir. Zamanla ölçülen değişkenler genellikle benzer özellikler sergilediğinden, değişkenleri ilişkilendirmek için regresyon kullanılabilir. Bununla birlikte, zaman serileri değişkenlerinin regresyon modelleri yanıltıcı olabilmektedir. Bu durum sahte regresyon olarak adlandırılır.Zaman serileri değişkenleri için, nedensel ilişkiyi ortaya çıkarmadan önce dikkatli olunmalıdır, çünkü zaman serisinin içerdiği anomaliler nedeniyle belirgin bir ilişki görülebilir. Örneğin artan nüfus ile artan birbiriyle ilgili olmayan iki malın miktarı arasında ilişki gözlenebilir.\n",
    "\n",
    "## Dağıtılmış-Gecikmeli Model\n",
    "Dağıtılmış-gecikmeli bir model, X'in y üzerindeki bir seferlik etkisi değil zaman içinde meydana getirdiği etkinin dinamik modelidir.\n",
    "$$y_t=\\alpha + \\sum_{s=0}^{\\infty}\\beta_sx_{t-s}+u_t$$\n",
    "\n",
    "$u_t$, durağan bir hata terimidir. Bireysel katsayılar $\\beta_s$, gecikme ağırlıkları olarak adlandırılır ve toplu olarak gecikme dağılımını verir. X'in zamanla y'yi nasıl etkilediğini tanımlar.\n",
    "Denklemdeki sonsuz sayıda $\\beta$ katsayılarını tahmin edilmesi zordur. Pratik bir yöntem, gecikle dağılımı etkin bir şekilde sıfır olduğunda uygun olan gecikmeyi sonlu uzunluğa (q) kesmektir.Başka bir yaklaşım, denklemde gecikme dağılımının kademeli olarak sıfıra düşmesine izin veren fonksiyonel bir formun kullanılmasıdır.\n",
    "\n",
    "## Kovaryans\n",
    "Kovaryans, iki değişken arasında herhangi bir ilişki olup olmadığını gösterir.  Pozitif bir kovaryans değişkenler arasında pozitif bir doğrusal ilişki olduğunu ve negatif kovaryans ise negatif bir ilişkinin varlığını gösterir.Kovaryans aşağıdaki formül ile hesaplanır.\n",
    "$$ Cov_{xy} = \\frac {\\sum{(x_i-\\bar{x})(y_i-\\bar{y})}}{n-1} $$\n",
    "\n",
    "## Korelasyon\n",
    "Bir korelasyon, iki rastgele değişken arasındaki ilişkinin yönlü ölçüsüdür. Korelasyon iki değişken arasında tamamen simetriktir. Korelasyon analizi ile bağımsız değişken değiştiğinde,bağımlı değişkenin nasıl değişeceği saptanır. Korelasyon katsayısı -1 ile +1 arasında değerler alır. Korelasyon aşağıdaki formül ile ifade edilir. Buradaki $s_x,s_y$, x ve y'nin standart sapmasıdır.\n",
    "$$ Cor_{xy} = \\frac {Cov_{xy} }{s_x s_y} $$\n",
    "\n",
    "Çok değişkenli zaman serisi modellerinden çapraz korelasyon fonksiyonu ile açıklanacaktır.\n",
    "\n",
    "### Çapraz Korelasyon\n",
    "Çok değikenli zaman serilerinde ele alacağımız temel amaç, iki zaman dizisi arasındaki ilişkinin açıklaması ve modellenmesidir.İki zaman dizisi ($y_t$ ve $x_t$) arasındaki ilişkide, $y_t$ serisi, $x_t$ serisinin geçmiş gecikmeleriyle ilişkili olabilir. Çapraz korelasyon fonksiyonu (CCF),$y_t$'nin yararlı belirleyicileri olabilecek $x_t$ değişkeninin gecikme sürelerinin belirlenmesinde yardımcı olacaktır.\n",
    "R'de bulunan çapraz korelasyon fonksiyonu(CCF), $x_{t + h}$ ve $y_t$ arasında h = 0, ± 1, ± 2, ± 3 ve benzeri için örnek korelasyonları kümesi olarak tanımlanır. h için negatif bir değer, t'den önceki bir zamanda $x$ değişkeni ve t zamanında $y$ değişkeni arasında bir korelasyondur. Örneğin, h = −2'yi düşündüğümüzde CCF değeri, $x_{t-2}$ ve $y_t$ arasındaki korelasyonu vermektedir. \n",
    "\n",
    "Öncelikle olarak Platin fiyatlarının genel olarak birbirleriyle aralarındaki ilişki incelenecektir. Korelasyon rastgele iki değişken arasındaki ilişkinin gücünü ve yönünü belirtmek için kullanılır. Platinum fiyatları çoklu değişkene sahip olduğu için bu ilişkiyi bir matris ile tanımlayacağız. Korelasyon matrisi adı verilecek olan bu matris, çoklu değişkenler arasındaki korelasyon katsayılarını gösterir. Bu matris yardımı ile iki değişken arasında korelasyon kolaylıkla görülebilir. Daha sonra elde edilen bu matris R'da corrplot fonksiyonu ile görselleştirilebilir.\n"
   ]
  },
  {
   "cell_type": "code",
   "execution_count": 131,
   "metadata": {},
   "outputs": [
    {
     "data": {
      "text/html": [
       "<table>\n",
       "<thead><tr><th></th><th scope=col>USD AM</th><th scope=col>EUR AM</th><th scope=col>GBP AM</th><th scope=col>USD PM</th><th scope=col>EUR PM</th><th scope=col>GBP PM</th></tr></thead>\n",
       "<tbody>\n",
       "\t<tr><th scope=row>USD AM</th><td>1.0000000</td><td>0.9402564</td><td>0.9799582</td><td>0.9997618</td><td>0.9401898</td><td>0.9796096</td></tr>\n",
       "\t<tr><th scope=row>EUR AM</th><td>0.9402564</td><td>1.0000000</td><td>0.9558937</td><td>0.9399052</td><td>0.9997527</td><td>0.9554678</td></tr>\n",
       "\t<tr><th scope=row>GBP AM</th><td>0.9799582</td><td>0.9558937</td><td>1.0000000</td><td>0.9798888</td><td>0.9559534</td><td>0.9997818</td></tr>\n",
       "\t<tr><th scope=row>USD PM</th><td>0.9997618</td><td>0.9399052</td><td>0.9798888</td><td>1.0000000</td><td>0.9402683</td><td>0.9799462</td></tr>\n",
       "\t<tr><th scope=row>EUR PM</th><td>0.9401898</td><td>0.9997527</td><td>0.9559534</td><td>0.9402683</td><td>1.0000000</td><td>0.9559203</td></tr>\n",
       "\t<tr><th scope=row>GBP PM</th><td>0.9796096</td><td>0.9554678</td><td>0.9997818</td><td>0.9799462</td><td>0.9559203</td><td>1.0000000</td></tr>\n",
       "</tbody>\n",
       "</table>\n"
      ],
      "text/latex": [
       "\\begin{tabular}{r|llllll}\n",
       "  & USD AM & EUR AM & GBP AM & USD PM & EUR PM & GBP PM\\\\\n",
       "\\hline\n",
       "\tUSD AM & 1.0000000 & 0.9402564 & 0.9799582 & 0.9997618 & 0.9401898 & 0.9796096\\\\\n",
       "\tEUR AM & 0.9402564 & 1.0000000 & 0.9558937 & 0.9399052 & 0.9997527 & 0.9554678\\\\\n",
       "\tGBP AM & 0.9799582 & 0.9558937 & 1.0000000 & 0.9798888 & 0.9559534 & 0.9997818\\\\\n",
       "\tUSD PM & 0.9997618 & 0.9399052 & 0.9798888 & 1.0000000 & 0.9402683 & 0.9799462\\\\\n",
       "\tEUR PM & 0.9401898 & 0.9997527 & 0.9559534 & 0.9402683 & 1.0000000 & 0.9559203\\\\\n",
       "\tGBP PM & 0.9796096 & 0.9554678 & 0.9997818 & 0.9799462 & 0.9559203 & 1.0000000\\\\\n",
       "\\end{tabular}\n"
      ],
      "text/markdown": [
       "\n",
       "| <!--/--> | USD AM | EUR AM | GBP AM | USD PM | EUR PM | GBP PM | \n",
       "|---|---|---|---|---|---|\n",
       "| USD AM | 1.0000000 | 0.9402564 | 0.9799582 | 0.9997618 | 0.9401898 | 0.9796096 | \n",
       "| EUR AM | 0.9402564 | 1.0000000 | 0.9558937 | 0.9399052 | 0.9997527 | 0.9554678 | \n",
       "| GBP AM | 0.9799582 | 0.9558937 | 1.0000000 | 0.9798888 | 0.9559534 | 0.9997818 | \n",
       "| USD PM | 0.9997618 | 0.9399052 | 0.9798888 | 1.0000000 | 0.9402683 | 0.9799462 | \n",
       "| EUR PM | 0.9401898 | 0.9997527 | 0.9559534 | 0.9402683 | 1.0000000 | 0.9559203 | \n",
       "| GBP PM | 0.9796096 | 0.9554678 | 0.9997818 | 0.9799462 | 0.9559203 | 1.0000000 | \n",
       "\n",
       "\n"
      ],
      "text/plain": [
       "       USD AM    EUR AM    GBP AM    USD PM    EUR PM    GBP PM   \n",
       "USD AM 1.0000000 0.9402564 0.9799582 0.9997618 0.9401898 0.9796096\n",
       "EUR AM 0.9402564 1.0000000 0.9558937 0.9399052 0.9997527 0.9554678\n",
       "GBP AM 0.9799582 0.9558937 1.0000000 0.9798888 0.9559534 0.9997818\n",
       "USD PM 0.9997618 0.9399052 0.9798888 1.0000000 0.9402683 0.9799462\n",
       "EUR PM 0.9401898 0.9997527 0.9559534 0.9402683 1.0000000 0.9559203\n",
       "GBP PM 0.9796096 0.9554678 0.9997818 0.9799462 0.9559203 1.0000000"
      ]
     },
     "metadata": {},
     "output_type": "display_data"
    },
    {
     "data": {
      "image/png": "[encoded data removed]",
      "text/plain": [
       "Plot with title \"\""
      ]
     },
     "metadata": {},
     "output_type": "display_data"
    }
   ],
   "source": [
    "cormat<-cor(na.omit(PlatinumPrices[,c(2:7)]))\n",
    "cormat\n",
    "corrplot(cormat, method = \"color\")"
   ]
  },
  {
   "cell_type": "markdown",
   "metadata": {},
   "source": [
    "Tabloda görüldüğü üzere aynı para birimi cinsinden açılış fiyatları ile kapanış fiyatları ilişkilidir.Ayrıca tabloda görüldüğü üzere herhangi bir para birimi cinsinden açılış fiyatları başka bir açılış fiyatıyla, kapanış fiyatına göre daha çok ilişkilidir. Grafikte ise tablonun görselleştirilmiş hali görülmektedir. Mavi tonları koyulaştıkça değişkenler arasındaki ilişki pozitif yönde artış göstermektedir. \n",
    "\n",
    "Genel olarak para birimleri arasındaki ilişki incelendikten sonra dolar cinsinden açılış ve kapanış fiyatlarının arasındaki ilişki saptanacaktır. Aşağıda öncelikle aralarındaki korelasyonu inceleyeceğimiz dolar cinsinden cuma günü kapanış fiyatı ile pazartesi günü açılış fiyatlarının verimizden ayrıştırılması gerekmektedir. Bunun için aşağıdaki R kodları kullanılmaktadır."
   ]
  },
  {
   "cell_type": "code",
   "execution_count": 132,
   "metadata": {},
   "outputs": [],
   "source": [
    "for (i in 1:7){\n",
    "PlatinumPrices[,i]<-rev(PlatinumPrices[,i])\n",
    "    }\n",
    "PlatinumPricesDolarAM<-PlatinumPrices[,2]\n",
    "PlatinumPricesDolarPM<-PlatinumPrices[,5]\n",
    "Monday<-c(TRUE,FALSE,FALSE,FALSE,FALSE)\n",
    "Friday<-c(FALSE,FALSE,FALSE,FALSE,TRUE)\n",
    "n<-length(PlatinumPricesDolarAM)\n",
    "P<-rep(Monday,n/5)\n",
    "C<-rep(Friday,n/5)\n",
    "PAM<-subset(PlatinumPricesDolarAM,P[TRUE])\n",
    "PPM<-subset(PlatinumPricesDolarPM,C[TRUE])"
   ]
  },
  {
   "cell_type": "markdown",
   "metadata": {},
   "source": [
    "Aralarındaki korelasyona bakacağımız cuma kapanış fiyatı ile pazartesi açılış fiyatları çarpraz korelasyon R'daki ccf() fonksiyonu yardımı ile bulunabilir."
   ]
  },
  {
   "cell_type": "code",
   "execution_count": 133,
   "metadata": {
    "scrolled": true
   },
   "outputs": [
    {
     "data": {
      "text/plain": [
       "\n",
       "Autocorrelations of series 'X', by lag\n",
       "\n",
       "  -20   -19   -18   -17   -16   -15   -14   -13   -12   -11   -10    -9    -8 \n",
       "0.851 0.858 0.864 0.871 0.878 0.884 0.890 0.896 0.903 0.909 0.915 0.921 0.927 \n",
       "   -7    -6    -5    -4    -3    -2    -1     0     1     2     3     4     5 \n",
       "0.933 0.939 0.946 0.952 0.959 0.966 0.972 0.978 0.980 0.982 0.982 0.982 0.981 \n",
       "    6     7     8     9    10    11    12    13    14    15    16    17    18 \n",
       "0.979 0.976 0.973 0.970 0.965 0.960 0.953 0.947 0.941 0.935 0.928 0.922 0.916 \n",
       "   19    20 \n",
       "0.909 0.904 "
      ]
     },
     "metadata": {},
     "output_type": "display_data"
    },
    {
     "data": {
      "image/png": "[encoded data removed]",
      "text/plain": [
       "Plot with title \"na.omit(PAM) & na.omit(PPM)\""
      ]
     },
     "metadata": {},
     "output_type": "display_data"
    }
   ],
   "source": [
    "ccfvalues <- ccf (na.omit(PAM), na.omit(PPM), lag = 20)\n",
    "ccfvalues"
   ]
  },
  {
   "cell_type": "markdown",
   "metadata": {},
   "source": [
    "Yukarıdaki grafikten anlaşılacağı üzere en yüksek çapraz korelasyon katsayıları -5 ile 0 arasında meydana gelmektedir.  Gecikmeleri tam olarak grafikten okumak zordur, bu yüzden ccf'nin listelenmesi daha doğru sonuçlar verecektir. Yukarıda yapılan listelemeye göre cuma kapanış fiyatı 2,3,4 sonraki pazartesi açılış fiyatından etkilenmektedir."
   ]
  },
  {
   "cell_type": "markdown",
   "metadata": {},
   "source": [
    "# Değerlendirme\n",
    "\n",
    "Bir zaman serisi,  değişkenlerin zaman içinde belirli sabit bir aralıkta ölçüldüğünde, elde edilen veriler ile oluşturmaktadır.  Zaman serilerindeki analizin amacı; geçmiş verilerdeki anomalileri saptamak, birbirleriyle ilişkilerini gözlemlemek ve gelecek için tahminleme yapabilmektir. Anomalilerin çıkarılmasının nedeni verideki anormalilerin çok çeşitli uygulama alanlarında önemli ve eyleme geçirilebilir bilgilere dönüşebilir olmasıdır. \n",
    "\n",
    "Analize başlamadan önce ilk olarak veri seti uygun şekilde yüklenmiş ve zaman serisine dönüştürülmüştür. Daha sonra verinin özeti oluşturulmuş ve grafiği çizilerek verinin anlamlandırılması sağlanmıştır. \n",
    "\n",
    "Zaman serisi analizindeki ilk aşamada verinin içindeki anomaliler saptanmış ve çıkartılmıştır. Bunun için bir dizi yöntemler uygulanmıştır. Öncelikle bu aşamada mevsimsellik ve trend gibi bileşenlerin çıkarılmıştır. Mevsimsellik ve trend bileşenlerinin veriden uzaklaştırmak için ayrıştırma işlemleri yapılmıştır. Bu ayrıştırma yöntemleri; toplamsal ve çarpımsal yöntem ile STL ile ayrıştırma yöntemidir. Bu üç ayrıştırma yöntemi veriye uygulandıktan sonra kalanın gürültü verisine uygun olması beklenir. Gürültü,  sıfır ortalamalı gaussian (normal) dağılıma sahip rastgele değişkendir. Fakat bu yöntemlerden kalan verinin gürültüden farklı olduğu istatiksel yöntemlerle gösterilmiştir. Bu da veri setinin içinde hala bazı sinyallerinin olduğunu göstermektedir.Veri seti içindeki tüm sinyallerin çıkarılması için Box-Jenkins yöntemleri uygulanmıştır.\n",
    "\n",
    "Ayrıştırma yöntemleriyle verinin içindeki üssel dağılıma sahip bazı sinyaller çıkarılmıştır. Fakat arima modeli uygulanmadan önce verinin durağanlığı istatiksel yöntemlerle test edilmiştir. Bu istatiksel yöntemler sonucunda verinin durağan olduğu sonucuna varılmıştır. Daha sonra uygun arima modelinin AIC,BIC değerlerinin küçük olan ARIMA(1,0,3) modeli olduğu saptanmıştır. ARIMA(1,0,3) modelinden kalan veriye normallik testleri uygulanmıştır ve sinyaller çıkarıldıktan sonra verinin gürültü olduğu istatiksel yöntemlerle bulunmuştur.\n",
    "\n",
    "Analizin ikinci aşamasında tahminleme işlemi yapılmıştır. Tahminleme için arima ve Holt-Winters yöntemleri kullanılmıştır. Yapılan bu iki tahminlemenin istatiksel olarak ortalama kareler hatası ve ortalama mutlak hatası sonuçlarına göre iyi sonuçlar veren modeli olan ARIMA modeli seçilmiştir. Bu arima modeli kullanılarak önümüzdeki 30 gün için tahminleme yapılmıştır.\n",
    "\n",
    "Analizdeki üçüncü aşamasında çok değişkenli zaman serileri için korelasyon ve kovaryans incelenmiştir. Veri setimizdeki platin fiyatlarının tüm para birimleri acısından açılış ve kapanış fiyatları arasındaki korelasyon değerleri bulunmuştur. Daha sonra cuma kapanış fiyatları ile pazartesi açılış fiyatları arasındaki korelasyon incelenmiş ve cuma kapanış fiyatı 2,3,4 sonraki pazartesi açılış fiyatından etkilendiği saptanmıştır."
   ]
  },
  {
   "cell_type": "markdown",
   "metadata": {},
   "source": [
    "# Kaynakça\n",
    "\n",
    "[1] Paul S.P. Cowpertwait · Andrew V. Metcalfe (2005). Introductory Time Series with R\n",
    "\n",
    "[2] Peter J. Brockwell, Richard A. Davis (2002). Introduction to Time Series and Forecasting\n",
    "\n",
    "[3] Dr. Marcel Dettling (2014). Applied Time Series Analysis \n",
    "\n",
    "[4] Peter J. Brockwell, Richard A. Davis (2009). Time Series: Theory and Methods\n",
    "\n",
    "[5] Christian Kleiber, Achim Zeileis (2008) Applied Econometrics with R\n",
    "\n",
    "[6] A. Ian McLeod, Hao Yu, Esam Mahdi (2011) Time Series Analysis with R\n",
    "\n",
    "[7] Robert H. Shumway, David S. Stoffer (2011) Time Series Analysis and Its Applications\n",
    "\n"
   ]
  }
 ],
 "metadata": {
  "kernelspec": {
   "display_name": "R",
   "language": "R",
   "name": "ir"
  },
  "language_info": {
   "codemirror_mode": "r",
   "file_extension": ".r",
   "mimetype": "text/x-r-source",
   "name": "R",
   "pygments_lexer": "r",
   "version": "3.4.2"
  }
 },
 "nbformat": 4,
 "nbformat_minor": 2
}
